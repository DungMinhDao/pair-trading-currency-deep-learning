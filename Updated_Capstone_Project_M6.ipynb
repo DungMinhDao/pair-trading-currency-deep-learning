{
  "cells": [
    {
      "cell_type": "markdown",
      "metadata": {
        "id": "TzyQmexpdfsb"
      },
      "source": [
        "# Capstone Final Notebook\n",
        "## 1. Import Libraries"
      ]
    },
    {
      "cell_type": "code",
      "execution_count": null,
      "metadata": {
        "colab": {
          "base_uri": "https://localhost:8080/"
        },
        "id": "er3ITXJl2Aqu",
        "outputId": "5656be48-d3c9-48a3-fc17-89bf283ae9f2"
      },
      "outputs": [
        {
          "name": "stdout",
          "output_type": "stream",
          "text": [
            "Collecting ta\n",
            "  Downloading ta-0.11.0.tar.gz (25 kB)\n",
            "  Preparing metadata (setup.py) ... \u001b[?25l\u001b[?25hdone\n",
            "Requirement already satisfied: numpy in /usr/local/lib/python3.11/dist-packages (from ta) (2.0.2)\n",
            "Requirement already satisfied: pandas in /usr/local/lib/python3.11/dist-packages (from ta) (2.2.2)\n",
            "Requirement already satisfied: python-dateutil>=2.8.2 in /usr/local/lib/python3.11/dist-packages (from pandas->ta) (2.9.0.post0)\n",
            "Requirement already satisfied: pytz>=2020.1 in /usr/local/lib/python3.11/dist-packages (from pandas->ta) (2025.2)\n",
            "Requirement already satisfied: tzdata>=2022.7 in /usr/local/lib/python3.11/dist-packages (from pandas->ta) (2025.2)\n",
            "Requirement already satisfied: six>=1.5 in /usr/local/lib/python3.11/dist-packages (from python-dateutil>=2.8.2->pandas->ta) (1.17.0)\n",
            "Building wheels for collected packages: ta\n",
            "  Building wheel for ta (setup.py) ... \u001b[?25l\u001b[?25hdone\n",
            "  Created wheel for ta: filename=ta-0.11.0-py3-none-any.whl size=29412 sha256=6b7935c037bacd3b65e887fd0d03785c7524427d4bf8aaff822afc5394cb93f3\n",
            "  Stored in directory: /root/.cache/pip/wheels/a1/d7/29/7781cc5eb9a3659d032d7d15bdd0f49d07d2b24fec29f44bc4\n",
            "Successfully built ta\n",
            "Installing collected packages: ta\n",
            "Successfully installed ta-0.11.0\n"
          ]
        }
      ],
      "source": [
        "!pip install ta"
      ]
    },
    {
      "cell_type": "code",
      "execution_count": null,
      "metadata": {
        "colab": {
          "base_uri": "https://localhost:8080/"
        },
        "id": "MaBKdBfI2ODM",
        "outputId": "4888f6e6-1678-414e-818d-162270efa997"
      },
      "outputs": [
        {
          "name": "stdout",
          "output_type": "stream",
          "text": [
            "Collecting optuna\n",
            "  Downloading optuna-4.3.0-py3-none-any.whl.metadata (17 kB)\n",
            "Collecting alembic>=1.5.0 (from optuna)\n",
            "  Downloading alembic-1.15.2-py3-none-any.whl.metadata (7.3 kB)\n",
            "Collecting colorlog (from optuna)\n",
            "  Downloading colorlog-6.9.0-py3-none-any.whl.metadata (10 kB)\n",
            "Requirement already satisfied: numpy in /usr/local/lib/python3.11/dist-packages (from optuna) (2.0.2)\n",
            "Requirement already satisfied: packaging>=20.0 in /usr/local/lib/python3.11/dist-packages (from optuna) (24.2)\n",
            "Requirement already satisfied: sqlalchemy>=1.4.2 in /usr/local/lib/python3.11/dist-packages (from optuna) (2.0.40)\n",
            "Requirement already satisfied: tqdm in /usr/local/lib/python3.11/dist-packages (from optuna) (4.67.1)\n",
            "Requirement already satisfied: PyYAML in /usr/local/lib/python3.11/dist-packages (from optuna) (6.0.2)\n",
            "Requirement already satisfied: Mako in /usr/lib/python3/dist-packages (from alembic>=1.5.0->optuna) (1.1.3)\n",
            "Requirement already satisfied: typing-extensions>=4.12 in /usr/local/lib/python3.11/dist-packages (from alembic>=1.5.0->optuna) (4.13.2)\n",
            "Requirement already satisfied: greenlet>=1 in /usr/local/lib/python3.11/dist-packages (from sqlalchemy>=1.4.2->optuna) (3.2.2)\n",
            "Downloading optuna-4.3.0-py3-none-any.whl (386 kB)\n",
            "\u001b[2K   \u001b[90m━━━━━━━━━━━━━━━━━━━━━━━━━━━━━━━━━━━━━━━━\u001b[0m \u001b[32m386.6/386.6 kB\u001b[0m \u001b[31m8.4 MB/s\u001b[0m eta \u001b[36m0:00:00\u001b[0m\n",
            "\u001b[?25hDownloading alembic-1.15.2-py3-none-any.whl (231 kB)\n",
            "\u001b[2K   \u001b[90m━━━━━━━━━━━━━━━━━━━━━━━━━━━━━━━━━━━━━━━━\u001b[0m \u001b[32m231.9/231.9 kB\u001b[0m \u001b[31m22.9 MB/s\u001b[0m eta \u001b[36m0:00:00\u001b[0m\n",
            "\u001b[?25hDownloading colorlog-6.9.0-py3-none-any.whl (11 kB)\n",
            "Installing collected packages: colorlog, alembic, optuna\n",
            "Successfully installed alembic-1.15.2 colorlog-6.9.0 optuna-4.3.0\n"
          ]
        }
      ],
      "source": [
        "!pip install optuna"
      ]
    },
    {
      "cell_type": "code",
      "execution_count": null,
      "metadata": {
        "id": "RymhpCIrdfsd"
      },
      "outputs": [],
      "source": [
        "# Data Handling and Numerical Operations\n",
        "import pandas as pd\n",
        "import numpy as np\n",
        "from typing import Union, List, Dict\n",
        "import sys\n",
        "\n",
        "# Financial Data and Technical Indicators\n",
        "import yfinance as yf\n",
        "import ta\n",
        "\n",
        "# Visualization\n",
        "import matplotlib.pyplot as plt\n",
        "import seaborn as sns\n",
        "\n",
        "# Machine Learning and Optimization\n",
        "import optuna\n",
        "from sklearn.model_selection import TimeSeriesSplit\n",
        "from sklearn.ensemble import RandomForestRegressor\n",
        "from sklearn.preprocessing import MinMaxScaler\n",
        "from sklearn.metrics import mean_squared_error\n",
        "import xgboost as xgb\n",
        "from xgboost import XGBRegressor\n",
        "import statsmodels.api as sm\n",
        "from statsmodels.tsa.stattools import adfuller\n",
        "\n",
        "# Deep Learning\n",
        "import tensorflow as tf\n",
        "from tensorflow.keras.models import Model\n",
        "from tensorflow.keras.layers import Input, LSTM, Dense, Dropout, RepeatVector, TimeDistributed\n",
        "from tensorflow.keras.models import Sequential\n",
        "from tensorflow.keras.layers import Conv1D, MaxPooling1D, Flatten\n",
        "from tensorflow.keras.optimizers import Adam\n",
        "\n",
        "# Performance Metrics and Utilities\n",
        "from sklearn.metrics import mean_absolute_error, r2_score\n",
        "import warnings\n",
        "import logging\n",
        "import time\n",
        "from joblib import Parallel, delayed  # For parallel processing\n",
        "\n",
        "# Suppress warnings\n",
        "warnings.filterwarnings('ignore')\n",
        "\n",
        "# Set up logging\n",
        "logging.basicConfig(level=logging.INFO, format='%(asctime)s - %(levelname)s - %(message)s')\n",
        "\n",
        "# Set plot style\n",
        "plt.style.use('seaborn-v0_8-darkgrid')\n",
        "sns.set_palette(\"deep\")\n",
        "\n",
        "# Set random seeds for reproducibility\n",
        "np.random.seed(42)\n",
        "tf.random.set_seed(42)"
      ]
    },
    {
      "cell_type": "markdown",
      "metadata": {
        "id": "QSr2uorMdfse"
      },
      "source": [
        "## 2. Set Configuration Parameters"
      ]
    },
    {
      "cell_type": "code",
      "execution_count": null,
      "metadata": {
        "id": "xOaURExJdfsf"
      },
      "outputs": [],
      "source": [
        "# Configuration dictionary for flexibility across markets\n",
        "CONFIG = {\n",
        "    'markets': ['EURUSD=X'],\n",
        "    'start_date': '2014-01-01',\n",
        "    'end_date': '2024-01-01',\n",
        "    'short_window': 50,\n",
        "    'long_window': 200,\n",
        "    'lookback': 20,\n",
        "    'entry_threshold': 1.5,\n",
        "    'exit_threshold': 0.5,\n",
        "    'max_position': 1,\n",
        "    'stop_loss': 0.02,\n",
        "    'atr_period': 14,\n",
        "    'autoencoder_epochs': 50,\n",
        "    'autoencoder_batch_size': 32,\n",
        "    'encoding_dim': 4,\n",
        "    'model_epochs': 20,\n",
        "    'model_batch_size': 32,\n",
        "    'test_window_size': 50,\n",
        "}"
      ]
    },
    {
      "cell_type": "markdown",
      "metadata": {
        "id": "Pz6mZH6udfsf"
      },
      "source": [
        "## 3. Define Utility Functions"
      ]
    },
    {
      "cell_type": "code",
      "execution_count": null,
      "metadata": {
        "id": "KotJuiL_dfsg"
      },
      "outputs": [],
      "source": [
        "def calculate_atr(df: pd.DataFrame, period: int) -> pd.Series:\n",
        "    \"\"\"\n",
        "    Calculate the Average True Range (ATR) for dynamic risk management.\n",
        "\n",
        "    Args:\n",
        "        df: DataFrame with 'High', 'Low', 'Close' columns.\n",
        "        period: Lookback period for ATR calculation.\n",
        "\n",
        "    Returns:\n",
        "        pd.Series: ATR values.\n",
        "    \"\"\"\n",
        "    high_low = df['High'] - df['Low']\n",
        "    high_close = np.abs(df['High'] - df['Close'].shift())\n",
        "    low_close = np.abs(df['Low'] - df['Close'].shift())\n",
        "    true_range = pd.concat([high_low, high_close, low_close], axis=1).max(axis=1)\n",
        "    return true_range.rolling(window=period).mean()\n",
        "\n",
        "def sortino_ratio(returns: pd.Series, target: float = 0, annual_factor: int = 252) -> float:\n",
        "    \"\"\"\n",
        "    Calculate the Sortino Ratio (downside risk-adjusted return).\n",
        "\n",
        "    Args:\n",
        "        returns: Series of strategy returns.\n",
        "        target: Target return (default 0).\n",
        "        annual_factor: Annualization factor (default 252 trading days).\n",
        "\n",
        "    Returns:\n",
        "        float: Sortino Ratio.\n",
        "    \"\"\"\n",
        "    downside_returns = returns[returns < target]\n",
        "    downside_deviation = np.sqrt(np.mean(downside_returns**2)) * np.sqrt(annual_factor) if not downside_returns.empty else 0\n",
        "    annualized_return = returns.mean() * annual_factor\n",
        "    return annualized_return / downside_deviation if downside_deviation != 0 else 0\n",
        "\n",
        "def calmar_ratio(cumulative_returns: pd.Series, annual_factor: int = 252) -> float:\n",
        "    \"\"\"\n",
        "    Calculate the Calmar Ratio (return over max drawdown).\n",
        "\n",
        "    Args:\n",
        "        cumulative_returns: Series of cumulative returns.\n",
        "        annual_factor: Annualization factor (default 252 trading days).\n",
        "\n",
        "    Returns:\n",
        "        float: Calmar Ratio.\n",
        "    \"\"\"\n",
        "    annualized_return = (cumulative_returns.iloc[-1] / cumulative_returns.iloc[0]) ** (annual_factor / len(cumulative_returns)) - 1\n",
        "    rolling_max = cumulative_returns.cummax()\n",
        "    drawdown = (cumulative_returns / rolling_max - 1)\n",
        "    max_drawdown = abs(drawdown.min())\n",
        "    return annualized_return / max_drawdown if max_drawdown != 0 else 0"
      ]
    },
    {
      "cell_type": "markdown",
      "metadata": {
        "id": "Wn0ft0Nqdfsg"
      },
      "source": [
        "## 4. Fetch Market Data"
      ]
    },
    {
      "cell_type": "code",
      "execution_count": null,
      "metadata": {
        "colab": {
          "base_uri": "https://localhost:8080/"
        },
        "id": "jcHc_XK2dfsg",
        "outputId": "cd844b8d-9422-458b-80c4-ae5c57a0dc2d"
      },
      "outputs": [
        {
          "name": "stdout",
          "output_type": "stream",
          "text": [
            "\n",
            "Cleaned data sample for EURUSD=X:\n",
            "        Date      Open      High       Low     Close  Volume\n",
            "0 2014-01-01  1.374495  1.377904  1.374400  1.374495       0\n",
            "1 2014-01-02  1.376595  1.377467  1.363271  1.376671       0\n",
            "2 2014-01-03  1.366624  1.367297  1.360170  1.366662       0\n",
            "3 2014-01-06  1.359582  1.364610  1.357279  1.359601       0\n",
            "4 2014-01-07  1.363066  1.365799  1.359878  1.363196       0\n"
          ]
        }
      ],
      "source": [
        "def get_market_data(tickers: List[str], start_date: str, end_date: str) -> Dict[str, pd.DataFrame]:\n",
        "    \"\"\"\n",
        "    Download and process market data for specified tickers.\n",
        "\n",
        "    Args:\n",
        "        tickers: List of ticker symbols.\n",
        "        start_date: Data start date (YYYY-MM-DD).\n",
        "        end_date: Data end date (YYYY-MM-DD).\n",
        "\n",
        "    Returns:\n",
        "        Dictionary mapping ticker symbols to cleaned DataFrames.\n",
        "    \"\"\"\n",
        "    if pd.to_datetime(start_date) >= pd.to_datetime(end_date):\n",
        "        raise ValueError(\"start_date must be earlier than end_date\")\n",
        "\n",
        "    data_dict = {}\n",
        "    for ticker in tickers:\n",
        "        logging.info(f\"Downloading data for {ticker}...\")\n",
        "        attempts = 0\n",
        "        success = False\n",
        "        is_forex = '=' in ticker\n",
        "        max_attempts = 5\n",
        "\n",
        "        while attempts < max_attempts and not success:\n",
        "            try:\n",
        "                data = yf.download(ticker, start=start_date, end=end_date, progress=False, ignore_tz=True)\n",
        "                if data.empty:\n",
        "                    logging.warning(f\"No data found for {ticker}.\")\n",
        "                    break\n",
        "\n",
        "                if isinstance(data.columns, pd.MultiIndex):\n",
        "                    data.columns = [col[0] for col in data.columns]\n",
        "\n",
        "                pair_data = data.reset_index().rename(columns={'index': 'Date'})\n",
        "                pair_data['Date'] = pd.to_datetime(pair_data['Date'])\n",
        "\n",
        "                required_cols = ['Open', 'High', 'Low', 'Close']\n",
        "                available_cols = pair_data.columns.tolist()\n",
        "                missing_cols = [col for col in required_cols if col not in available_cols]\n",
        "                if missing_cols:\n",
        "                    logging.warning(f\"{ticker} missing columns {missing_cols}. Attempting fallback...\")\n",
        "                if 'Close' not in pair_data.columns and 'Adj Close' in pair_data.columns:\n",
        "                    pair_data['Close'] = pair_data['Adj Close']\n",
        "                    required_cols.remove('Close')\n",
        "\n",
        "                pair_data[required_cols] = pair_data[required_cols].fillna(method='ffill')\n",
        "                pair_data = pair_data.dropna(subset=['Close'])\n",
        "\n",
        "                pair_data['Volume'] = 0 if (is_forex or 'Volume' not in pair_data.columns) else pair_data['Volume'].fillna(0)\n",
        "\n",
        "                final_cols = ['Date', 'Open', 'High', 'Low', 'Close', 'Volume']\n",
        "                pair_data = pair_data[final_cols]\n",
        "\n",
        "                logging.info(f\"{ticker} - Data points: {len(pair_data)} | NaNs remaining: {pair_data.isna().sum().sum()}\")\n",
        "                print(f\"\\nCleaned data sample for {ticker}:\")\n",
        "                print(pair_data.head())\n",
        "\n",
        "                data_dict[ticker] = pair_data\n",
        "                success = True\n",
        "\n",
        "            except Exception as e:\n",
        "                logging.error(f\"Error fetching/processing {ticker}: {e}\")\n",
        "                attempts += 1\n",
        "                time.sleep(2 ** attempts)\n",
        "                if attempts == max_attempts:\n",
        "                    logging.error(f\"Failed to process {ticker} after {attempts} attempts.\")\n",
        "\n",
        "    return data_dict\n",
        "\n",
        "# Fetch data\n",
        "data_dict = get_market_data(CONFIG['markets'], CONFIG['start_date'], CONFIG['end_date'])"
      ]
    },
    {
      "cell_type": "markdown",
      "metadata": {
        "id": "oh2OSmgOdfsh"
      },
      "source": [
        "## 5. Preprocessing and Feature Engineering"
      ]
    },
    {
      "cell_type": "code",
      "execution_count": null,
      "metadata": {
        "colab": {
          "base_uri": "https://localhost:8080/"
        },
        "id": "BRUC6IDddfsh",
        "outputId": "1e391bf7-e438-412b-adeb-e63a8e8ecae5"
      },
      "outputs": [
        {
          "name": "stdout",
          "output_type": "stream",
          "text": [
            "Metrics after preprocessing - Rows: 2381, NaN count: 0\n",
            "Sample feature stats:\n",
            "       Log_Returns          RSI         MACD   Volatility\n",
            "count  2381.000000  2381.000000  2381.000000  2381.000000\n",
            "mean     -0.000050    49.062652    -0.000522     0.004833\n",
            "std       0.005100    11.303718     0.005979     0.001705\n",
            "min      -0.028144    16.508668    -0.023900     0.001770\n",
            "25%      -0.003016    41.271144    -0.004184     0.003731\n",
            "50%      -0.000047    48.649255    -0.000731     0.004478\n",
            "75%       0.002879    56.788663     0.003235     0.005602\n",
            "max       0.028145    81.588468     0.014898     0.011325\n"
          ]
        }
      ],
      "source": [
        "def create_moving_average_spread(df: pd.DataFrame, short_window: int, long_window: int, price_col: str = 'Close') -> pd.DataFrame:\n",
        "    \"\"\"\n",
        "    Create moving averages and synthetic spread.\n",
        "\n",
        "    Args:\n",
        "        df: Input DataFrame with price data.\n",
        "        short_window: Short-term MA window.\n",
        "        long_window: Long-term MA window.\n",
        "        price_col: Column name for price data.\n",
        "\n",
        "    Returns:\n",
        "        pd.DataFrame: DataFrame with MA and spread columns.\n",
        "    \"\"\"\n",
        "    try:\n",
        "        df = df.copy()\n",
        "        df['MA_Short'] = df[price_col].rolling(window=short_window).mean()\n",
        "        df['MA_Long'] = df[price_col].rolling(window=long_window).mean()\n",
        "        df['Synthetic_Spread'] = df[price_col] - df['MA_Short']\n",
        "        df['MA_Spread'] = df['MA_Short'] - df['MA_Long']\n",
        "        df = df.dropna()\n",
        "        logging.info(f\"Data after spread creation: {len(df)} rows\")\n",
        "        return df\n",
        "    except Exception as e:\n",
        "        logging.error(f\"Error during spread creation: {e}\")\n",
        "        return pd.DataFrame()\n",
        "\n",
        "def feature_engineering(df: pd.DataFrame, price_col: str = 'Close') -> pd.DataFrame:\n",
        "    \"\"\"\n",
        "    Add technical indicators as features.\n",
        "\n",
        "    Args:\n",
        "        df: Input DataFrame with price data.\n",
        "        price_col: Column name for price data.\n",
        "\n",
        "    Returns:\n",
        "        pd.DataFrame: DataFrame with additional features.\n",
        "    \"\"\"\n",
        "    try:\n",
        "        df = df.copy()\n",
        "        df['Log_Returns'] = np.log(df[price_col] / df[price_col].shift(1))\n",
        "        df['RSI'] = ta.momentum.RSIIndicator(df[price_col], window=14).rsi()\n",
        "        macd = ta.trend.MACD(df[price_col])\n",
        "        df['MACD'] = macd.macd()\n",
        "        bb = ta.volatility.BollingerBands(df[price_col])\n",
        "        df['Bollinger_Upper'] = bb.bollinger_hband()\n",
        "        df['Bollinger_Lower'] = bb.bollinger_lband()\n",
        "        df['MA_Cross'] = (df['MA_Short'] > df['MA_Long']).astype(int)\n",
        "        df['Volatility'] = df['Log_Returns'].rolling(window=20).std()\n",
        "        df = df.dropna()\n",
        "        logging.info(f\"Data after feature engineering: {len(df)} rows\")\n",
        "        return df\n",
        "    except Exception as e:\n",
        "        logging.error(f\"Error during feature engineering: {e}\")\n",
        "        return pd.DataFrame()\n",
        "\n",
        "# Apply preprocessing\n",
        "for ticker, data in data_dict.items():\n",
        "    data = create_moving_average_spread(data, CONFIG['short_window'], CONFIG['long_window'], price_col='Close')\n",
        "    data = feature_engineering(data, price_col='Close')\n",
        "    data_dict[ticker] = data\n",
        "\n",
        "# Assign processed data to a variable for later use\n",
        "data = data_dict[CONFIG['markets'][0]]\n",
        "\n",
        "# Metrics after preprocessing\n",
        "print(f\"Metrics after preprocessing - Rows: {len(data)}, NaN count: {data.isna().sum().sum()}\")\n",
        "print(f\"Sample feature stats:\\n{data[['Log_Returns', 'RSI', 'MACD', 'Volatility']].describe()}\")\n"
      ]
    },
    {
      "cell_type": "markdown",
      "metadata": {
        "id": "8EJdEkoMdfsi"
      },
      "source": [
        "## 6. LSTM-based Autoencoder with Hyperparameter Tuning"
      ]
    },
    {
      "cell_type": "code",
      "execution_count": null,
      "metadata": {
        "colab": {
          "background_save": true,
          "base_uri": "https://localhost:8080/"
        },
        "id": "KSbxcX8Hdfsi",
        "outputId": "3e6b9973-96fe-454b-becf-862a31eb9765"
      },
      "outputs": [
        {
          "name": "stdout",
          "output_type": "stream",
          "text": [
            "Debug: X_scaled shape = (2381, 6), NaN count = 0\n",
            "Debug: X_seq shape for autoencoder = (2361, 20, 6)\n"
          ]
        },
        {
          "name": "stderr",
          "output_type": "stream",
          "text": [
            "[I 2025-05-21 17:37:23,287] A new study created in memory with name: no-name-cef91bab-f24a-487b-aaea-5a532b99b5cf\n",
            "[I 2025-05-21 17:38:43,789] Trial 0 finished with value: 0.004056053701788187 and parameters: {'lstm_units': 81, 'learning_rate': 0.00019087155303934743, 'epochs': 22}. Best is trial 0 with value: 0.004056053701788187.\n",
            "[I 2025-05-21 17:42:13,598] Trial 1 finished with value: 0.0039698961190879345 and parameters: {'lstm_units': 64, 'learning_rate': 0.000166602051106297, 'epochs': 71}. Best is trial 1 with value: 0.0039698961190879345.\n",
            "[I 2025-05-21 17:53:27,266] Trial 2 finished with value: 0.00441566901281476 and parameters: {'lstm_units': 140, 'learning_rate': 0.0015920438839524458, 'epochs': 84}. Best is trial 1 with value: 0.0039698961190879345.\n",
            "[I 2025-05-21 17:58:13,133] Trial 3 finished with value: 0.002994741313159466 and parameters: {'lstm_units': 95, 'learning_rate': 0.0003808924608955566, 'epochs': 62}. Best is trial 3 with value: 0.002994741313159466.\n",
            "[I 2025-05-21 18:04:19,836] Trial 4 finished with value: 0.0047763935290277 and parameters: {'lstm_units': 101, 'learning_rate': 0.0002115255539062175, 'epochs': 81}. Best is trial 3 with value: 0.002994741313159466.\n",
            "[I 2025-05-21 18:07:51,624] Trial 5 finished with value: 0.003468557493761182 and parameters: {'lstm_units': 78, 'learning_rate': 0.0003042004563660221, 'epochs': 66}. Best is trial 3 with value: 0.002994741313159466.\n",
            "[I 2025-05-21 18:14:46,890] Trial 6 finished with value: 0.0036644425708800554 and parameters: {'lstm_units': 97, 'learning_rate': 0.00022690979317894193, 'epochs': 91}. Best is trial 3 with value: 0.002994741313159466.\n",
            "[I 2025-05-21 18:21:18,222] Trial 7 finished with value: 0.00395797798410058 and parameters: {'lstm_units': 149, 'learning_rate': 0.0018778423819451537, 'epochs': 40}. Best is trial 3 with value: 0.002994741313159466.\n",
            "[I 2025-05-21 18:34:42,378] Trial 8 finished with value: 0.004529399331659079 and parameters: {'lstm_units': 129, 'learning_rate': 0.0008727306984791039, 'epochs': 98}. Best is trial 3 with value: 0.002994741313159466.\n",
            "[I 2025-05-21 18:42:27,758] Trial 9 finished with value: 0.003575831651687622 and parameters: {'lstm_units': 148, 'learning_rate': 0.0008857096892095484, 'epochs': 51}. Best is trial 3 with value: 0.002994741313159466.\n",
            "[I 2025-05-21 18:47:44,954] Trial 10 finished with value: 0.004963872022926807 and parameters: {'lstm_units': 115, 'learning_rate': 0.009545283990509383, 'epochs': 48}. Best is trial 3 with value: 0.002994741313159466.\n",
            "[I 2025-05-21 18:50:56,917] Trial 11 finished with value: 0.004441890399903059 and parameters: {'lstm_units': 53, 'learning_rate': 0.0004506446386614311, 'epochs': 67}. Best is trial 3 with value: 0.002994741313159466.\n",
            "[I 2025-05-21 18:53:59,841] Trial 12 finished with value: 0.003724403213709593 and parameters: {'lstm_units': 80, 'learning_rate': 0.0004411404213870027, 'epochs': 58}. Best is trial 3 with value: 0.002994741313159466.\n",
            "[I 2025-05-21 18:59:01,721] Trial 13 finished with value: 0.0032612571958452463 and parameters: {'lstm_units': 83, 'learning_rate': 0.00046749339745214404, 'epochs': 69}. Best is trial 3 with value: 0.002994741313159466.\n",
            "[I 2025-05-21 19:01:35,078] Trial 14 finished with value: 0.0037535305600613356 and parameters: {'lstm_units': 100, 'learning_rate': 0.0001085498278145447, 'epochs': 35}. Best is trial 3 with value: 0.002994741313159466.\n",
            "[I 2025-05-21 19:08:05,986] Trial 15 finished with value: 0.0039611016400158405 and parameters: {'lstm_units': 114, 'learning_rate': 0.0005641428003874193, 'epochs': 74}. Best is trial 3 with value: 0.002994741313159466.\n",
            "[I 2025-05-21 19:12:19,526] Trial 16 finished with value: 0.00395976984873414 and parameters: {'lstm_units': 90, 'learning_rate': 0.0036805968685194018, 'epochs': 57}. Best is trial 3 with value: 0.002994741313159466.\n",
            "[I 2025-05-21 19:16:22,520] Trial 17 finished with value: 0.0036998747382313013 and parameters: {'lstm_units': 67, 'learning_rate': 0.001587013638073112, 'epochs': 83}. Best is trial 3 with value: 0.002994741313159466.\n",
            "[I 2025-05-21 19:21:58,384] Trial 18 finished with value: 0.0035577144008129835 and parameters: {'lstm_units': 117, 'learning_rate': 0.0006318037584074294, 'epochs': 44}. Best is trial 3 with value: 0.002994741313159466.\n",
            "[I 2025-05-21 19:25:01,613] Trial 19 finished with value: 0.004113049246370792 and parameters: {'lstm_units': 65, 'learning_rate': 0.00011376767906443006, 'epochs': 62}. Best is trial 3 with value: 0.002994741313159466.\n"
          ]
        },
        {
          "name": "stdout",
          "output_type": "stream",
          "text": [
            "Metrics after autoencoder tuning - Best validation loss: 0.002994741313159466\n",
            "Best parameters: {'lstm_units': 95, 'learning_rate': 0.0003808924608955566, 'epochs': 62}\n",
            "Metrics after autoencoder training - Final training loss: 0.002092593815177679\n",
            "Debug: Reconstruction_Error added, shape = (2381,), NaN count = 20\n",
            "Debug: y_seq shape = (2361,), X_flat shape = (2361, 6)\n",
            "Metrics after autoencoder testing - Mean reconstruction MSE: 0.0020585637509190997\n"
          ]
        }
      ],
      "source": [
        "def create_autoencoder(input_shape, lstm_units, encoding_dim):\n",
        "    \"\"\"Create an LSTM autoencoder model.\"\"\"\n",
        "    # Encoder\n",
        "    inputs = Input(shape=input_shape)\n",
        "    encoded = LSTM(lstm_units, activation='relu', return_sequences=True)(inputs)\n",
        "    encoded = LSTM(int(lstm_units / 2), activation='relu')(encoded)\n",
        "    encoded = RepeatVector(input_shape[0])(encoded)  # Repeat to match original sequence length\n",
        "\n",
        "    # Decoder\n",
        "    decoded = LSTM(int(lstm_units / 2), activation='relu', return_sequences=True)(encoded)\n",
        "    decoded = LSTM(lstm_units, activation='relu', return_sequences=True)(decoded)\n",
        "    decoded = TimeDistributed(Dense(input_shape[-1]))(decoded)  # Output layer to match feature dimension\n",
        "\n",
        "    autoencoder = Model(inputs, decoded)\n",
        "    autoencoder.compile(optimizer=Adam(learning_rate=0.001), loss='mse')\n",
        "    return autoencoder\n",
        "\n",
        "def objective(trial):\n",
        "    \"\"\"Objective function for Optuna hyperparameter tuning.\"\"\"\n",
        "    lstm_units = trial.suggest_int('lstm_units', 50, 150)\n",
        "    learning_rate = trial.suggest_float('learning_rate', 1e-4, 0.01, log=True)\n",
        "    epochs = trial.suggest_int('epochs', 20, 100)\n",
        "\n",
        "    autoencoder = create_autoencoder((CONFIG['lookback'], X_scaled.shape[1]), lstm_units, CONFIG['encoding_dim'])\n",
        "    history = autoencoder.fit(X_seq, X_seq, epochs=epochs, batch_size=CONFIG['autoencoder_batch_size'],\n",
        "                             validation_split=0.2, verbose=0)\n",
        "    val_loss = min(history.history['val_loss'])\n",
        "    return val_loss\n",
        "\n",
        "# Prepare data for autoencoder\n",
        "X_scaled = MinMaxScaler().fit_transform(data[['Log_Returns', 'RSI', 'MACD', 'Bollinger_Upper', 'Bollinger_Lower', 'Volatility']].values)\n",
        "print(f\"Debug: X_scaled shape = {X_scaled.shape}, NaN count = {np.isnan(X_scaled).sum()}\", flush=True)\n",
        "\n",
        "X_seq = []\n",
        "for i in range(len(X_scaled) - CONFIG['lookback']):\n",
        "    X_seq.append(X_scaled[i:(i + CONFIG['lookback'])])\n",
        "X_seq = np.array(X_seq)\n",
        "print(f\"Debug: X_seq shape for autoencoder = {X_seq.shape}\", flush=True)\n",
        "\n",
        "# Hyperparameter tuning\n",
        "study = optuna.create_study(direction='minimize')\n",
        "study.optimize(objective, n_trials=20)\n",
        "best_params = study.best_params\n",
        "\n",
        "# Metrics after tuning\n",
        "print(f\"Metrics after autoencoder tuning - Best validation loss: {study.best_value}\")\n",
        "print(f\"Best parameters: {best_params}\")\n",
        "\n",
        "# Train final autoencoder\n",
        "autoencoder = create_autoencoder((CONFIG['lookback'], X_scaled.shape[1]), best_params['lstm_units'], CONFIG['encoding_dim'])\n",
        "history = autoencoder.fit(X_seq, X_seq, epochs=best_params['epochs'], batch_size=CONFIG['autoencoder_batch_size'], verbose=0)\n",
        "\n",
        "# Metrics after training\n",
        "train_loss = min(history.history['loss'])\n",
        "print(f\"Metrics after autoencoder training - Final training loss: {train_loss}\")\n",
        "\n",
        "# Compute reconstruction error\n",
        "X_pred = autoencoder.predict(X_seq, verbose=0)\n",
        "reconstruction_error = np.mean(np.square(X_pred - X_seq), axis=(1, 2))\n",
        "data['Reconstruction_Error'] = np.nan\n",
        "data.iloc[CONFIG['lookback']:, data.columns.get_loc('Reconstruction_Error')] = reconstruction_error\n",
        "print(f\"Debug: Reconstruction_Error added, shape = {data['Reconstruction_Error'].shape}, NaN count = {data['Reconstruction_Error'].isna().sum()}\", flush=True)\n",
        "\n",
        "# Update X_seq and y_seq for walk-forward (using Log_Returns as target)\n",
        "y_seq = data['Log_Returns'].values[CONFIG['lookback']:]  # Adjusted to align with lookback\n",
        "X_flat = X_scaled[CONFIG['lookback']:]  # Adjusted to align with lookback\n",
        "print(f\"Debug: y_seq shape = {y_seq.shape}, X_flat shape = {X_flat.shape}\", flush=True)\n",
        "\n",
        "# Metrics after testing (reconstruction error evaluation)\n",
        "reconstruction_mse = np.mean(reconstruction_error)\n",
        "print(f\"Metrics after autoencoder testing - Mean reconstruction MSE: {reconstruction_mse}\")\n",
        "\n",
        "# Comment: Added autoencoder to compute Reconstruction_Error for anomaly-aware trade management, with metrics for tuning, training, and testing."
      ]
    },
    {
      "cell_type": "markdown",
      "metadata": {
        "id": "sLA3dPKpuLbn"
      },
      "source": [
        "## 7. Define Model Creation Functions"
      ]
    },
    {
      "cell_type": "code",
      "execution_count": null,
      "metadata": {
        "colab": {
          "background_save": true
        },
        "id": "UZLU4BYCuLbn"
      },
      "outputs": [],
      "source": [
        "def create_lstm_model(input_shape, units, learning_rate):\n",
        "    model = Sequential([\n",
        "        LSTM(units, input_shape=input_shape, return_sequences=True),\n",
        "        Dropout(0.2),\n",
        "        LSTM(int(units / 2)),\n",
        "        Dropout(0.2),\n",
        "        Dense(1)\n",
        "    ])\n",
        "    model.compile(optimizer=Adam(learning_rate=learning_rate), loss='mse')\n",
        "    return model\n",
        "\n",
        "def create_cnn_lstm_model(input_shape, filters, kernel_size, lstm_units):\n",
        "    model = Sequential([\n",
        "        Conv1D(filters=filters, kernel_size=kernel_size, activation='relu', input_shape=input_shape),\n",
        "        MaxPooling1D(pool_size=2),\n",
        "        LSTM(lstm_units, return_sequences=True),\n",
        "        Dropout(0.2),\n",
        "        LSTM(int(lstm_units / 2)),\n",
        "        Dropout(0.2),\n",
        "        Dense(1)\n",
        "    ])\n",
        "    model.compile(optimizer=Adam(learning_rate=0.001), loss='mse')\n",
        "    return model\n",
        "\n",
        "# Comment: Defined model creation functions for LSTM and CNN-LSTM to be used in walk-forward validation."
      ]
    },
    {
      "cell_type": "markdown",
      "metadata": {
        "id": "T7REfSOAuLbo"
      },
      "source": [
        "## 8. Prepare Data for Walk-Forward Validation"
      ]
    },
    {
      "cell_type": "code",
      "execution_count": null,
      "metadata": {
        "colab": {
          "background_save": true
        },
        "id": "qJOP6pPyuLbo"
      },
      "outputs": [],
      "source": [
        "# Initialize an empty dictionary to store best parameters after tuning\n",
        "best_params_dict = {}\n",
        "# Comment: Will populate best_params_dict with tuned parameters in the walk-forward validation section."
      ]
    },
    {
      "cell_type": "markdown",
      "metadata": {
        "id": "PtbySgg7dfsl"
      },
      "source": [
        "## 9. Walk-Forward Validation Step"
      ]
    },
    {
      "cell_type": "code",
      "execution_count": null,
      "metadata": {
        "colab": {
          "background_save": true
        },
        "id": "ptfeGIgmdfsl"
      },
      "outputs": [],
      "source": [
        "# Define Optuna objective functions for each model\n",
        "def objective_lstm(trial, X_train, y_train, input_shape, config):\n",
        "    units = trial.suggest_int('units', 50, 150)\n",
        "    learning_rate = trial.suggest_float('learning_rate', 1e-4, 0.01, log=True)\n",
        "\n",
        "    model = create_lstm_model(input_shape=input_shape, units=units, learning_rate=learning_rate)\n",
        "    model.fit(X_train, y_train, epochs=config['model_epochs'], batch_size=config['model_batch_size'], verbose=0)\n",
        "\n",
        "    # Evaluate on training data (since we're in a walk-forward step, validation data is the next window)\n",
        "    y_pred = model.predict(X_train, verbose=0).flatten()\n",
        "    mse = mean_squared_error(y_train, y_pred)\n",
        "    return mse\n",
        "\n",
        "def objective_cnn_lstm(trial, X_train, y_train, input_shape, config):\n",
        "    filters = trial.suggest_int('filters', 16, 64)\n",
        "    kernel_size = trial.suggest_int('kernel_size', 2, 5)\n",
        "    lstm_units = trial.suggest_int('lstm_units', 50, 150)\n",
        "\n",
        "    model = create_cnn_lstm_model(input_shape=input_shape, filters=filters, kernel_size=kernel_size, lstm_units=lstm_units)\n",
        "    model.fit(X_train, y_train, epochs=config['model_epochs'], batch_size=config['model_batch_size'], verbose=0)\n",
        "\n",
        "    y_pred = model.predict(X_train, verbose=0).flatten()\n",
        "    mse = mean_squared_error(y_train, y_pred)\n",
        "    return mse\n",
        "\n",
        "def objective_random_forest(trial, X_train, y_train):\n",
        "    n_estimators = trial.suggest_int('n_estimators', 50, 200)\n",
        "    max_depth = trial.suggest_int('max_depth', 5, 20)\n",
        "\n",
        "    model = RandomForestRegressor(n_estimators=n_estimators, max_depth=max_depth, random_state=42)\n",
        "    model.fit(X_train, y_train)\n",
        "\n",
        "    y_pred = model.predict(X_train)\n",
        "    mse = mean_squared_error(y_train, y_pred)\n",
        "    return mse\n",
        "\n",
        "def objective_xgboost(trial, X_train, y_train):\n",
        "    n_estimators = trial.suggest_int('n_estimators', 50, 200)\n",
        "    max_depth = trial.suggest_int('max_depth', 3, 10)\n",
        "    learning_rate = trial.suggest_float('learning_rate', 1e-3, 0.3, log=True)\n",
        "\n",
        "    model = XGBRegressor(n_estimators=n_estimators, max_depth=max_depth, learning_rate=learning_rate, random_state=42)\n",
        "    model.fit(X_train, y_train)\n",
        "\n",
        "    y_pred = model.predict(X_train)\n",
        "    mse = mean_squared_error(y_train, y_pred)\n",
        "    return mse\n",
        "\n",
        "def walk_forward_step(model_name: str, model_type: str, train_idx: np.ndarray, test_idx: np.ndarray,\n",
        "                      X_seq: np.ndarray, X_flat: np.ndarray, y: np.ndarray, best_params: dict,\n",
        "                      config: dict):\n",
        "    if model_type == 'sequence':\n",
        "        X_train, X_test = X_seq[train_idx], X_seq[test_idx]\n",
        "    else:\n",
        "        X_train, X_test = X_flat[train_idx], X_flat[test_idx]\n",
        "    y_train, y_test = y[train_idx], y[test_idx]\n",
        "\n",
        "    scaler = MinMaxScaler()\n",
        "    X_train_scaled = scaler.fit_transform(X_train.reshape(-1, X_train.shape[-1])).reshape(X_train.shape)\n",
        "    X_test_scaled = scaler.transform(X_test.reshape(-1, X_test.shape[-1])).reshape(X_test.shape)\n",
        "\n",
        "    if np.any(np.isnan(X_train_scaled)) or np.any(np.isnan(X_test_scaled)):\n",
        "        raise ValueError(f\"[{model_name}] X_train_scaled or X_test_scaled contains NaN values\")\n",
        "\n",
        "    if np.any(np.isnan(y_train)) or np.any(np.isinf(y_train)):\n",
        "        raise ValueError(f\"[{model_name}] y_train contains NaN or Inf values\")\n",
        "\n",
        "    if model_name == 'LSTM':\n",
        "        model = create_lstm_model(input_shape=(X_train.shape[1], X_train.shape[2]),\n",
        "                                 units=best_params['LSTM']['units'],\n",
        "                                 learning_rate=best_params['LSTM']['learning_rate'])\n",
        "        model.fit(X_train_scaled, y_train, epochs=config['model_epochs'], batch_size=config['model_batch_size'], verbose=0)\n",
        "        preds = model.predict(X_test_scaled, verbose=0).flatten()\n",
        "    elif model_name == 'CNN-LSTM':\n",
        "        model = create_cnn_lstm_model(input_shape=(X_train.shape[1], X_train.shape[2]),\n",
        "                                     filters=best_params['CNN-LSTM']['filters'],\n",
        "                                     kernel_size=best_params['CNN-LSTM']['kernel_size'],\n",
        "                                     lstm_units=best_params['CNN-LSTM']['lstm_units'])\n",
        "        model.fit(X_train_scaled, y_train, epochs=config['model_epochs'], batch_size=config['model_batch_size'], verbose=0)\n",
        "        preds = model.predict(X_test_scaled, verbose=0).flatten()\n",
        "    elif model_name == 'RandomForest':\n",
        "        model = RandomForestRegressor(n_estimators=best_params['RandomForest']['n_estimators'],\n",
        "                                     max_depth=best_params['RandomForest']['max_depth'],\n",
        "                                     random_state=42)\n",
        "        model.fit(X_train_scaled.reshape(X_train_scaled.shape[0], -1), y_train)\n",
        "        preds = model.predict(X_test_scaled.reshape(X_test_scaled.shape[0], -1))\n",
        "    elif model_name == 'XGBoost':\n",
        "        model = XGBRegressor(n_estimators=best_params['XGBoost']['n_estimators'],\n",
        "                            max_depth=best_params['XGBoost']['max_depth'],\n",
        "                            learning_rate=best_params['XGBoost']['learning_rate'],\n",
        "                            random_state=42)\n",
        "        model.fit(X_train_scaled.reshape(X_train_scaled.shape[0], -1), y_train)\n",
        "        preds = model.predict(X_test_scaled.reshape(X_test_scaled.shape[0], -1))\n",
        "    elif model_name == 'OLS':\n",
        "        X_train_scaled = X_train_scaled.reshape(X_train_scaled.shape[0], -1)\n",
        "        X_test_scaled = X_test_scaled.reshape(X_test_scaled.shape[0], -1)\n",
        "        X_train_scaled_with_const = sm.add_constant(X_train_scaled, has_constant='add')\n",
        "        model = sm.OLS(y_train, X_train_scaled_with_const).fit()\n",
        "        X_test_scaled_with_const = sm.add_constant(X_test_scaled, has_constant='add')\n",
        "        preds = model.predict(X_test_scaled_with_const)\n",
        "    else:\n",
        "        raise ValueError(f\"Unsupported model: {model_name}\")\n",
        "\n",
        "    # Metrics after testing this step\n",
        "    mse = mean_squared_error(y_test, preds)\n",
        "    mae = mean_absolute_error(y_test, preds)\n",
        "    r2 = r2_score(y_test, preds) if len(np.unique(y_test)) > 1 else 0\n",
        "    print(f\"[{model_name}] Metrics - MSE: {mse:.6f}, MAE: {mae:.6f}, R2: {r2:.6f}\")\n",
        "\n",
        "    return test_idx, preds\n",
        "\n",
        "# Comment: Added Optuna objective functions for each model and updated walk-forward step to use tuned parameters."
      ]
    },
    {
      "cell_type": "markdown",
      "metadata": {
        "id": "ydx-zeKRuLbp"
      },
      "source": [
        "## 10. Walk-Forward Retrain and Predict"
      ]
    },
    {
      "cell_type": "code",
      "execution_count": null,
      "metadata": {
        "colab": {
          "background_save": true
        },
        "id": "e8AOFg8fuLbp"
      },
      "outputs": [],
      "source": [
        "def tune_model(model_name: str, model_type: str, X_seq: np.ndarray, X_flat: np.ndarray,\n",
        "               y: np.ndarray, test_window_size: int, config: dict) -> dict:\n",
        "    \"\"\"Tune hyperparameters for a given model using Optuna.\"\"\"\n",
        "    # Use the first window for tuning\n",
        "    if model_type == 'sequence':\n",
        "        X_subset = X_seq[:test_window_size]\n",
        "    else:\n",
        "        X_subset = X_flat[:test_window_size]\n",
        "    y_subset = y[:test_window_size]\n",
        "\n",
        "    scaler = MinMaxScaler()\n",
        "    X_subset_scaled = scaler.fit_transform(X_subset.reshape(-1, X_subset.shape[-1])).reshape(X_subset.shape)\n",
        "\n",
        "    if np.any(np.isnan(X_subset_scaled)) or np.any(np.isnan(y_subset)):\n",
        "        raise ValueError(f\"[{model_name}] Subset data for tuning contains NaN values\")\n",
        "\n",
        "    study = optuna.create_study(direction='minimize')\n",
        "    if model_name == 'LSTM':\n",
        "        study.optimize(lambda trial: objective_lstm(trial, X_subset_scaled, y_subset,\n",
        "                                                    (X_subset.shape[1], X_subset.shape[2]), config),\n",
        "                       n_trials=20)\n",
        "        best_params = {\n",
        "            'units': study.best_params['units'],\n",
        "            'learning_rate': study.best_params['learning_rate']\n",
        "        }\n",
        "    elif model_name == 'CNN-LSTM':\n",
        "        study.optimize(lambda trial: objective_cnn_lstm(trial, X_subset_scaled, y_subset,\n",
        "                                                        (X_subset.shape[1], X_subset.shape[2]), config),\n",
        "                       n_trials=20)\n",
        "        best_params = {\n",
        "            'filters': study.best_params['filters'],\n",
        "            'kernel_size': study.best_params['kernel_size'],\n",
        "            'lstm_units': study.best_params['lstm_units']\n",
        "        }\n",
        "    elif model_name == 'RandomForest':\n",
        "        study.optimize(lambda trial: objective_random_forest(trial, X_subset_scaled.reshape(X_subset_scaled.shape[0], -1), y_subset),\n",
        "                       n_trials=20)\n",
        "        best_params = {\n",
        "            'n_estimators': study.best_params['n_estimators'],\n",
        "            'max_depth': study.best_params['max_depth']\n",
        "        }\n",
        "    elif model_name == 'XGBoost':\n",
        "        study.optimize(lambda trial: objective_xgboost(trial, X_subset_scaled.reshape(X_subset_scaled.shape[0], -1), y_subset),\n",
        "                       n_trials=20)\n",
        "        best_params = {\n",
        "            'n_estimators': study.best_params['n_estimators'],\n",
        "            'max_depth': study.best_params['max_depth'],\n",
        "            'learning_rate': study.best_params['learning_rate']\n",
        "        }\n",
        "    elif model_name == 'OLS':\n",
        "        best_params = {}  # No tuning for OLS\n",
        "    else:\n",
        "        raise ValueError(f\"Unsupported model for tuning: {model_name}\")\n",
        "\n",
        "    print(f\"[{model_name}] Best parameters from tuning: {best_params}\")\n",
        "    return best_params\n",
        "\n",
        "def walk_forward_retrain_and_predict(model_name: str, model_type: str, X_seq: np.ndarray, X_flat: np.ndarray,\n",
        "                                     y: np.ndarray, test_window_size: int, config: dict) -> np.ndarray:\n",
        "    # Tune hyperparameters for the model\n",
        "    best_params = tune_model(model_name, model_type, X_seq, X_flat, y, test_window_size, config)\n",
        "    best_params_dict[model_name] = best_params  # Store the tuned parameters\n",
        "\n",
        "    n_samples = X_seq.shape[0] if model_type == 'sequence' else X_flat.shape[0]\n",
        "    oos_predictions = np.full((n_samples,), np.nan)\n",
        "\n",
        "    starts = list(range(test_window_size, n_samples, test_window_size // 2))\n",
        "    if not starts:\n",
        "        starts = [test_window_size]\n",
        "    print(f\"Debug: Total starts = {len(starts)}, covering indices {starts[0]} to {starts[-1]}\", flush=True)\n",
        "\n",
        "    results = Parallel(n_jobs=1)(\n",
        "        delayed(walk_forward_step)(\n",
        "            model_name, model_type,\n",
        "            np.arange(max(0, start - test_window_size), start),\n",
        "            np.arange(start, min(start + test_window_size, n_samples)),\n",
        "            X_seq, X_flat, y, best_params_dict, config\n",
        "        )\n",
        "        for start in starts\n",
        "    )\n",
        "\n",
        "    for test_idx, preds in results:\n",
        "        oos_predictions[test_idx] = preds\n",
        "        print(f\"[{model_name}] Walk-forward step: Train={test_idx[0]-test_window_size}-{test_idx[0]} | Test={test_idx[0]}-{test_idx[-1]+1}\", flush=True)\n",
        "\n",
        "    if np.isnan(oos_predictions).any():\n",
        "        valid_mask = ~np.isnan(oos_predictions)\n",
        "        if np.any(valid_mask):\n",
        "            last_valid = oos_predictions[valid_mask][-1]\n",
        "            oos_predictions[np.isnan(oos_predictions)] = last_valid\n",
        "        else:\n",
        "            oos_predictions[:] = 0\n",
        "\n",
        "    print(f\"Debug: Final oos_predictions shape = {oos_predictions.shape}\", flush=True)\n",
        "    return oos_predictions\n",
        "\n",
        "# Comment: Added Optuna tuning for each model before walk-forward validation, storing best parameters in best_params_dict."
      ]
    },
    {
      "cell_type": "markdown",
      "metadata": {
        "id": "7MORL4PjuLbq"
      },
      "source": [
        "## 11. Execute Walk-Forward Validation"
      ]
    },
    {
      "cell_type": "code",
      "execution_count": null,
      "metadata": {
        "colab": {
          "background_save": true
        },
        "id": "ph2YZ2rGuLbq",
        "outputId": "88ed83f5-c13a-4eee-c7ed-42b8f66de0c6"
      },
      "outputs": [
        {
          "name": "stderr",
          "output_type": "stream",
          "text": [
            "[I 2025-05-21 19:30:01,681] A new study created in memory with name: no-name-e5944f7b-cbb6-4bd8-89b3-f86c8074cc52\n",
            "[I 2025-05-21 19:30:08,367] Trial 0 finished with value: 0.0001236107665997558 and parameters: {'units': 59, 'learning_rate': 0.0030779898533662047}. Best is trial 0 with value: 0.0001236107665997558.\n",
            "WARNING:tensorflow:5 out of the last 77 calls to <function TensorFlowTrainer.make_predict_function.<locals>.one_step_on_data_distributed at 0x7fa2ace0e980> triggered tf.function retracing. Tracing is expensive and the excessive number of tracings could be due to (1) creating @tf.function repeatedly in a loop, (2) passing tensors with different shapes, (3) passing Python objects instead of tensors. For (1), please define your @tf.function outside of the loop. For (2), @tf.function has reduce_retracing=True option that can avoid unnecessary retracing. For (3), please refer to https://www.tensorflow.org/guide/function#controlling_retracing and https://www.tensorflow.org/api_docs/python/tf/function for  more details.\n",
            "WARNING:tensorflow:6 out of the last 78 calls to <function TensorFlowTrainer.make_predict_function.<locals>.one_step_on_data_distributed at 0x7fa2ace0e980> triggered tf.function retracing. Tracing is expensive and the excessive number of tracings could be due to (1) creating @tf.function repeatedly in a loop, (2) passing tensors with different shapes, (3) passing Python objects instead of tensors. For (1), please define your @tf.function outside of the loop. For (2), @tf.function has reduce_retracing=True option that can avoid unnecessary retracing. For (3), please refer to https://www.tensorflow.org/guide/function#controlling_retracing and https://www.tensorflow.org/api_docs/python/tf/function for  more details.\n",
            "[I 2025-05-21 19:30:15,263] Trial 1 finished with value: 6.285290269936426e-05 and parameters: {'units': 77, 'learning_rate': 0.0011797184067213582}. Best is trial 1 with value: 6.285290269936426e-05.\n",
            "[I 2025-05-21 19:30:22,194] Trial 2 finished with value: 0.0006175838185577547 and parameters: {'units': 69, 'learning_rate': 0.0001394796053854365}. Best is trial 1 with value: 6.285290269936426e-05.\n",
            "[I 2025-05-21 19:30:29,194] Trial 3 finished with value: 0.00013419994955138755 and parameters: {'units': 112, 'learning_rate': 0.0012191157203413556}. Best is trial 1 with value: 6.285290269936426e-05.\n",
            "[I 2025-05-21 19:30:36,404] Trial 4 finished with value: 0.00019372298299272749 and parameters: {'units': 134, 'learning_rate': 0.007127051214662935}. Best is trial 1 with value: 6.285290269936426e-05.\n",
            "[I 2025-05-21 19:30:44,125] Trial 5 finished with value: 0.00010190118577963922 and parameters: {'units': 99, 'learning_rate': 0.0035884901579474665}. Best is trial 1 with value: 6.285290269936426e-05.\n",
            "[I 2025-05-21 19:30:52,766] Trial 6 finished with value: 0.0003969778039127617 and parameters: {'units': 101, 'learning_rate': 0.003603271433196161}. Best is trial 1 with value: 6.285290269936426e-05.\n",
            "[I 2025-05-21 19:31:00,866] Trial 7 finished with value: 0.000259285276948068 and parameters: {'units': 94, 'learning_rate': 0.001988973011085371}. Best is trial 1 with value: 6.285290269936426e-05.\n",
            "[I 2025-05-21 19:31:09,457] Trial 8 finished with value: 0.0002799661556217907 and parameters: {'units': 143, 'learning_rate': 0.001752194485347228}. Best is trial 1 with value: 6.285290269936426e-05.\n",
            "[I 2025-05-21 19:31:16,428] Trial 9 finished with value: 9.603583805703459e-05 and parameters: {'units': 131, 'learning_rate': 0.00032606361693778024}. Best is trial 1 with value: 6.285290269936426e-05.\n",
            "[I 2025-05-21 19:31:24,214] Trial 10 finished with value: 0.00013054242437334217 and parameters: {'units': 73, 'learning_rate': 0.000526051203764766}. Best is trial 1 with value: 6.285290269936426e-05.\n",
            "[I 2025-05-21 19:31:31,350] Trial 11 finished with value: 0.00014152415203774952 and parameters: {'units': 126, 'learning_rate': 0.0003430244467746824}. Best is trial 1 with value: 6.285290269936426e-05.\n",
            "[I 2025-05-21 19:31:38,147] Trial 12 finished with value: 0.00013580320319180937 and parameters: {'units': 77, 'learning_rate': 0.00044904681303724445}. Best is trial 1 with value: 6.285290269936426e-05.\n",
            "[I 2025-05-21 19:31:46,657] Trial 13 finished with value: 7.711047111630627e-05 and parameters: {'units': 120, 'learning_rate': 0.0001553071017864909}. Best is trial 1 with value: 6.285290269936426e-05.\n",
            "[I 2025-05-21 19:31:54,230] Trial 14 finished with value: 9.774534569238248e-05 and parameters: {'units': 85, 'learning_rate': 0.0001306108537401365}. Best is trial 1 with value: 6.285290269936426e-05.\n",
            "[I 2025-05-21 19:32:01,918] Trial 15 finished with value: 7.258764640925467e-05 and parameters: {'units': 114, 'learning_rate': 0.0009807010787552793}. Best is trial 1 with value: 6.285290269936426e-05.\n",
            "[I 2025-05-21 19:32:09,032] Trial 16 finished with value: 0.00010064820763269689 and parameters: {'units': 53, 'learning_rate': 0.000626063380261334}. Best is trial 1 with value: 6.285290269936426e-05.\n",
            "[I 2025-05-21 19:32:15,389] Trial 17 finished with value: 7.136812626905988e-05 and parameters: {'units': 111, 'learning_rate': 0.0008247630472130803}. Best is trial 1 with value: 6.285290269936426e-05.\n",
            "[I 2025-05-21 19:32:22,438] Trial 18 finished with value: 0.000276324323451908 and parameters: {'units': 87, 'learning_rate': 0.000960357996359976}. Best is trial 1 with value: 6.285290269936426e-05.\n",
            "[I 2025-05-21 19:32:32,296] Trial 19 finished with value: 8.155535772974706e-05 and parameters: {'units': 107, 'learning_rate': 0.0002498536479058639}. Best is trial 1 with value: 6.285290269936426e-05.\n"
          ]
        },
        {
          "name": "stdout",
          "output_type": "stream",
          "text": [
            "[LSTM] Best parameters from tuning: {'units': 77, 'learning_rate': 0.0011797184067213582}\n",
            "Debug: Total starts = 93, covering indices 50 to 2350\n",
            "[LSTM] Metrics - MSE: 0.000196, MAE: 0.012007, R2: -1.782101\n",
            "[LSTM] Metrics - MSE: 0.001328, MAE: 0.028092, R2: -24.731136\n",
            "[LSTM] Metrics - MSE: 0.000204, MAE: 0.011602, R2: -1.587782\n",
            "[LSTM] Metrics - MSE: 0.000136, MAE: 0.009479, R2: -1.110708\n",
            "[LSTM] Metrics - MSE: 0.000254, MAE: 0.011750, R2: -4.712545\n",
            "[LSTM] Metrics - MSE: 0.000167, MAE: 0.011432, R2: -2.765970\n",
            "[LSTM] Metrics - MSE: 0.000361, MAE: 0.017140, R2: -8.037983\n",
            "[LSTM] Metrics - MSE: 0.000677, MAE: 0.020009, R2: -12.377453\n",
            "[LSTM] Metrics - MSE: 0.000158, MAE: 0.009833, R2: -3.280293\n",
            "[LSTM] Metrics - MSE: 0.000234, MAE: 0.013067, R2: -6.851667\n",
            "[LSTM] Metrics - MSE: 0.000203, MAE: 0.012202, R2: -5.859930\n",
            "[LSTM] Metrics - MSE: 0.000164, MAE: 0.010318, R2: -6.337132\n",
            "[LSTM] Metrics - MSE: 0.000131, MAE: 0.008794, R2: -4.076012\n",
            "[LSTM] Metrics - MSE: 0.000479, MAE: 0.019265, R2: -12.158947\n",
            "[LSTM] Metrics - MSE: 0.000151, MAE: 0.010447, R2: -4.131290\n",
            "[LSTM] Metrics - MSE: 0.001166, MAE: 0.031824, R2: -81.088683\n",
            "[LSTM] Metrics - MSE: 0.000133, MAE: 0.008117, R2: -8.812995\n",
            "[LSTM] Metrics - MSE: 0.000648, MAE: 0.020842, R2: -21.922112\n",
            "[LSTM] Metrics - MSE: 0.000873, MAE: 0.023013, R2: -21.424910\n",
            "[LSTM] Metrics - MSE: 0.000909, MAE: 0.027078, R2: -31.348590\n",
            "[LSTM] Metrics - MSE: 0.000249, MAE: 0.014492, R2: -10.427858\n",
            "[LSTM] Metrics - MSE: 0.000596, MAE: 0.023548, R2: -24.703912\n",
            "[LSTM] Metrics - MSE: 0.002884, MAE: 0.049952, R2: -128.350509\n",
            "[LSTM] Metrics - MSE: 0.004430, MAE: 0.058573, R2: -212.527112\n",
            "[LSTM] Metrics - MSE: 0.000103, MAE: 0.007793, R2: -4.132960\n",
            "[LSTM] Metrics - MSE: 0.000045, MAE: 0.005521, R2: -1.275464\n",
            "[LSTM] Metrics - MSE: 0.000908, MAE: 0.028421, R2: -46.325049\n",
            "[LSTM] Metrics - MSE: 0.001514, MAE: 0.037270, R2: -70.011894\n",
            "[LSTM] Metrics - MSE: 0.000061, MAE: 0.006155, R2: -2.554809\n",
            "[LSTM] Metrics - MSE: 0.000897, MAE: 0.021725, R2: -50.936907\n",
            "[LSTM] Metrics - MSE: 0.001204, MAE: 0.030253, R2: -48.727217\n",
            "[LSTM] Metrics - MSE: 0.000044, MAE: 0.005277, R2: -1.205445\n",
            "[LSTM] Metrics - MSE: 0.000285, MAE: 0.012933, R2: -17.614355\n",
            "[LSTM] Metrics - MSE: 0.000446, MAE: 0.018424, R2: -17.560657\n",
            "[LSTM] Metrics - MSE: 0.000172, MAE: 0.011409, R2: -5.680684\n",
            "[LSTM] Metrics - MSE: 0.000207, MAE: 0.013071, R2: -9.464340\n",
            "[LSTM] Metrics - MSE: 0.000030, MAE: 0.004443, R2: -0.603783\n",
            "[LSTM] Metrics - MSE: 0.000233, MAE: 0.012535, R2: -13.479054\n",
            "[LSTM] Metrics - MSE: 0.001293, MAE: 0.028483, R2: -83.439012\n",
            "[LSTM] Metrics - MSE: 0.000282, MAE: 0.014961, R2: -14.411293\n",
            "[LSTM] Metrics - MSE: 0.000195, MAE: 0.011740, R2: -10.200315\n",
            "[LSTM] Metrics - MSE: 0.000701, MAE: 0.023137, R2: -57.299129\n",
            "[LSTM] Metrics - MSE: 0.000057, MAE: 0.006164, R2: -5.052073\n",
            "[LSTM] Metrics - MSE: 0.000105, MAE: 0.008046, R2: -15.306588\n",
            "[LSTM] Metrics - MSE: 0.000617, MAE: 0.018201, R2: -71.161110\n",
            "[LSTM] Metrics - MSE: 0.000289, MAE: 0.013862, R2: -23.593623\n",
            "[LSTM] Metrics - MSE: 0.000713, MAE: 0.022397, R2: -55.634502\n",
            "[LSTM] Metrics - MSE: 0.000132, MAE: 0.009748, R2: -13.537383\n",
            "[LSTM] Metrics - MSE: 0.000148, MAE: 0.010315, R2: -27.472333\n",
            "[LSTM] Metrics - MSE: 0.000183, MAE: 0.012259, R2: -23.466092\n",
            "[LSTM] Metrics - MSE: 0.000328, MAE: 0.016252, R2: -41.764243\n",
            "[LSTM] Metrics - MSE: 0.000328, MAE: 0.016338, R2: -15.068744\n",
            "[LSTM] Metrics - MSE: 0.010450, MAE: 0.092746, R2: -202.464280\n",
            "[LSTM] Metrics - MSE: 0.000186, MAE: 0.011236, R2: -3.476202\n",
            "[LSTM] Metrics - MSE: 0.000250, MAE: 0.012723, R2: -13.546522\n",
            "[LSTM] Metrics - MSE: 0.004129, MAE: 0.053012, R2: -215.293045\n",
            "[LSTM] Metrics - MSE: 0.001280, MAE: 0.034089, R2: -65.998460\n",
            "[LSTM] Metrics - MSE: 0.000142, MAE: 0.010366, R2: -8.436304\n",
            "[LSTM] Metrics - MSE: 0.000086, MAE: 0.007918, R2: -4.868301\n",
            "[LSTM] Metrics - MSE: 0.000542, MAE: 0.022913, R2: -36.933026\n",
            "[LSTM] Metrics - MSE: 0.002006, MAE: 0.039027, R2: -134.882349\n",
            "[LSTM] Metrics - MSE: 0.000940, MAE: 0.029967, R2: -67.399873\n",
            "[LSTM] Metrics - MSE: 0.001367, MAE: 0.034677, R2: -99.312263\n",
            "[LSTM] Metrics - MSE: 0.000201, MAE: 0.011686, R2: -11.912836\n",
            "[LSTM] Metrics - MSE: 0.000081, MAE: 0.007698, R2: -4.605005\n",
            "[LSTM] Metrics - MSE: 0.000134, MAE: 0.008832, R2: -10.363461\n",
            "[LSTM] Metrics - MSE: 0.001359, MAE: 0.031567, R2: -161.541114\n",
            "[LSTM] Metrics - MSE: 0.001173, MAE: 0.033906, R2: -162.528895\n",
            "[LSTM] Metrics - MSE: 0.000405, MAE: 0.017482, R2: -43.476144\n",
            "[LSTM] Metrics - MSE: 0.000391, MAE: 0.017843, R2: -27.422513\n",
            "[LSTM] Metrics - MSE: 0.001147, MAE: 0.027244, R2: -77.812539\n",
            "[LSTM] Metrics - MSE: 0.000882, MAE: 0.027578, R2: -53.826313\n",
            "[LSTM] Metrics - MSE: 0.000353, MAE: 0.016747, R2: -11.246276\n",
            "[LSTM] Metrics - MSE: 0.000238, MAE: 0.011341, R2: -6.814262\n",
            "[LSTM] Metrics - MSE: 0.003357, MAE: 0.054132, R2: -108.501812\n",
            "[LSTM] Metrics - MSE: 0.000171, MAE: 0.011494, R2: -3.543231\n",
            "[LSTM] Metrics - MSE: 0.000074, MAE: 0.007027, R2: -1.030059\n",
            "[LSTM] Metrics - MSE: 0.002066, MAE: 0.041583, R2: -57.456052\n",
            "[LSTM] Metrics - MSE: 0.000456, MAE: 0.019897, R2: -8.258303\n",
            "[LSTM] Metrics - MSE: 0.000595, MAE: 0.021099, R2: -7.850808\n",
            "[LSTM] Metrics - MSE: 0.001499, MAE: 0.032218, R2: -34.000498\n",
            "[LSTM] Metrics - MSE: 0.000345, MAE: 0.014851, R2: -12.703713\n",
            "[LSTM] Metrics - MSE: 0.000166, MAE: 0.010591, R2: -4.242844\n",
            "[LSTM] Metrics - MSE: 0.000053, MAE: 0.005682, R2: -0.631114\n",
            "[LSTM] Metrics - MSE: 0.000131, MAE: 0.009774, R2: -4.057459\n",
            "[LSTM] Metrics - MSE: 0.000135, MAE: 0.009383, R2: -7.054027\n",
            "[LSTM] Metrics - MSE: 0.000636, MAE: 0.022931, R2: -36.517789\n",
            "[LSTM] Metrics - MSE: 0.000090, MAE: 0.008208, R2: -4.706336\n",
            "[LSTM] Metrics - MSE: 0.000137, MAE: 0.010310, R2: -8.381559\n",
            "[LSTM] Metrics - MSE: 0.000036, MAE: 0.005013, R2: -1.099739\n",
            "[LSTM] Metrics - MSE: 0.000137, MAE: 0.010284, R2: -6.066426\n",
            "[LSTM] Metrics - MSE: 0.000068, MAE: 0.007194, R2: -1.885637\n",
            "[LSTM] Metrics - MSE: 0.000427, MAE: 0.019961, R2: -15.561551\n",
            "[LSTM] Walk-forward step: Train=0-50 | Test=50-100\n",
            "[LSTM] Walk-forward step: Train=25-75 | Test=75-125\n",
            "[LSTM] Walk-forward step: Train=50-100 | Test=100-150\n",
            "[LSTM] Walk-forward step: Train=75-125 | Test=125-175\n",
            "[LSTM] Walk-forward step: Train=100-150 | Test=150-200\n",
            "[LSTM] Walk-forward step: Train=125-175 | Test=175-225\n",
            "[LSTM] Walk-forward step: Train=150-200 | Test=200-250\n",
            "[LSTM] Walk-forward step: Train=175-225 | Test=225-275\n",
            "[LSTM] Walk-forward step: Train=200-250 | Test=250-300\n",
            "[LSTM] Walk-forward step: Train=225-275 | Test=275-325\n",
            "[LSTM] Walk-forward step: Train=250-300 | Test=300-350\n",
            "[LSTM] Walk-forward step: Train=275-325 | Test=325-375\n",
            "[LSTM] Walk-forward step: Train=300-350 | Test=350-400\n",
            "[LSTM] Walk-forward step: Train=325-375 | Test=375-425\n",
            "[LSTM] Walk-forward step: Train=350-400 | Test=400-450\n",
            "[LSTM] Walk-forward step: Train=375-425 | Test=425-475\n",
            "[LSTM] Walk-forward step: Train=400-450 | Test=450-500\n",
            "[LSTM] Walk-forward step: Train=425-475 | Test=475-525\n",
            "[LSTM] Walk-forward step: Train=450-500 | Test=500-550\n",
            "[LSTM] Walk-forward step: Train=475-525 | Test=525-575\n",
            "[LSTM] Walk-forward step: Train=500-550 | Test=550-600\n",
            "[LSTM] Walk-forward step: Train=525-575 | Test=575-625\n",
            "[LSTM] Walk-forward step: Train=550-600 | Test=600-650\n",
            "[LSTM] Walk-forward step: Train=575-625 | Test=625-675\n",
            "[LSTM] Walk-forward step: Train=600-650 | Test=650-700\n",
            "[LSTM] Walk-forward step: Train=625-675 | Test=675-725\n",
            "[LSTM] Walk-forward step: Train=650-700 | Test=700-750\n",
            "[LSTM] Walk-forward step: Train=675-725 | Test=725-775\n",
            "[LSTM] Walk-forward step: Train=700-750 | Test=750-800\n",
            "[LSTM] Walk-forward step: Train=725-775 | Test=775-825\n",
            "[LSTM] Walk-forward step: Train=750-800 | Test=800-850\n",
            "[LSTM] Walk-forward step: Train=775-825 | Test=825-875\n",
            "[LSTM] Walk-forward step: Train=800-850 | Test=850-900\n",
            "[LSTM] Walk-forward step: Train=825-875 | Test=875-925\n",
            "[LSTM] Walk-forward step: Train=850-900 | Test=900-950\n",
            "[LSTM] Walk-forward step: Train=875-925 | Test=925-975\n",
            "[LSTM] Walk-forward step: Train=900-950 | Test=950-1000\n",
            "[LSTM] Walk-forward step: Train=925-975 | Test=975-1025\n",
            "[LSTM] Walk-forward step: Train=950-1000 | Test=1000-1050\n",
            "[LSTM] Walk-forward step: Train=975-1025 | Test=1025-1075\n",
            "[LSTM] Walk-forward step: Train=1000-1050 | Test=1050-1100\n",
            "[LSTM] Walk-forward step: Train=1025-1075 | Test=1075-1125\n",
            "[LSTM] Walk-forward step: Train=1050-1100 | Test=1100-1150\n",
            "[LSTM] Walk-forward step: Train=1075-1125 | Test=1125-1175\n",
            "[LSTM] Walk-forward step: Train=1100-1150 | Test=1150-1200\n",
            "[LSTM] Walk-forward step: Train=1125-1175 | Test=1175-1225\n",
            "[LSTM] Walk-forward step: Train=1150-1200 | Test=1200-1250\n",
            "[LSTM] Walk-forward step: Train=1175-1225 | Test=1225-1275\n",
            "[LSTM] Walk-forward step: Train=1200-1250 | Test=1250-1300\n",
            "[LSTM] Walk-forward step: Train=1225-1275 | Test=1275-1325\n",
            "[LSTM] Walk-forward step: Train=1250-1300 | Test=1300-1350\n",
            "[LSTM] Walk-forward step: Train=1275-1325 | Test=1325-1375\n",
            "[LSTM] Walk-forward step: Train=1300-1350 | Test=1350-1400\n",
            "[LSTM] Walk-forward step: Train=1325-1375 | Test=1375-1425\n",
            "[LSTM] Walk-forward step: Train=1350-1400 | Test=1400-1450\n",
            "[LSTM] Walk-forward step: Train=1375-1425 | Test=1425-1475\n",
            "[LSTM] Walk-forward step: Train=1400-1450 | Test=1450-1500\n",
            "[LSTM] Walk-forward step: Train=1425-1475 | Test=1475-1525\n",
            "[LSTM] Walk-forward step: Train=1450-1500 | Test=1500-1550\n",
            "[LSTM] Walk-forward step: Train=1475-1525 | Test=1525-1575\n",
            "[LSTM] Walk-forward step: Train=1500-1550 | Test=1550-1600\n",
            "[LSTM] Walk-forward step: Train=1525-1575 | Test=1575-1625\n",
            "[LSTM] Walk-forward step: Train=1550-1600 | Test=1600-1650\n",
            "[LSTM] Walk-forward step: Train=1575-1625 | Test=1625-1675\n",
            "[LSTM] Walk-forward step: Train=1600-1650 | Test=1650-1700\n",
            "[LSTM] Walk-forward step: Train=1625-1675 | Test=1675-1725\n",
            "[LSTM] Walk-forward step: Train=1650-1700 | Test=1700-1750\n",
            "[LSTM] Walk-forward step: Train=1675-1725 | Test=1725-1775\n",
            "[LSTM] Walk-forward step: Train=1700-1750 | Test=1750-1800\n",
            "[LSTM] Walk-forward step: Train=1725-1775 | Test=1775-1825\n",
            "[LSTM] Walk-forward step: Train=1750-1800 | Test=1800-1850\n",
            "[LSTM] Walk-forward step: Train=1775-1825 | Test=1825-1875\n",
            "[LSTM] Walk-forward step: Train=1800-1850 | Test=1850-1900\n",
            "[LSTM] Walk-forward step: Train=1825-1875 | Test=1875-1925\n",
            "[LSTM] Walk-forward step: Train=1850-1900 | Test=1900-1950\n",
            "[LSTM] Walk-forward step: Train=1875-1925 | Test=1925-1975\n",
            "[LSTM] Walk-forward step: Train=1900-1950 | Test=1950-2000\n",
            "[LSTM] Walk-forward step: Train=1925-1975 | Test=1975-2025\n",
            "[LSTM] Walk-forward step: Train=1950-2000 | Test=2000-2050\n",
            "[LSTM] Walk-forward step: Train=1975-2025 | Test=2025-2075\n",
            "[LSTM] Walk-forward step: Train=2000-2050 | Test=2050-2100\n",
            "[LSTM] Walk-forward step: Train=2025-2075 | Test=2075-2125\n",
            "[LSTM] Walk-forward step: Train=2050-2100 | Test=2100-2150\n",
            "[LSTM] Walk-forward step: Train=2075-2125 | Test=2125-2175\n",
            "[LSTM] Walk-forward step: Train=2100-2150 | Test=2150-2200\n",
            "[LSTM] Walk-forward step: Train=2125-2175 | Test=2175-2225\n",
            "[LSTM] Walk-forward step: Train=2150-2200 | Test=2200-2250\n",
            "[LSTM] Walk-forward step: Train=2175-2225 | Test=2225-2275\n",
            "[LSTM] Walk-forward step: Train=2200-2250 | Test=2250-2300\n",
            "[LSTM] Walk-forward step: Train=2225-2275 | Test=2275-2325\n",
            "[LSTM] Walk-forward step: Train=2250-2300 | Test=2300-2350\n",
            "[LSTM] Walk-forward step: Train=2275-2325 | Test=2325-2361\n",
            "[LSTM] Walk-forward step: Train=2300-2350 | Test=2350-2361\n",
            "Debug: Final oos_predictions shape = (2361,)\n"
          ]
        },
        {
          "name": "stderr",
          "output_type": "stream",
          "text": [
            "[I 2025-05-21 19:43:00,434] A new study created in memory with name: no-name-976d051c-e1ae-41c7-8001-545a797e1caa\n",
            "[I 2025-05-21 19:43:07,092] Trial 0 finished with value: 7.553720213260653e-05 and parameters: {'filters': 61, 'kernel_size': 3, 'lstm_units': 88}. Best is trial 0 with value: 7.553720213260653e-05.\n",
            "[I 2025-05-21 19:43:13,651] Trial 1 finished with value: 9.86304457492871e-05 and parameters: {'filters': 60, 'kernel_size': 2, 'lstm_units': 79}. Best is trial 0 with value: 7.553720213260653e-05.\n",
            "[I 2025-05-21 19:43:20,505] Trial 2 finished with value: 6.283201768988193e-05 and parameters: {'filters': 36, 'kernel_size': 3, 'lstm_units': 82}. Best is trial 2 with value: 6.283201768988193e-05.\n",
            "[I 2025-05-21 19:43:26,841] Trial 3 finished with value: 7.436602626168025e-05 and parameters: {'filters': 32, 'kernel_size': 2, 'lstm_units': 84}. Best is trial 2 with value: 6.283201768988193e-05.\n",
            "[I 2025-05-21 19:43:33,565] Trial 4 finished with value: 0.0001244743647996408 and parameters: {'filters': 19, 'kernel_size': 5, 'lstm_units': 72}. Best is trial 2 with value: 6.283201768988193e-05.\n",
            "[I 2025-05-21 19:43:39,481] Trial 5 finished with value: 0.00010371756161612054 and parameters: {'filters': 61, 'kernel_size': 5, 'lstm_units': 103}. Best is trial 2 with value: 6.283201768988193e-05.\n",
            "[I 2025-05-21 19:43:46,454] Trial 6 finished with value: 9.39056112974977e-05 and parameters: {'filters': 49, 'kernel_size': 5, 'lstm_units': 124}. Best is trial 2 with value: 6.283201768988193e-05.\n",
            "[I 2025-05-21 19:43:53,501] Trial 7 finished with value: 6.672446434026773e-05 and parameters: {'filters': 18, 'kernel_size': 4, 'lstm_units': 133}. Best is trial 2 with value: 6.283201768988193e-05.\n",
            "[I 2025-05-21 19:44:01,162] Trial 8 finished with value: 6.144296214562587e-05 and parameters: {'filters': 60, 'kernel_size': 4, 'lstm_units': 99}. Best is trial 8 with value: 6.144296214562587e-05.\n",
            "[I 2025-05-21 19:44:08,027] Trial 9 finished with value: 0.0001129962843187323 and parameters: {'filters': 49, 'kernel_size': 3, 'lstm_units': 116}. Best is trial 8 with value: 6.144296214562587e-05.\n",
            "[I 2025-05-21 19:44:14,628] Trial 10 finished with value: 5.9343070188478345e-05 and parameters: {'filters': 47, 'kernel_size': 4, 'lstm_units': 52}. Best is trial 10 with value: 5.9343070188478345e-05.\n",
            "[I 2025-05-21 19:44:22,143] Trial 11 finished with value: 7.455123841921709e-05 and parameters: {'filters': 49, 'kernel_size': 4, 'lstm_units': 50}. Best is trial 10 with value: 5.9343070188478345e-05.\n",
            "[I 2025-05-21 19:44:29,287] Trial 12 finished with value: 9.341643350472395e-05 and parameters: {'filters': 53, 'kernel_size': 4, 'lstm_units': 147}. Best is trial 10 with value: 5.9343070188478345e-05.\n",
            "[I 2025-05-21 19:44:36,292] Trial 13 finished with value: 6.123870799024908e-05 and parameters: {'filters': 42, 'kernel_size': 4, 'lstm_units': 53}. Best is trial 10 with value: 5.9343070188478345e-05.\n",
            "[I 2025-05-21 19:44:42,558] Trial 14 finished with value: 0.00011299823400708463 and parameters: {'filters': 41, 'kernel_size': 4, 'lstm_units': 50}. Best is trial 10 with value: 5.9343070188478345e-05.\n",
            "[I 2025-05-21 19:44:49,481] Trial 15 finished with value: 6.863243941584929e-05 and parameters: {'filters': 30, 'kernel_size': 3, 'lstm_units': 63}. Best is trial 10 with value: 5.9343070188478345e-05.\n",
            "[I 2025-05-21 19:44:55,894] Trial 16 finished with value: 5.962506074006311e-05 and parameters: {'filters': 42, 'kernel_size': 5, 'lstm_units': 64}. Best is trial 10 with value: 5.9343070188478345e-05.\n",
            "[I 2025-05-21 19:45:09,120] Trial 17 finished with value: 6.055465282528729e-05 and parameters: {'filters': 27, 'kernel_size': 5, 'lstm_units': 65}. Best is trial 10 with value: 5.9343070188478345e-05.\n",
            "[I 2025-05-21 19:45:16,329] Trial 18 finished with value: 9.624115967809392e-05 and parameters: {'filters': 43, 'kernel_size': 5, 'lstm_units': 65}. Best is trial 10 with value: 5.9343070188478345e-05.\n",
            "[I 2025-05-21 19:45:24,420] Trial 19 finished with value: 6.48128402798249e-05 and parameters: {'filters': 54, 'kernel_size': 5, 'lstm_units': 99}. Best is trial 10 with value: 5.9343070188478345e-05.\n"
          ]
        },
        {
          "name": "stdout",
          "output_type": "stream",
          "text": [
            "[CNN-LSTM] Best parameters from tuning: {'filters': 47, 'kernel_size': 4, 'lstm_units': 52}\n",
            "Debug: Total starts = 93, covering indices 50 to 2350\n",
            "[CNN-LSTM] Metrics - MSE: 0.000193, MAE: 0.012062, R2: -1.741495\n",
            "[CNN-LSTM] Metrics - MSE: 0.000115, MAE: 0.008695, R2: -1.234304\n",
            "[CNN-LSTM] Metrics - MSE: 0.000243, MAE: 0.012817, R2: -2.069663\n",
            "[CNN-LSTM] Metrics - MSE: 0.000653, MAE: 0.023525, R2: -9.111550\n",
            "[CNN-LSTM] Metrics - MSE: 0.000058, MAE: 0.005857, R2: -0.309952\n",
            "[CNN-LSTM] Metrics - MSE: 0.000107, MAE: 0.008301, R2: -1.398908\n",
            "[CNN-LSTM] Metrics - MSE: 0.000867, MAE: 0.026880, R2: -20.696072\n",
            "[CNN-LSTM] Metrics - MSE: 0.001024, MAE: 0.025789, R2: -19.227776\n",
            "[CNN-LSTM] Metrics - MSE: 0.000171, MAE: 0.011557, R2: -3.642840\n",
            "[CNN-LSTM] Metrics - MSE: 0.000071, MAE: 0.006859, R2: -1.394116\n",
            "[CNN-LSTM] Metrics - MSE: 0.000037, MAE: 0.004825, R2: -0.241463\n",
            "[CNN-LSTM] Metrics - MSE: 0.000084, MAE: 0.007949, R2: -2.778579\n",
            "[CNN-LSTM] Metrics - MSE: 0.001368, MAE: 0.035548, R2: -51.831077\n",
            "[CNN-LSTM] Metrics - MSE: 0.000610, MAE: 0.019408, R2: -15.757302\n",
            "[CNN-LSTM] Metrics - MSE: 0.000887, MAE: 0.023639, R2: -29.209602\n",
            "[CNN-LSTM] Metrics - MSE: 0.000105, MAE: 0.007903, R2: -6.374477\n",
            "[CNN-LSTM] Metrics - MSE: 0.000087, MAE: 0.007774, R2: -5.419997\n",
            "[CNN-LSTM] Metrics - MSE: 0.000139, MAE: 0.009820, R2: -3.909834\n",
            "[CNN-LSTM] Metrics - MSE: 0.000935, MAE: 0.028105, R2: -23.010038\n",
            "[CNN-LSTM] Metrics - MSE: 0.000846, MAE: 0.023192, R2: -29.116818\n",
            "[CNN-LSTM] Metrics - MSE: 0.000043, MAE: 0.004990, R2: -0.959326\n",
            "[CNN-LSTM] Metrics - MSE: 0.000045, MAE: 0.005670, R2: -0.956824\n",
            "[CNN-LSTM] Metrics - MSE: 0.000411, MAE: 0.018414, R2: -17.422132\n",
            "[CNN-LSTM] Metrics - MSE: 0.001168, MAE: 0.030613, R2: -55.287574\n",
            "[CNN-LSTM] Metrics - MSE: 0.000052, MAE: 0.005855, R2: -1.580206\n",
            "[CNN-LSTM] Metrics - MSE: 0.000127, MAE: 0.009978, R2: -5.356984\n",
            "[CNN-LSTM] Metrics - MSE: 0.000255, MAE: 0.014191, R2: -12.307189\n",
            "[CNN-LSTM] Metrics - MSE: 0.000155, MAE: 0.009136, R2: -6.282028\n",
            "[CNN-LSTM] Metrics - MSE: 0.000334, MAE: 0.014734, R2: -18.301987\n",
            "[CNN-LSTM] Metrics - MSE: 0.000677, MAE: 0.020766, R2: -38.202140\n",
            "[CNN-LSTM] Metrics - MSE: 0.001121, MAE: 0.024616, R2: -45.283485\n",
            "[CNN-LSTM] Metrics - MSE: 0.000222, MAE: 0.014075, R2: -10.148260\n",
            "[CNN-LSTM] Metrics - MSE: 0.000376, MAE: 0.016358, R2: -23.551644\n",
            "[CNN-LSTM] Metrics - MSE: 0.000390, MAE: 0.015119, R2: -15.241980\n",
            "[CNN-LSTM] Metrics - MSE: 0.002978, MAE: 0.049209, R2: -114.438727\n",
            "[CNN-LSTM] Metrics - MSE: 0.001823, MAE: 0.039573, R2: -91.036856\n",
            "[CNN-LSTM] Metrics - MSE: 0.000022, MAE: 0.003508, R2: -0.152477\n",
            "[CNN-LSTM] Metrics - MSE: 0.000090, MAE: 0.008294, R2: -4.578743\n",
            "[CNN-LSTM] Metrics - MSE: 0.000925, MAE: 0.021962, R2: -59.394916\n",
            "[CNN-LSTM] Metrics - MSE: 0.001093, MAE: 0.030391, R2: -58.754650\n",
            "[CNN-LSTM] Metrics - MSE: 0.000056, MAE: 0.005487, R2: -2.245777\n",
            "[CNN-LSTM] Metrics - MSE: 0.000284, MAE: 0.013557, R2: -22.643805\n",
            "[CNN-LSTM] Metrics - MSE: 0.000052, MAE: 0.005526, R2: -4.476084\n",
            "[CNN-LSTM] Metrics - MSE: 0.000216, MAE: 0.012991, R2: -32.531190\n",
            "[CNN-LSTM] Metrics - MSE: 0.000116, MAE: 0.008724, R2: -12.557673\n",
            "[CNN-LSTM] Metrics - MSE: 0.000579, MAE: 0.019743, R2: -48.338099\n",
            "[CNN-LSTM] Metrics - MSE: 0.001259, MAE: 0.026511, R2: -98.936872\n",
            "[CNN-LSTM] Metrics - MSE: 0.000446, MAE: 0.016624, R2: -48.037074\n",
            "[CNN-LSTM] Metrics - MSE: 0.000033, MAE: 0.004298, R2: -5.377754\n",
            "[CNN-LSTM] Metrics - MSE: 0.000109, MAE: 0.009024, R2: -13.618374\n",
            "[CNN-LSTM] Metrics - MSE: 0.000129, MAE: 0.009793, R2: -15.864027\n",
            "[CNN-LSTM] Metrics - MSE: 0.000149, MAE: 0.008673, R2: -6.270210\n",
            "[CNN-LSTM] Metrics - MSE: 0.000742, MAE: 0.021083, R2: -13.448467\n",
            "[CNN-LSTM] Metrics - MSE: 0.000922, MAE: 0.026530, R2: -21.199721\n",
            "[CNN-LSTM] Metrics - MSE: 0.000794, MAE: 0.026149, R2: -45.093966\n",
            "[CNN-LSTM] Metrics - MSE: 0.002842, MAE: 0.041310, R2: -147.846397\n",
            "[CNN-LSTM] Metrics - MSE: 0.000287, MAE: 0.011074, R2: -14.016094\n",
            "[CNN-LSTM] Metrics - MSE: 0.000050, MAE: 0.006238, R2: -2.316660\n",
            "[CNN-LSTM] Metrics - MSE: 0.000991, MAE: 0.030094, R2: -66.859618\n",
            "[CNN-LSTM] Metrics - MSE: 0.000232, MAE: 0.013242, R2: -15.239710\n",
            "[CNN-LSTM] Metrics - MSE: 0.001308, MAE: 0.033103, R2: -87.580341\n",
            "[CNN-LSTM] Metrics - MSE: 0.000497, MAE: 0.020092, R2: -35.125493\n",
            "[CNN-LSTM] Metrics - MSE: 0.000124, MAE: 0.009112, R2: -8.088281\n",
            "[CNN-LSTM] Metrics - MSE: 0.000115, MAE: 0.008272, R2: -6.416171\n",
            "[CNN-LSTM] Metrics - MSE: 0.000106, MAE: 0.008321, R2: -6.349850\n",
            "[CNN-LSTM] Metrics - MSE: 0.000090, MAE: 0.007802, R2: -6.683544\n",
            "[CNN-LSTM] Metrics - MSE: 0.000112, MAE: 0.009156, R2: -12.364097\n",
            "[CNN-LSTM] Metrics - MSE: 0.000109, MAE: 0.009214, R2: -14.234922\n",
            "[CNN-LSTM] Metrics - MSE: 0.000117, MAE: 0.008407, R2: -11.824852\n",
            "[CNN-LSTM] Metrics - MSE: 0.000154, MAE: 0.010562, R2: -10.212480\n",
            "[CNN-LSTM] Metrics - MSE: 0.001640, MAE: 0.029064, R2: -111.687154\n",
            "[CNN-LSTM] Metrics - MSE: 0.000646, MAE: 0.023639, R2: -39.185687\n",
            "[CNN-LSTM] Metrics - MSE: 0.000094, MAE: 0.008463, R2: -2.264865\n",
            "[CNN-LSTM] Metrics - MSE: 0.002370, MAE: 0.040420, R2: -76.800681\n",
            "[CNN-LSTM] Metrics - MSE: 0.000483, MAE: 0.019653, R2: -14.764445\n",
            "[CNN-LSTM] Metrics - MSE: 0.000194, MAE: 0.012167, R2: -4.138401\n",
            "[CNN-LSTM] Metrics - MSE: 0.000159, MAE: 0.010161, R2: -3.366031\n",
            "[CNN-LSTM] Metrics - MSE: 0.000978, MAE: 0.025992, R2: -26.670251\n",
            "[CNN-LSTM] Metrics - MSE: 0.000536, MAE: 0.020821, R2: -9.901435\n",
            "[CNN-LSTM] Metrics - MSE: 0.000478, MAE: 0.017654, R2: -6.119383\n",
            "[CNN-LSTM] Metrics - MSE: 0.000268, MAE: 0.013451, R2: -5.267621\n",
            "[CNN-LSTM] Metrics - MSE: 0.000048, MAE: 0.005533, R2: -0.889743\n",
            "[CNN-LSTM] Metrics - MSE: 0.002293, MAE: 0.046573, R2: -71.421098\n",
            "[CNN-LSTM] Metrics - MSE: 0.000101, MAE: 0.008184, R2: -2.109243\n",
            "[CNN-LSTM] Metrics - MSE: 0.000173, MAE: 0.011284, R2: -5.679665\n",
            "[CNN-LSTM] Metrics - MSE: 0.000175, MAE: 0.011214, R2: -9.470782\n",
            "[CNN-LSTM] Metrics - MSE: 0.000149, MAE: 0.009476, R2: -7.817044\n",
            "[CNN-LSTM] Metrics - MSE: 0.000059, MAE: 0.006536, R2: -2.709669\n",
            "[CNN-LSTM] Metrics - MSE: 0.000063, MAE: 0.006433, R2: -3.327367\n",
            "[CNN-LSTM] Metrics - MSE: 0.000269, MAE: 0.014403, R2: -14.510327\n",
            "[CNN-LSTM] Metrics - MSE: 0.000189, MAE: 0.012122, R2: -8.762140\n",
            "[CNN-LSTM] Metrics - MSE: 0.000142, MAE: 0.009719, R2: -5.037836\n",
            "[CNN-LSTM] Metrics - MSE: 0.000182, MAE: 0.012444, R2: -6.060474\n",
            "[CNN-LSTM] Walk-forward step: Train=0-50 | Test=50-100\n",
            "[CNN-LSTM] Walk-forward step: Train=25-75 | Test=75-125\n",
            "[CNN-LSTM] Walk-forward step: Train=50-100 | Test=100-150\n",
            "[CNN-LSTM] Walk-forward step: Train=75-125 | Test=125-175\n",
            "[CNN-LSTM] Walk-forward step: Train=100-150 | Test=150-200\n",
            "[CNN-LSTM] Walk-forward step: Train=125-175 | Test=175-225\n",
            "[CNN-LSTM] Walk-forward step: Train=150-200 | Test=200-250\n",
            "[CNN-LSTM] Walk-forward step: Train=175-225 | Test=225-275\n",
            "[CNN-LSTM] Walk-forward step: Train=200-250 | Test=250-300\n",
            "[CNN-LSTM] Walk-forward step: Train=225-275 | Test=275-325\n",
            "[CNN-LSTM] Walk-forward step: Train=250-300 | Test=300-350\n",
            "[CNN-LSTM] Walk-forward step: Train=275-325 | Test=325-375\n",
            "[CNN-LSTM] Walk-forward step: Train=300-350 | Test=350-400\n",
            "[CNN-LSTM] Walk-forward step: Train=325-375 | Test=375-425\n",
            "[CNN-LSTM] Walk-forward step: Train=350-400 | Test=400-450\n",
            "[CNN-LSTM] Walk-forward step: Train=375-425 | Test=425-475\n",
            "[CNN-LSTM] Walk-forward step: Train=400-450 | Test=450-500\n",
            "[CNN-LSTM] Walk-forward step: Train=425-475 | Test=475-525\n",
            "[CNN-LSTM] Walk-forward step: Train=450-500 | Test=500-550\n",
            "[CNN-LSTM] Walk-forward step: Train=475-525 | Test=525-575\n",
            "[CNN-LSTM] Walk-forward step: Train=500-550 | Test=550-600\n",
            "[CNN-LSTM] Walk-forward step: Train=525-575 | Test=575-625\n",
            "[CNN-LSTM] Walk-forward step: Train=550-600 | Test=600-650\n",
            "[CNN-LSTM] Walk-forward step: Train=575-625 | Test=625-675\n",
            "[CNN-LSTM] Walk-forward step: Train=600-650 | Test=650-700\n",
            "[CNN-LSTM] Walk-forward step: Train=625-675 | Test=675-725\n",
            "[CNN-LSTM] Walk-forward step: Train=650-700 | Test=700-750\n",
            "[CNN-LSTM] Walk-forward step: Train=675-725 | Test=725-775\n",
            "[CNN-LSTM] Walk-forward step: Train=700-750 | Test=750-800\n",
            "[CNN-LSTM] Walk-forward step: Train=725-775 | Test=775-825\n",
            "[CNN-LSTM] Walk-forward step: Train=750-800 | Test=800-850\n",
            "[CNN-LSTM] Walk-forward step: Train=775-825 | Test=825-875\n",
            "[CNN-LSTM] Walk-forward step: Train=800-850 | Test=850-900\n",
            "[CNN-LSTM] Walk-forward step: Train=825-875 | Test=875-925\n",
            "[CNN-LSTM] Walk-forward step: Train=850-900 | Test=900-950\n",
            "[CNN-LSTM] Walk-forward step: Train=875-925 | Test=925-975\n",
            "[CNN-LSTM] Walk-forward step: Train=900-950 | Test=950-1000\n",
            "[CNN-LSTM] Walk-forward step: Train=925-975 | Test=975-1025\n",
            "[CNN-LSTM] Walk-forward step: Train=950-1000 | Test=1000-1050\n",
            "[CNN-LSTM] Walk-forward step: Train=975-1025 | Test=1025-1075\n",
            "[CNN-LSTM] Walk-forward step: Train=1000-1050 | Test=1050-1100\n",
            "[CNN-LSTM] Walk-forward step: Train=1025-1075 | Test=1075-1125\n",
            "[CNN-LSTM] Walk-forward step: Train=1050-1100 | Test=1100-1150\n",
            "[CNN-LSTM] Walk-forward step: Train=1075-1125 | Test=1125-1175\n",
            "[CNN-LSTM] Walk-forward step: Train=1100-1150 | Test=1150-1200\n",
            "[CNN-LSTM] Walk-forward step: Train=1125-1175 | Test=1175-1225\n",
            "[CNN-LSTM] Walk-forward step: Train=1150-1200 | Test=1200-1250\n",
            "[CNN-LSTM] Walk-forward step: Train=1175-1225 | Test=1225-1275\n",
            "[CNN-LSTM] Walk-forward step: Train=1200-1250 | Test=1250-1300\n",
            "[CNN-LSTM] Walk-forward step: Train=1225-1275 | Test=1275-1325\n",
            "[CNN-LSTM] Walk-forward step: Train=1250-1300 | Test=1300-1350\n",
            "[CNN-LSTM] Walk-forward step: Train=1275-1325 | Test=1325-1375\n",
            "[CNN-LSTM] Walk-forward step: Train=1300-1350 | Test=1350-1400\n",
            "[CNN-LSTM] Walk-forward step: Train=1325-1375 | Test=1375-1425\n",
            "[CNN-LSTM] Walk-forward step: Train=1350-1400 | Test=1400-1450\n",
            "[CNN-LSTM] Walk-forward step: Train=1375-1425 | Test=1425-1475\n",
            "[CNN-LSTM] Walk-forward step: Train=1400-1450 | Test=1450-1500\n",
            "[CNN-LSTM] Walk-forward step: Train=1425-1475 | Test=1475-1525\n",
            "[CNN-LSTM] Walk-forward step: Train=1450-1500 | Test=1500-1550\n",
            "[CNN-LSTM] Walk-forward step: Train=1475-1525 | Test=1525-1575\n",
            "[CNN-LSTM] Walk-forward step: Train=1500-1550 | Test=1550-1600\n",
            "[CNN-LSTM] Walk-forward step: Train=1525-1575 | Test=1575-1625\n",
            "[CNN-LSTM] Walk-forward step: Train=1550-1600 | Test=1600-1650\n",
            "[CNN-LSTM] Walk-forward step: Train=1575-1625 | Test=1625-1675\n",
            "[CNN-LSTM] Walk-forward step: Train=1600-1650 | Test=1650-1700\n",
            "[CNN-LSTM] Walk-forward step: Train=1625-1675 | Test=1675-1725\n",
            "[CNN-LSTM] Walk-forward step: Train=1650-1700 | Test=1700-1750\n",
            "[CNN-LSTM] Walk-forward step: Train=1675-1725 | Test=1725-1775\n",
            "[CNN-LSTM] Walk-forward step: Train=1700-1750 | Test=1750-1800\n",
            "[CNN-LSTM] Walk-forward step: Train=1725-1775 | Test=1775-1825\n",
            "[CNN-LSTM] Walk-forward step: Train=1750-1800 | Test=1800-1850\n",
            "[CNN-LSTM] Walk-forward step: Train=1775-1825 | Test=1825-1875\n",
            "[CNN-LSTM] Walk-forward step: Train=1800-1850 | Test=1850-1900\n",
            "[CNN-LSTM] Walk-forward step: Train=1825-1875 | Test=1875-1925\n",
            "[CNN-LSTM] Walk-forward step: Train=1850-1900 | Test=1900-1950\n",
            "[CNN-LSTM] Walk-forward step: Train=1875-1925 | Test=1925-1975\n",
            "[CNN-LSTM] Walk-forward step: Train=1900-1950 | Test=1950-2000\n",
            "[CNN-LSTM] Walk-forward step: Train=1925-1975 | Test=1975-2025\n",
            "[CNN-LSTM] Walk-forward step: Train=1950-2000 | Test=2000-2050\n",
            "[CNN-LSTM] Walk-forward step: Train=1975-2025 | Test=2025-2075\n",
            "[CNN-LSTM] Walk-forward step: Train=2000-2050 | Test=2050-2100\n",
            "[CNN-LSTM] Walk-forward step: Train=2025-2075 | Test=2075-2125\n",
            "[CNN-LSTM] Walk-forward step: Train=2050-2100 | Test=2100-2150\n",
            "[CNN-LSTM] Walk-forward step: Train=2075-2125 | Test=2125-2175\n",
            "[CNN-LSTM] Walk-forward step: Train=2100-2150 | Test=2150-2200\n",
            "[CNN-LSTM] Walk-forward step: Train=2125-2175 | Test=2175-2225\n",
            "[CNN-LSTM] Walk-forward step: Train=2150-2200 | Test=2200-2250\n",
            "[CNN-LSTM] Walk-forward step: Train=2175-2225 | Test=2225-2275\n",
            "[CNN-LSTM] Walk-forward step: Train=2200-2250 | Test=2250-2300\n",
            "[CNN-LSTM] Walk-forward step: Train=2225-2275 | Test=2275-2325\n",
            "[CNN-LSTM] Walk-forward step: Train=2250-2300 | Test=2300-2350\n",
            "[CNN-LSTM] Walk-forward step: Train=2275-2325 | Test=2325-2361\n",
            "[CNN-LSTM] Walk-forward step: Train=2300-2350 | Test=2350-2361\n",
            "Debug: Final oos_predictions shape = (2361,)\n"
          ]
        },
        {
          "name": "stderr",
          "output_type": "stream",
          "text": [
            "[I 2025-05-21 19:56:25,982] A new study created in memory with name: no-name-a1df7780-d7fe-4008-8ca5-e5ffc28982fe\n",
            "[I 2025-05-21 19:56:26,279] Trial 0 finished with value: 4.0165382063590976e-07 and parameters: {'n_estimators': 117, 'max_depth': 11}. Best is trial 0 with value: 4.0165382063590976e-07.\n",
            "[I 2025-05-21 19:56:26,467] Trial 1 finished with value: 3.691301363894518e-07 and parameters: {'n_estimators': 137, 'max_depth': 18}. Best is trial 1 with value: 3.691301363894518e-07.\n",
            "[I 2025-05-21 19:56:26,600] Trial 2 finished with value: 4.072082356585087e-07 and parameters: {'n_estimators': 96, 'max_depth': 5}. Best is trial 1 with value: 3.691301363894518e-07.\n",
            "[I 2025-05-21 19:56:26,683] Trial 3 finished with value: 3.5536154941675756e-07 and parameters: {'n_estimators': 56, 'max_depth': 19}. Best is trial 3 with value: 3.5536154941675756e-07.\n",
            "[I 2025-05-21 19:56:26,893] Trial 4 finished with value: 3.452057664494092e-07 and parameters: {'n_estimators': 151, 'max_depth': 17}. Best is trial 4 with value: 3.452057664494092e-07.\n",
            "[I 2025-05-21 19:56:27,067] Trial 5 finished with value: 4.284146973222255e-07 and parameters: {'n_estimators': 120, 'max_depth': 5}. Best is trial 4 with value: 3.452057664494092e-07.\n",
            "[I 2025-05-21 19:56:27,283] Trial 6 finished with value: 3.597615559754195e-07 and parameters: {'n_estimators': 165, 'max_depth': 19}. Best is trial 4 with value: 3.452057664494092e-07.\n",
            "[I 2025-05-21 19:56:27,365] Trial 7 finished with value: 3.5536154941675756e-07 and parameters: {'n_estimators': 56, 'max_depth': 15}. Best is trial 4 with value: 3.452057664494092e-07.\n",
            "[I 2025-05-21 19:56:27,541] Trial 8 finished with value: 4.147316427633851e-07 and parameters: {'n_estimators': 121, 'max_depth': 10}. Best is trial 4 with value: 3.452057664494092e-07.\n",
            "[I 2025-05-21 19:56:27,769] Trial 9 finished with value: 3.8211865108552387e-07 and parameters: {'n_estimators': 172, 'max_depth': 5}. Best is trial 4 with value: 3.452057664494092e-07.\n",
            "[I 2025-05-21 19:56:28,035] Trial 10 finished with value: 3.377763386769515e-07 and parameters: {'n_estimators': 193, 'max_depth': 15}. Best is trial 10 with value: 3.377763386769515e-07.\n",
            "[I 2025-05-21 19:56:28,326] Trial 11 finished with value: 3.38323754277174e-07 and parameters: {'n_estimators': 195, 'max_depth': 15}. Best is trial 10 with value: 3.377763386769515e-07.\n",
            "[I 2025-05-21 19:56:28,607] Trial 12 finished with value: 3.4097419985418815e-07 and parameters: {'n_estimators': 199, 'max_depth': 14}. Best is trial 10 with value: 3.377763386769515e-07.\n",
            "[I 2025-05-21 19:56:28,881] Trial 13 finished with value: 3.373949588106933e-07 and parameters: {'n_estimators': 198, 'max_depth': 15}. Best is trial 13 with value: 3.373949588106933e-07.\n",
            "[I 2025-05-21 19:56:29,155] Trial 14 finished with value: 3.600354568783269e-07 and parameters: {'n_estimators': 177, 'max_depth': 12}. Best is trial 13 with value: 3.373949588106933e-07.\n",
            "[I 2025-05-21 19:56:29,470] Trial 15 finished with value: 3.49715796942242e-07 and parameters: {'n_estimators': 184, 'max_depth': 9}. Best is trial 13 with value: 3.373949588106933e-07.\n",
            "[I 2025-05-21 19:56:29,837] Trial 16 finished with value: 3.5443124298751006e-07 and parameters: {'n_estimators': 155, 'max_depth': 16}. Best is trial 13 with value: 3.373949588106933e-07.\n",
            "[I 2025-05-21 19:56:30,293] Trial 17 finished with value: 3.413529810344309e-07 and parameters: {'n_estimators': 199, 'max_depth': 8}. Best is trial 13 with value: 3.373949588106933e-07.\n",
            "[I 2025-05-21 19:56:30,518] Trial 18 finished with value: 3.973220137475453e-07 and parameters: {'n_estimators': 88, 'max_depth': 13}. Best is trial 13 with value: 3.373949588106933e-07.\n",
            "[I 2025-05-21 19:56:30,856] Trial 19 finished with value: 3.5024587035021324e-07 and parameters: {'n_estimators': 142, 'max_depth': 13}. Best is trial 13 with value: 3.373949588106933e-07.\n"
          ]
        },
        {
          "name": "stdout",
          "output_type": "stream",
          "text": [
            "[RandomForest] Best parameters from tuning: {'n_estimators': 198, 'max_depth': 15}\n",
            "Debug: Total starts = 93, covering indices 50 to 2350\n",
            "[RandomForest] Metrics - MSE: 0.000004, MAE: 0.000994, R2: 0.939074\n",
            "[RandomForest] Metrics - MSE: 0.000000, MAE: 0.000515, R2: 0.990568\n",
            "[RandomForest] Metrics - MSE: 0.000002, MAE: 0.000745, R2: 0.968929\n",
            "[RandomForest] Metrics - MSE: 0.000005, MAE: 0.000911, R2: 0.918193\n",
            "[RandomForest] Metrics - MSE: 0.000001, MAE: 0.000626, R2: 0.980179\n",
            "[RandomForest] Metrics - MSE: 0.000001, MAE: 0.000625, R2: 0.980327\n",
            "[RandomForest] Metrics - MSE: 0.000003, MAE: 0.000577, R2: 0.936977\n",
            "[RandomForest] Metrics - MSE: 0.000009, MAE: 0.001165, R2: 0.828115\n",
            "[RandomForest] Metrics - MSE: 0.000010, MAE: 0.000952, R2: 0.723883\n",
            "[RandomForest] Metrics - MSE: 0.000002, MAE: 0.000619, R2: 0.926430\n",
            "[RandomForest] Metrics - MSE: 0.000001, MAE: 0.000577, R2: 0.959755\n",
            "[RandomForest] Metrics - MSE: 0.000000, MAE: 0.000316, R2: 0.978300\n",
            "[RandomForest] Metrics - MSE: 0.000000, MAE: 0.000383, R2: 0.983593\n",
            "[RandomForest] Metrics - MSE: 0.000008, MAE: 0.000882, R2: 0.785406\n",
            "[RandomForest] Metrics - MSE: 0.000007, MAE: 0.001108, R2: 0.752085\n",
            "[RandomForest] Metrics - MSE: 0.000000, MAE: 0.000328, R2: 0.986682\n",
            "[RandomForest] Metrics - MSE: 0.000001, MAE: 0.000769, R2: 0.923294\n",
            "[RandomForest] Metrics - MSE: 0.000003, MAE: 0.000635, R2: 0.900940\n",
            "[RandomForest] Metrics - MSE: 0.000004, MAE: 0.001025, R2: 0.891294\n",
            "[RandomForest] Metrics - MSE: 0.000003, MAE: 0.001317, R2: 0.890959\n",
            "[RandomForest] Metrics - MSE: 0.000000, MAE: 0.000253, R2: 0.993352\n",
            "[RandomForest] Metrics - MSE: 0.000001, MAE: 0.000400, R2: 0.966047\n",
            "[RandomForest] Metrics - MSE: 0.000001, MAE: 0.000359, R2: 0.969116\n",
            "[RandomForest] Metrics - MSE: 0.000000, MAE: 0.000318, R2: 0.988350\n",
            "[RandomForest] Metrics - MSE: 0.000000, MAE: 0.000319, R2: 0.979127\n",
            "[RandomForest] Metrics - MSE: 0.000000, MAE: 0.000306, R2: 0.982236\n",
            "[RandomForest] Metrics - MSE: 0.000001, MAE: 0.000447, R2: 0.970837\n",
            "[RandomForest] Metrics - MSE: 0.000002, MAE: 0.000567, R2: 0.901403\n",
            "[RandomForest] Metrics - MSE: 0.000001, MAE: 0.000459, R2: 0.927515\n",
            "[RandomForest] Metrics - MSE: 0.000001, MAE: 0.000431, R2: 0.953624\n",
            "[RandomForest] Metrics - MSE: 0.000002, MAE: 0.000686, R2: 0.935649\n",
            "[RandomForest] Metrics - MSE: 0.000000, MAE: 0.000359, R2: 0.977298\n",
            "[RandomForest] Metrics - MSE: 0.000000, MAE: 0.000291, R2: 0.991160\n",
            "[RandomForest] Metrics - MSE: 0.000003, MAE: 0.000502, R2: 0.858059\n",
            "[RandomForest] Metrics - MSE: 0.000004, MAE: 0.000639, R2: 0.853223\n",
            "[RandomForest] Metrics - MSE: 0.000001, MAE: 0.000594, R2: 0.959566\n",
            "[RandomForest] Metrics - MSE: 0.000000, MAE: 0.000318, R2: 0.974445\n",
            "[RandomForest] Metrics - MSE: 0.000000, MAE: 0.000294, R2: 0.987886\n",
            "[RandomForest] Metrics - MSE: 0.000000, MAE: 0.000227, R2: 0.994975\n",
            "[RandomForest] Metrics - MSE: 0.000001, MAE: 0.000348, R2: 0.963989\n",
            "[RandomForest] Metrics - MSE: 0.000001, MAE: 0.000348, R2: 0.949174\n",
            "[RandomForest] Metrics - MSE: 0.000000, MAE: 0.000223, R2: 0.990846\n",
            "[RandomForest] Metrics - MSE: 0.000000, MAE: 0.000381, R2: 0.973336\n",
            "[RandomForest] Metrics - MSE: 0.000000, MAE: 0.000206, R2: 0.982991\n",
            "[RandomForest] Metrics - MSE: 0.000000, MAE: 0.000246, R2: 0.967082\n",
            "[RandomForest] Metrics - MSE: 0.000001, MAE: 0.000468, R2: 0.884078\n",
            "[RandomForest] Metrics - MSE: 0.000001, MAE: 0.000420, R2: 0.913929\n",
            "[RandomForest] Metrics - MSE: 0.000000, MAE: 0.000276, R2: 0.984972\n",
            "[RandomForest] Metrics - MSE: 0.000000, MAE: 0.000205, R2: 0.980489\n",
            "[RandomForest] Metrics - MSE: 0.000000, MAE: 0.000179, R2: 0.984941\n",
            "[RandomForest] Metrics - MSE: 0.000000, MAE: 0.000208, R2: 0.971751\n",
            "[RandomForest] Metrics - MSE: 0.000004, MAE: 0.000753, R2: 0.824394\n",
            "[RandomForest] Metrics - MSE: 0.000018, MAE: 0.001906, R2: 0.640549\n",
            "[RandomForest] Metrics - MSE: 0.000007, MAE: 0.000862, R2: 0.826895\n",
            "[RandomForest] Metrics - MSE: 0.000000, MAE: 0.000357, R2: 0.987352\n",
            "[RandomForest] Metrics - MSE: 0.000000, MAE: 0.000389, R2: 0.986842\n",
            "[RandomForest] Metrics - MSE: 0.000000, MAE: 0.000270, R2: 0.984882\n",
            "[RandomForest] Metrics - MSE: 0.000000, MAE: 0.000280, R2: 0.984865\n",
            "[RandomForest] Metrics - MSE: 0.000000, MAE: 0.000327, R2: 0.982448\n",
            "[RandomForest] Metrics - MSE: 0.000001, MAE: 0.000383, R2: 0.947661\n",
            "[RandomForest] Metrics - MSE: 0.000001, MAE: 0.000369, R2: 0.960602\n",
            "[RandomForest] Metrics - MSE: 0.000001, MAE: 0.000366, R2: 0.950486\n",
            "[RandomForest] Metrics - MSE: 0.000000, MAE: 0.000265, R2: 0.987640\n",
            "[RandomForest] Metrics - MSE: 0.000000, MAE: 0.000337, R2: 0.980881\n",
            "[RandomForest] Metrics - MSE: 0.000001, MAE: 0.000386, R2: 0.954911\n",
            "[RandomForest] Metrics - MSE: 0.000000, MAE: 0.000243, R2: 0.967095\n",
            "[RandomForest] Metrics - MSE: 0.000000, MAE: 0.000268, R2: 0.976122\n",
            "[RandomForest] Metrics - MSE: 0.000000, MAE: 0.000195, R2: 0.989426\n",
            "[RandomForest] Metrics - MSE: 0.000001, MAE: 0.000293, R2: 0.938759\n",
            "[RandomForest] Metrics - MSE: 0.000001, MAE: 0.000524, R2: 0.907346\n",
            "[RandomForest] Metrics - MSE: 0.000000, MAE: 0.000357, R2: 0.985205\n",
            "[RandomForest] Metrics - MSE: 0.000001, MAE: 0.000297, R2: 0.961279\n",
            "[RandomForest] Metrics - MSE: 0.000004, MAE: 0.000684, R2: 0.853489\n",
            "[RandomForest] Metrics - MSE: 0.000003, MAE: 0.000737, R2: 0.897056\n",
            "[RandomForest] Metrics - MSE: 0.000000, MAE: 0.000469, R2: 0.984449\n",
            "[RandomForest] Metrics - MSE: 0.000002, MAE: 0.000707, R2: 0.947362\n",
            "[RandomForest] Metrics - MSE: 0.000001, MAE: 0.000580, R2: 0.965998\n",
            "[RandomForest] Metrics - MSE: 0.000000, MAE: 0.000482, R2: 0.986387\n",
            "[RandomForest] Metrics - MSE: 0.000002, MAE: 0.000733, R2: 0.959112\n",
            "[RandomForest] Metrics - MSE: 0.000005, MAE: 0.001174, R2: 0.922027\n",
            "[RandomForest] Metrics - MSE: 0.000001, MAE: 0.000600, R2: 0.973417\n",
            "[RandomForest] Metrics - MSE: 0.000000, MAE: 0.000353, R2: 0.992846\n",
            "[RandomForest] Metrics - MSE: 0.000001, MAE: 0.000582, R2: 0.960677\n",
            "[RandomForest] Metrics - MSE: 0.000003, MAE: 0.001168, R2: 0.920669\n",
            "[RandomForest] Metrics - MSE: 0.000000, MAE: 0.000409, R2: 0.985998\n",
            "[RandomForest] Metrics - MSE: 0.000000, MAE: 0.000261, R2: 0.991697\n",
            "[RandomForest] Metrics - MSE: 0.000000, MAE: 0.000356, R2: 0.977728\n",
            "[RandomForest] Metrics - MSE: 0.000001, MAE: 0.000381, R2: 0.964063\n",
            "[RandomForest] Metrics - MSE: 0.000001, MAE: 0.000466, R2: 0.940820\n",
            "[RandomForest] Metrics - MSE: 0.000000, MAE: 0.000377, R2: 0.980965\n",
            "[RandomForest] Metrics - MSE: 0.000003, MAE: 0.000567, R2: 0.825060\n",
            "[RandomForest] Metrics - MSE: 0.000002, MAE: 0.000941, R2: 0.894977\n",
            "[RandomForest] Metrics - MSE: 0.000001, MAE: 0.000481, R2: 0.977857\n",
            "[RandomForest] Walk-forward step: Train=0-50 | Test=50-100\n",
            "[RandomForest] Walk-forward step: Train=25-75 | Test=75-125\n",
            "[RandomForest] Walk-forward step: Train=50-100 | Test=100-150\n",
            "[RandomForest] Walk-forward step: Train=75-125 | Test=125-175\n",
            "[RandomForest] Walk-forward step: Train=100-150 | Test=150-200\n",
            "[RandomForest] Walk-forward step: Train=125-175 | Test=175-225\n",
            "[RandomForest] Walk-forward step: Train=150-200 | Test=200-250\n",
            "[RandomForest] Walk-forward step: Train=175-225 | Test=225-275\n",
            "[RandomForest] Walk-forward step: Train=200-250 | Test=250-300\n",
            "[RandomForest] Walk-forward step: Train=225-275 | Test=275-325\n",
            "[RandomForest] Walk-forward step: Train=250-300 | Test=300-350\n",
            "[RandomForest] Walk-forward step: Train=275-325 | Test=325-375\n",
            "[RandomForest] Walk-forward step: Train=300-350 | Test=350-400\n",
            "[RandomForest] Walk-forward step: Train=325-375 | Test=375-425\n",
            "[RandomForest] Walk-forward step: Train=350-400 | Test=400-450\n",
            "[RandomForest] Walk-forward step: Train=375-425 | Test=425-475\n",
            "[RandomForest] Walk-forward step: Train=400-450 | Test=450-500\n",
            "[RandomForest] Walk-forward step: Train=425-475 | Test=475-525\n",
            "[RandomForest] Walk-forward step: Train=450-500 | Test=500-550\n",
            "[RandomForest] Walk-forward step: Train=475-525 | Test=525-575\n",
            "[RandomForest] Walk-forward step: Train=500-550 | Test=550-600\n",
            "[RandomForest] Walk-forward step: Train=525-575 | Test=575-625\n",
            "[RandomForest] Walk-forward step: Train=550-600 | Test=600-650\n",
            "[RandomForest] Walk-forward step: Train=575-625 | Test=625-675\n",
            "[RandomForest] Walk-forward step: Train=600-650 | Test=650-700\n",
            "[RandomForest] Walk-forward step: Train=625-675 | Test=675-725\n",
            "[RandomForest] Walk-forward step: Train=650-700 | Test=700-750\n",
            "[RandomForest] Walk-forward step: Train=675-725 | Test=725-775\n",
            "[RandomForest] Walk-forward step: Train=700-750 | Test=750-800\n",
            "[RandomForest] Walk-forward step: Train=725-775 | Test=775-825\n",
            "[RandomForest] Walk-forward step: Train=750-800 | Test=800-850\n",
            "[RandomForest] Walk-forward step: Train=775-825 | Test=825-875\n",
            "[RandomForest] Walk-forward step: Train=800-850 | Test=850-900\n",
            "[RandomForest] Walk-forward step: Train=825-875 | Test=875-925\n",
            "[RandomForest] Walk-forward step: Train=850-900 | Test=900-950\n",
            "[RandomForest] Walk-forward step: Train=875-925 | Test=925-975\n",
            "[RandomForest] Walk-forward step: Train=900-950 | Test=950-1000\n",
            "[RandomForest] Walk-forward step: Train=925-975 | Test=975-1025\n",
            "[RandomForest] Walk-forward step: Train=950-1000 | Test=1000-1050\n",
            "[RandomForest] Walk-forward step: Train=975-1025 | Test=1025-1075\n",
            "[RandomForest] Walk-forward step: Train=1000-1050 | Test=1050-1100\n",
            "[RandomForest] Walk-forward step: Train=1025-1075 | Test=1075-1125\n",
            "[RandomForest] Walk-forward step: Train=1050-1100 | Test=1100-1150\n",
            "[RandomForest] Walk-forward step: Train=1075-1125 | Test=1125-1175\n",
            "[RandomForest] Walk-forward step: Train=1100-1150 | Test=1150-1200\n",
            "[RandomForest] Walk-forward step: Train=1125-1175 | Test=1175-1225\n",
            "[RandomForest] Walk-forward step: Train=1150-1200 | Test=1200-1250\n",
            "[RandomForest] Walk-forward step: Train=1175-1225 | Test=1225-1275\n",
            "[RandomForest] Walk-forward step: Train=1200-1250 | Test=1250-1300\n",
            "[RandomForest] Walk-forward step: Train=1225-1275 | Test=1275-1325\n",
            "[RandomForest] Walk-forward step: Train=1250-1300 | Test=1300-1350\n",
            "[RandomForest] Walk-forward step: Train=1275-1325 | Test=1325-1375\n",
            "[RandomForest] Walk-forward step: Train=1300-1350 | Test=1350-1400\n",
            "[RandomForest] Walk-forward step: Train=1325-1375 | Test=1375-1425\n",
            "[RandomForest] Walk-forward step: Train=1350-1400 | Test=1400-1450\n",
            "[RandomForest] Walk-forward step: Train=1375-1425 | Test=1425-1475\n",
            "[RandomForest] Walk-forward step: Train=1400-1450 | Test=1450-1500\n",
            "[RandomForest] Walk-forward step: Train=1425-1475 | Test=1475-1525\n",
            "[RandomForest] Walk-forward step: Train=1450-1500 | Test=1500-1550\n",
            "[RandomForest] Walk-forward step: Train=1475-1525 | Test=1525-1575\n",
            "[RandomForest] Walk-forward step: Train=1500-1550 | Test=1550-1600\n",
            "[RandomForest] Walk-forward step: Train=1525-1575 | Test=1575-1625\n",
            "[RandomForest] Walk-forward step: Train=1550-1600 | Test=1600-1650\n",
            "[RandomForest] Walk-forward step: Train=1575-1625 | Test=1625-1675\n",
            "[RandomForest] Walk-forward step: Train=1600-1650 | Test=1650-1700\n",
            "[RandomForest] Walk-forward step: Train=1625-1675 | Test=1675-1725\n",
            "[RandomForest] Walk-forward step: Train=1650-1700 | Test=1700-1750\n",
            "[RandomForest] Walk-forward step: Train=1675-1725 | Test=1725-1775\n",
            "[RandomForest] Walk-forward step: Train=1700-1750 | Test=1750-1800\n",
            "[RandomForest] Walk-forward step: Train=1725-1775 | Test=1775-1825\n",
            "[RandomForest] Walk-forward step: Train=1750-1800 | Test=1800-1850\n",
            "[RandomForest] Walk-forward step: Train=1775-1825 | Test=1825-1875\n",
            "[RandomForest] Walk-forward step: Train=1800-1850 | Test=1850-1900\n",
            "[RandomForest] Walk-forward step: Train=1825-1875 | Test=1875-1925\n",
            "[RandomForest] Walk-forward step: Train=1850-1900 | Test=1900-1950\n",
            "[RandomForest] Walk-forward step: Train=1875-1925 | Test=1925-1975\n",
            "[RandomForest] Walk-forward step: Train=1900-1950 | Test=1950-2000\n",
            "[RandomForest] Walk-forward step: Train=1925-1975 | Test=1975-2025\n",
            "[RandomForest] Walk-forward step: Train=1950-2000 | Test=2000-2050\n",
            "[RandomForest] Walk-forward step: Train=1975-2025 | Test=2025-2075\n",
            "[RandomForest] Walk-forward step: Train=2000-2050 | Test=2050-2100\n",
            "[RandomForest] Walk-forward step: Train=2025-2075 | Test=2075-2125\n",
            "[RandomForest] Walk-forward step: Train=2050-2100 | Test=2100-2150\n",
            "[RandomForest] Walk-forward step: Train=2075-2125 | Test=2125-2175\n",
            "[RandomForest] Walk-forward step: Train=2100-2150 | Test=2150-2200\n",
            "[RandomForest] Walk-forward step: Train=2125-2175 | Test=2175-2225\n",
            "[RandomForest] Walk-forward step: Train=2150-2200 | Test=2200-2250\n",
            "[RandomForest] Walk-forward step: Train=2175-2225 | Test=2225-2275\n",
            "[RandomForest] Walk-forward step: Train=2200-2250 | Test=2250-2300\n",
            "[RandomForest] Walk-forward step: Train=2225-2275 | Test=2275-2325\n",
            "[RandomForest] Walk-forward step: Train=2250-2300 | Test=2300-2350\n",
            "[RandomForest] Walk-forward step: Train=2275-2325 | Test=2325-2361\n",
            "[RandomForest] Walk-forward step: Train=2300-2350 | Test=2350-2361\n",
            "Debug: Final oos_predictions shape = (2361,)\n"
          ]
        },
        {
          "name": "stderr",
          "output_type": "stream",
          "text": [
            "[I 2025-05-21 19:56:58,494] A new study created in memory with name: no-name-0a947f96-abfc-45ee-918f-35c3940e9fe6\n",
            "[I 2025-05-21 19:56:58,712] Trial 0 finished with value: 5.400369133221357e-06 and parameters: {'n_estimators': 171, 'max_depth': 5, 'learning_rate': 0.009101225953429451}. Best is trial 0 with value: 5.400369133221357e-06.\n",
            "[I 2025-05-21 19:56:58,764] Trial 1 finished with value: 2.3957866633515084e-05 and parameters: {'n_estimators': 157, 'max_depth': 8, 'learning_rate': 0.0034731735254866745}. Best is trial 0 with value: 5.400369133221357e-06.\n",
            "[I 2025-05-21 19:56:58,789] Trial 2 finished with value: 8.255199579843818e-08 and parameters: {'n_estimators': 83, 'max_depth': 8, 'learning_rate': 0.10488027267850804}. Best is trial 2 with value: 8.255199579843818e-08.\n",
            "[I 2025-05-21 19:56:58,807] Trial 3 finished with value: 8.499370963693482e-08 and parameters: {'n_estimators': 52, 'max_depth': 3, 'learning_rate': 0.2291797463075707}. Best is trial 2 with value: 8.255199579843818e-08.\n",
            "[I 2025-05-21 19:56:58,852] Trial 4 finished with value: 1.6143507729161187e-07 and parameters: {'n_estimators': 167, 'max_depth': 6, 'learning_rate': 0.028283547782850603}. Best is trial 2 with value: 8.255199579843818e-08.\n",
            "[I 2025-05-21 19:56:58,906] Trial 5 finished with value: 7.104244085877184e-06 and parameters: {'n_estimators': 136, 'max_depth': 6, 'learning_rate': 0.010033876907567291}. Best is trial 2 with value: 8.255199579843818e-08.\n",
            "[I 2025-05-21 19:56:58,935] Trial 6 finished with value: 8.420468860032432e-08 and parameters: {'n_estimators': 96, 'max_depth': 10, 'learning_rate': 0.10350596609429889}. Best is trial 2 with value: 8.255199579843818e-08.\n",
            "[I 2025-05-21 19:56:58,968] Trial 7 finished with value: 4.675216859934885e-05 and parameters: {'n_estimators': 86, 'max_depth': 4, 'learning_rate': 0.001407207139666031}. Best is trial 2 with value: 8.255199579843818e-08.\n",
            "[I 2025-05-21 19:56:59,005] Trial 8 finished with value: 6.959795611981939e-06 and parameters: {'n_estimators': 97, 'max_depth': 4, 'learning_rate': 0.014195090960160828}. Best is trial 2 with value: 8.255199579843818e-08.\n",
            "[I 2025-05-21 19:56:59,042] Trial 9 finished with value: 8.740532828992696e-07 and parameters: {'n_estimators': 98, 'max_depth': 4, 'learning_rate': 0.030406756664445433}. Best is trial 2 with value: 8.255199579843818e-08.\n",
            "[I 2025-05-21 19:56:59,084] Trial 10 finished with value: 2.2684761427827467e-07 and parameters: {'n_estimators': 50, 'max_depth': 8, 'learning_rate': 0.08505337746899358}. Best is trial 2 with value: 8.255199579843818e-08.\n",
            "[I 2025-05-21 19:56:59,140] Trial 11 finished with value: 8.484549710442444e-08 and parameters: {'n_estimators': 200, 'max_depth': 10, 'learning_rate': 0.278557761021222}. Best is trial 2 with value: 8.255199579843818e-08.\n",
            "[I 2025-05-21 19:56:59,185] Trial 12 finished with value: 8.703616880974718e-08 and parameters: {'n_estimators': 77, 'max_depth': 10, 'learning_rate': 0.07928807558669462}. Best is trial 2 with value: 8.255199579843818e-08.\n",
            "[I 2025-05-21 19:56:59,232] Trial 13 finished with value: 8.6607865832655e-08 and parameters: {'n_estimators': 117, 'max_depth': 8, 'learning_rate': 0.096378938093433}. Best is trial 2 with value: 8.255199579843818e-08.\n",
            "[I 2025-05-21 19:56:59,281] Trial 14 finished with value: 5.511819380600128e-07 and parameters: {'n_estimators': 72, 'max_depth': 9, 'learning_rate': 0.047065536913486375}. Best is trial 2 with value: 8.255199579843818e-08.\n",
            "[I 2025-05-21 19:56:59,326] Trial 15 finished with value: 8.276403972710103e-08 and parameters: {'n_estimators': 119, 'max_depth': 9, 'learning_rate': 0.16271498993629094}. Best is trial 2 with value: 8.255199579843818e-08.\n",
            "[I 2025-05-21 19:56:59,370] Trial 16 finished with value: 8.465063975778352e-08 and parameters: {'n_estimators': 122, 'max_depth': 7, 'learning_rate': 0.15540744941954318}. Best is trial 2 with value: 8.255199579843818e-08.\n",
            "[I 2025-05-21 19:56:59,425] Trial 17 finished with value: 8.798216503583336e-08 and parameters: {'n_estimators': 139, 'max_depth': 9, 'learning_rate': 0.048418709950796744}. Best is trial 2 with value: 8.255199579843818e-08.\n",
            "[I 2025-05-21 19:56:59,488] Trial 18 finished with value: 8.175718209324648e-08 and parameters: {'n_estimators': 111, 'max_depth': 9, 'learning_rate': 0.16683211568792203}. Best is trial 18 with value: 8.175718209324648e-08.\n",
            "[I 2025-05-21 19:56:59,531] Trial 19 finished with value: 7.411923426981606e-08 and parameters: {'n_estimators': 67, 'max_depth': 7, 'learning_rate': 0.2906659082883608}. Best is trial 19 with value: 7.411923426981606e-08.\n"
          ]
        },
        {
          "name": "stdout",
          "output_type": "stream",
          "text": [
            "[XGBoost] Best parameters from tuning: {'n_estimators': 67, 'max_depth': 7, 'learning_rate': 0.2906659082883608}\n",
            "Debug: Total starts = 93, covering indices 50 to 2350\n",
            "[XGBoost] Metrics - MSE: 0.000005, MAE: 0.001069, R2: 0.935016\n",
            "[XGBoost] Metrics - MSE: 0.000001, MAE: 0.000606, R2: 0.988579\n",
            "[XGBoost] Metrics - MSE: 0.000003, MAE: 0.000866, R2: 0.964603\n",
            "[XGBoost] Metrics - MSE: 0.000004, MAE: 0.000970, R2: 0.931843\n",
            "[XGBoost] Metrics - MSE: 0.000001, MAE: 0.000602, R2: 0.983876\n",
            "[XGBoost] Metrics - MSE: 0.000001, MAE: 0.000707, R2: 0.971594\n",
            "[XGBoost] Metrics - MSE: 0.000002, MAE: 0.000777, R2: 0.943864\n",
            "[XGBoost] Metrics - MSE: 0.000006, MAE: 0.001039, R2: 0.885458\n",
            "[XGBoost] Metrics - MSE: 0.000009, MAE: 0.001011, R2: 0.758937\n",
            "[XGBoost] Metrics - MSE: 0.000001, MAE: 0.000585, R2: 0.959638\n",
            "[XGBoost] Metrics - MSE: 0.000002, MAE: 0.000741, R2: 0.936410\n",
            "[XGBoost] Metrics - MSE: 0.000000, MAE: 0.000380, R2: 0.981633\n",
            "[XGBoost] Metrics - MSE: 0.000000, MAE: 0.000402, R2: 0.986767\n",
            "[XGBoost] Metrics - MSE: 0.000007, MAE: 0.000747, R2: 0.817867\n",
            "[XGBoost] Metrics - MSE: 0.000007, MAE: 0.000789, R2: 0.769508\n",
            "[XGBoost] Metrics - MSE: 0.000000, MAE: 0.000328, R2: 0.983888\n",
            "[XGBoost] Metrics - MSE: 0.000000, MAE: 0.000346, R2: 0.980612\n",
            "[XGBoost] Metrics - MSE: 0.000002, MAE: 0.000634, R2: 0.912260\n",
            "[XGBoost] Metrics - MSE: 0.000004, MAE: 0.001000, R2: 0.890589\n",
            "[XGBoost] Metrics - MSE: 0.000002, MAE: 0.000608, R2: 0.940677\n",
            "[XGBoost] Metrics - MSE: 0.000000, MAE: 0.000393, R2: 0.986900\n",
            "[XGBoost] Metrics - MSE: 0.000001, MAE: 0.000432, R2: 0.969334\n",
            "[XGBoost] Metrics - MSE: 0.000001, MAE: 0.000571, R2: 0.964163\n",
            "[XGBoost] Metrics - MSE: 0.000000, MAE: 0.000444, R2: 0.976907\n",
            "[XGBoost] Metrics - MSE: 0.000001, MAE: 0.000476, R2: 0.965617\n",
            "[XGBoost] Metrics - MSE: 0.000001, MAE: 0.000399, R2: 0.973300\n",
            "[XGBoost] Metrics - MSE: 0.000001, MAE: 0.000450, R2: 0.964579\n",
            "[XGBoost] Metrics - MSE: 0.000002, MAE: 0.000518, R2: 0.922687\n",
            "[XGBoost] Metrics - MSE: 0.000001, MAE: 0.000574, R2: 0.921392\n",
            "[XGBoost] Metrics - MSE: 0.000000, MAE: 0.000364, R2: 0.979227\n",
            "[XGBoost] Metrics - MSE: 0.000008, MAE: 0.001318, R2: 0.687987\n",
            "[XGBoost] Metrics - MSE: 0.000001, MAE: 0.000432, R2: 0.970944\n",
            "[XGBoost] Metrics - MSE: 0.000000, MAE: 0.000417, R2: 0.981102\n",
            "[XGBoost] Metrics - MSE: 0.000004, MAE: 0.000668, R2: 0.852809\n",
            "[XGBoost] Metrics - MSE: 0.000004, MAE: 0.000679, R2: 0.852564\n",
            "[XGBoost] Metrics - MSE: 0.000002, MAE: 0.000661, R2: 0.895290\n",
            "[XGBoost] Metrics - MSE: 0.000004, MAE: 0.000704, R2: 0.810991\n",
            "[XGBoost] Metrics - MSE: 0.000000, MAE: 0.000349, R2: 0.984237\n",
            "[XGBoost] Metrics - MSE: 0.000000, MAE: 0.000372, R2: 0.985521\n",
            "[XGBoost] Metrics - MSE: 0.000001, MAE: 0.000434, R2: 0.965937\n",
            "[XGBoost] Metrics - MSE: 0.000001, MAE: 0.000477, R2: 0.946321\n",
            "[XGBoost] Metrics - MSE: 0.000000, MAE: 0.000269, R2: 0.988885\n",
            "[XGBoost] Metrics - MSE: 0.000000, MAE: 0.000318, R2: 0.978361\n",
            "[XGBoost] Metrics - MSE: 0.000000, MAE: 0.000209, R2: 0.987779\n",
            "[XGBoost] Metrics - MSE: 0.000000, MAE: 0.000298, R2: 0.967793\n",
            "[XGBoost] Metrics - MSE: 0.000002, MAE: 0.000532, R2: 0.869100\n",
            "[XGBoost] Metrics - MSE: 0.000001, MAE: 0.000505, R2: 0.924069\n",
            "[XGBoost] Metrics - MSE: 0.000000, MAE: 0.000294, R2: 0.982585\n",
            "[XGBoost] Metrics - MSE: 0.000000, MAE: 0.000213, R2: 0.978045\n",
            "[XGBoost] Metrics - MSE: 0.000000, MAE: 0.000325, R2: 0.960439\n",
            "[XGBoost] Metrics - MSE: 0.000000, MAE: 0.000276, R2: 0.958841\n",
            "[XGBoost] Metrics - MSE: 0.000004, MAE: 0.000776, R2: 0.816052\n",
            "[XGBoost] Metrics - MSE: 0.000019, MAE: 0.001902, R2: 0.637480\n",
            "[XGBoost] Metrics - MSE: 0.000006, MAE: 0.000823, R2: 0.853586\n",
            "[XGBoost] Metrics - MSE: 0.000000, MAE: 0.000469, R2: 0.978631\n",
            "[XGBoost] Metrics - MSE: 0.000001, MAE: 0.000537, R2: 0.971177\n",
            "[XGBoost] Metrics - MSE: 0.000001, MAE: 0.000458, R2: 0.972920\n",
            "[XGBoost] Metrics - MSE: 0.000000, MAE: 0.000407, R2: 0.976051\n",
            "[XGBoost] Metrics - MSE: 0.000000, MAE: 0.000315, R2: 0.984136\n",
            "[XGBoost] Metrics - MSE: 0.000001, MAE: 0.000393, R2: 0.953342\n",
            "[XGBoost] Metrics - MSE: 0.000001, MAE: 0.000408, R2: 0.958844\n",
            "[XGBoost] Metrics - MSE: 0.000001, MAE: 0.000391, R2: 0.950128\n",
            "[XGBoost] Metrics - MSE: 0.000000, MAE: 0.000325, R2: 0.986032\n",
            "[XGBoost] Metrics - MSE: 0.000000, MAE: 0.000390, R2: 0.975966\n",
            "[XGBoost] Metrics - MSE: 0.000001, MAE: 0.000432, R2: 0.953465\n",
            "[XGBoost] Metrics - MSE: 0.000000, MAE: 0.000361, R2: 0.964175\n",
            "[XGBoost] Metrics - MSE: 0.000000, MAE: 0.000281, R2: 0.980843\n",
            "[XGBoost] Metrics - MSE: 0.000000, MAE: 0.000241, R2: 0.984814\n",
            "[XGBoost] Metrics - MSE: 0.000001, MAE: 0.000395, R2: 0.925232\n",
            "[XGBoost] Metrics - MSE: 0.000001, MAE: 0.000583, R2: 0.909709\n",
            "[XGBoost] Metrics - MSE: 0.000000, MAE: 0.000387, R2: 0.970818\n",
            "[XGBoost] Metrics - MSE: 0.000001, MAE: 0.000439, R2: 0.952554\n",
            "[XGBoost] Metrics - MSE: 0.000004, MAE: 0.000794, R2: 0.844661\n",
            "[XGBoost] Metrics - MSE: 0.000003, MAE: 0.000697, R2: 0.902283\n",
            "[XGBoost] Metrics - MSE: 0.000002, MAE: 0.000756, R2: 0.950118\n",
            "[XGBoost] Metrics - MSE: 0.000001, MAE: 0.000646, R2: 0.973044\n",
            "[XGBoost] Metrics - MSE: 0.000001, MAE: 0.000723, R2: 0.962464\n",
            "[XGBoost] Metrics - MSE: 0.000001, MAE: 0.000674, R2: 0.970339\n",
            "[XGBoost] Metrics - MSE: 0.000002, MAE: 0.000805, R2: 0.956801\n",
            "[XGBoost] Metrics - MSE: 0.000006, MAE: 0.001346, R2: 0.912083\n",
            "[XGBoost] Metrics - MSE: 0.000001, MAE: 0.000582, R2: 0.978437\n",
            "[XGBoost] Metrics - MSE: 0.000000, MAE: 0.000474, R2: 0.984675\n",
            "[XGBoost] Metrics - MSE: 0.000001, MAE: 0.000519, R2: 0.983225\n",
            "[XGBoost] Metrics - MSE: 0.000001, MAE: 0.000571, R2: 0.976280\n",
            "[XGBoost] Metrics - MSE: 0.000000, MAE: 0.000418, R2: 0.987456\n",
            "[XGBoost] Metrics - MSE: 0.000000, MAE: 0.000419, R2: 0.977618\n",
            "[XGBoost] Metrics - MSE: 0.000000, MAE: 0.000408, R2: 0.979032\n",
            "[XGBoost] Metrics - MSE: 0.000001, MAE: 0.000493, R2: 0.959354\n",
            "[XGBoost] Metrics - MSE: 0.000001, MAE: 0.000585, R2: 0.928824\n",
            "[XGBoost] Metrics - MSE: 0.000000, MAE: 0.000414, R2: 0.973480\n",
            "[XGBoost] Metrics - MSE: 0.000004, MAE: 0.000685, R2: 0.805590\n",
            "[XGBoost] Metrics - MSE: 0.000002, MAE: 0.000627, R2: 0.921350\n",
            "[XGBoost] Metrics - MSE: 0.000001, MAE: 0.000671, R2: 0.966606\n",
            "[XGBoost] Walk-forward step: Train=0-50 | Test=50-100\n",
            "[XGBoost] Walk-forward step: Train=25-75 | Test=75-125\n",
            "[XGBoost] Walk-forward step: Train=50-100 | Test=100-150\n",
            "[XGBoost] Walk-forward step: Train=75-125 | Test=125-175\n",
            "[XGBoost] Walk-forward step: Train=100-150 | Test=150-200\n",
            "[XGBoost] Walk-forward step: Train=125-175 | Test=175-225\n",
            "[XGBoost] Walk-forward step: Train=150-200 | Test=200-250\n",
            "[XGBoost] Walk-forward step: Train=175-225 | Test=225-275\n",
            "[XGBoost] Walk-forward step: Train=200-250 | Test=250-300\n",
            "[XGBoost] Walk-forward step: Train=225-275 | Test=275-325\n",
            "[XGBoost] Walk-forward step: Train=250-300 | Test=300-350\n",
            "[XGBoost] Walk-forward step: Train=275-325 | Test=325-375\n",
            "[XGBoost] Walk-forward step: Train=300-350 | Test=350-400\n",
            "[XGBoost] Walk-forward step: Train=325-375 | Test=375-425\n",
            "[XGBoost] Walk-forward step: Train=350-400 | Test=400-450\n",
            "[XGBoost] Walk-forward step: Train=375-425 | Test=425-475\n",
            "[XGBoost] Walk-forward step: Train=400-450 | Test=450-500\n",
            "[XGBoost] Walk-forward step: Train=425-475 | Test=475-525\n",
            "[XGBoost] Walk-forward step: Train=450-500 | Test=500-550\n",
            "[XGBoost] Walk-forward step: Train=475-525 | Test=525-575\n",
            "[XGBoost] Walk-forward step: Train=500-550 | Test=550-600\n",
            "[XGBoost] Walk-forward step: Train=525-575 | Test=575-625\n",
            "[XGBoost] Walk-forward step: Train=550-600 | Test=600-650\n",
            "[XGBoost] Walk-forward step: Train=575-625 | Test=625-675\n",
            "[XGBoost] Walk-forward step: Train=600-650 | Test=650-700\n",
            "[XGBoost] Walk-forward step: Train=625-675 | Test=675-725\n",
            "[XGBoost] Walk-forward step: Train=650-700 | Test=700-750\n",
            "[XGBoost] Walk-forward step: Train=675-725 | Test=725-775\n",
            "[XGBoost] Walk-forward step: Train=700-750 | Test=750-800\n",
            "[XGBoost] Walk-forward step: Train=725-775 | Test=775-825\n",
            "[XGBoost] Walk-forward step: Train=750-800 | Test=800-850\n",
            "[XGBoost] Walk-forward step: Train=775-825 | Test=825-875\n",
            "[XGBoost] Walk-forward step: Train=800-850 | Test=850-900\n",
            "[XGBoost] Walk-forward step: Train=825-875 | Test=875-925\n",
            "[XGBoost] Walk-forward step: Train=850-900 | Test=900-950\n",
            "[XGBoost] Walk-forward step: Train=875-925 | Test=925-975\n",
            "[XGBoost] Walk-forward step: Train=900-950 | Test=950-1000\n",
            "[XGBoost] Walk-forward step: Train=925-975 | Test=975-1025\n",
            "[XGBoost] Walk-forward step: Train=950-1000 | Test=1000-1050\n",
            "[XGBoost] Walk-forward step: Train=975-1025 | Test=1025-1075\n",
            "[XGBoost] Walk-forward step: Train=1000-1050 | Test=1050-1100\n",
            "[XGBoost] Walk-forward step: Train=1025-1075 | Test=1075-1125\n",
            "[XGBoost] Walk-forward step: Train=1050-1100 | Test=1100-1150\n",
            "[XGBoost] Walk-forward step: Train=1075-1125 | Test=1125-1175\n",
            "[XGBoost] Walk-forward step: Train=1100-1150 | Test=1150-1200\n",
            "[XGBoost] Walk-forward step: Train=1125-1175 | Test=1175-1225\n",
            "[XGBoost] Walk-forward step: Train=1150-1200 | Test=1200-1250\n",
            "[XGBoost] Walk-forward step: Train=1175-1225 | Test=1225-1275\n",
            "[XGBoost] Walk-forward step: Train=1200-1250 | Test=1250-1300\n",
            "[XGBoost] Walk-forward step: Train=1225-1275 | Test=1275-1325\n",
            "[XGBoost] Walk-forward step: Train=1250-1300 | Test=1300-1350\n",
            "[XGBoost] Walk-forward step: Train=1275-1325 | Test=1325-1375\n",
            "[XGBoost] Walk-forward step: Train=1300-1350 | Test=1350-1400\n",
            "[XGBoost] Walk-forward step: Train=1325-1375 | Test=1375-1425\n",
            "[XGBoost] Walk-forward step: Train=1350-1400 | Test=1400-1450\n",
            "[XGBoost] Walk-forward step: Train=1375-1425 | Test=1425-1475\n",
            "[XGBoost] Walk-forward step: Train=1400-1450 | Test=1450-1500\n",
            "[XGBoost] Walk-forward step: Train=1425-1475 | Test=1475-1525\n",
            "[XGBoost] Walk-forward step: Train=1450-1500 | Test=1500-1550\n",
            "[XGBoost] Walk-forward step: Train=1475-1525 | Test=1525-1575\n",
            "[XGBoost] Walk-forward step: Train=1500-1550 | Test=1550-1600\n",
            "[XGBoost] Walk-forward step: Train=1525-1575 | Test=1575-1625\n",
            "[XGBoost] Walk-forward step: Train=1550-1600 | Test=1600-1650\n",
            "[XGBoost] Walk-forward step: Train=1575-1625 | Test=1625-1675\n",
            "[XGBoost] Walk-forward step: Train=1600-1650 | Test=1650-1700\n",
            "[XGBoost] Walk-forward step: Train=1625-1675 | Test=1675-1725\n",
            "[XGBoost] Walk-forward step: Train=1650-1700 | Test=1700-1750\n",
            "[XGBoost] Walk-forward step: Train=1675-1725 | Test=1725-1775\n",
            "[XGBoost] Walk-forward step: Train=1700-1750 | Test=1750-1800\n",
            "[XGBoost] Walk-forward step: Train=1725-1775 | Test=1775-1825\n",
            "[XGBoost] Walk-forward step: Train=1750-1800 | Test=1800-1850\n",
            "[XGBoost] Walk-forward step: Train=1775-1825 | Test=1825-1875\n",
            "[XGBoost] Walk-forward step: Train=1800-1850 | Test=1850-1900\n",
            "[XGBoost] Walk-forward step: Train=1825-1875 | Test=1875-1925\n",
            "[XGBoost] Walk-forward step: Train=1850-1900 | Test=1900-1950\n",
            "[XGBoost] Walk-forward step: Train=1875-1925 | Test=1925-1975\n",
            "[XGBoost] Walk-forward step: Train=1900-1950 | Test=1950-2000\n",
            "[XGBoost] Walk-forward step: Train=1925-1975 | Test=1975-2025\n",
            "[XGBoost] Walk-forward step: Train=1950-2000 | Test=2000-2050\n",
            "[XGBoost] Walk-forward step: Train=1975-2025 | Test=2025-2075\n",
            "[XGBoost] Walk-forward step: Train=2000-2050 | Test=2050-2100\n",
            "[XGBoost] Walk-forward step: Train=2025-2075 | Test=2075-2125\n",
            "[XGBoost] Walk-forward step: Train=2050-2100 | Test=2100-2150\n",
            "[XGBoost] Walk-forward step: Train=2075-2125 | Test=2125-2175\n",
            "[XGBoost] Walk-forward step: Train=2100-2150 | Test=2150-2200\n",
            "[XGBoost] Walk-forward step: Train=2125-2175 | Test=2175-2225\n",
            "[XGBoost] Walk-forward step: Train=2150-2200 | Test=2200-2250\n",
            "[XGBoost] Walk-forward step: Train=2175-2225 | Test=2225-2275\n",
            "[XGBoost] Walk-forward step: Train=2200-2250 | Test=2250-2300\n",
            "[XGBoost] Walk-forward step: Train=2225-2275 | Test=2275-2325\n",
            "[XGBoost] Walk-forward step: Train=2250-2300 | Test=2300-2350\n",
            "[XGBoost] Walk-forward step: Train=2275-2325 | Test=2325-2361\n",
            "[XGBoost] Walk-forward step: Train=2300-2350 | Test=2350-2361\n",
            "Debug: Final oos_predictions shape = (2361,)\n"
          ]
        },
        {
          "name": "stderr",
          "output_type": "stream",
          "text": [
            "[I 2025-05-21 19:57:01,374] A new study created in memory with name: no-name-0eca406f-ea37-4ea6-81e7-b9fe66f92801\n"
          ]
        },
        {
          "name": "stdout",
          "output_type": "stream",
          "text": [
            "[OLS] Best parameters from tuning: {}\n",
            "Debug: Total starts = 93, covering indices 50 to 2350\n",
            "[OLS] Metrics - MSE: 0.000000, MAE: 0.000000, R2: 1.000000\n",
            "[OLS] Metrics - MSE: 0.000000, MAE: 0.000000, R2: 1.000000\n",
            "[OLS] Metrics - MSE: 0.000000, MAE: 0.000000, R2: 1.000000\n",
            "[OLS] Metrics - MSE: 0.000000, MAE: 0.000000, R2: 1.000000\n",
            "[OLS] Metrics - MSE: 0.000000, MAE: 0.000000, R2: 1.000000\n",
            "[OLS] Metrics - MSE: 0.000000, MAE: 0.000000, R2: 1.000000\n",
            "[OLS] Metrics - MSE: 0.000000, MAE: 0.000000, R2: 1.000000\n",
            "[OLS] Metrics - MSE: 0.000000, MAE: 0.000000, R2: 1.000000\n",
            "[OLS] Metrics - MSE: 0.000000, MAE: 0.000000, R2: 1.000000\n",
            "[OLS] Metrics - MSE: 0.000000, MAE: 0.000000, R2: 1.000000\n",
            "[OLS] Metrics - MSE: 0.000000, MAE: 0.000000, R2: 1.000000\n",
            "[OLS] Metrics - MSE: 0.000000, MAE: 0.000000, R2: 1.000000\n",
            "[OLS] Metrics - MSE: 0.000000, MAE: 0.000000, R2: 1.000000\n",
            "[OLS] Metrics - MSE: 0.000000, MAE: 0.000000, R2: 1.000000\n",
            "[OLS] Metrics - MSE: 0.000000, MAE: 0.000000, R2: 1.000000\n",
            "[OLS] Metrics - MSE: 0.000000, MAE: 0.000000, R2: 1.000000\n",
            "[OLS] Metrics - MSE: 0.000000, MAE: 0.000000, R2: 1.000000\n",
            "[OLS] Metrics - MSE: 0.000000, MAE: 0.000000, R2: 1.000000\n",
            "[OLS] Metrics - MSE: 0.000000, MAE: 0.000000, R2: 1.000000\n",
            "[OLS] Metrics - MSE: 0.000000, MAE: 0.000000, R2: 1.000000\n",
            "[OLS] Metrics - MSE: 0.000000, MAE: 0.000000, R2: 1.000000\n",
            "[OLS] Metrics - MSE: 0.000000, MAE: 0.000000, R2: 1.000000\n",
            "[OLS] Metrics - MSE: 0.000000, MAE: 0.000000, R2: 1.000000\n",
            "[OLS] Metrics - MSE: 0.000000, MAE: 0.000000, R2: 1.000000\n",
            "[OLS] Metrics - MSE: 0.000000, MAE: 0.000000, R2: 1.000000\n",
            "[OLS] Metrics - MSE: 0.000000, MAE: 0.000000, R2: 1.000000\n",
            "[OLS] Metrics - MSE: 0.000000, MAE: 0.000000, R2: 1.000000\n",
            "[OLS] Metrics - MSE: 0.000000, MAE: 0.000000, R2: 1.000000\n",
            "[OLS] Metrics - MSE: 0.000000, MAE: 0.000000, R2: 1.000000\n",
            "[OLS] Metrics - MSE: 0.000000, MAE: 0.000000, R2: 1.000000\n",
            "[OLS] Metrics - MSE: 0.000000, MAE: 0.000000, R2: 1.000000\n",
            "[OLS] Metrics - MSE: 0.000000, MAE: 0.000000, R2: 1.000000\n",
            "[OLS] Metrics - MSE: 0.000000, MAE: 0.000000, R2: 1.000000\n",
            "[OLS] Metrics - MSE: 0.000000, MAE: 0.000000, R2: 1.000000\n",
            "[OLS] Metrics - MSE: 0.000000, MAE: 0.000000, R2: 1.000000\n",
            "[OLS] Metrics - MSE: 0.000000, MAE: 0.000000, R2: 1.000000\n",
            "[OLS] Metrics - MSE: 0.000000, MAE: 0.000000, R2: 1.000000\n",
            "[OLS] Metrics - MSE: 0.000000, MAE: 0.000000, R2: 1.000000\n",
            "[OLS] Metrics - MSE: 0.000000, MAE: 0.000000, R2: 1.000000\n",
            "[OLS] Metrics - MSE: 0.000000, MAE: 0.000000, R2: 1.000000\n",
            "[OLS] Metrics - MSE: 0.000000, MAE: 0.000000, R2: 1.000000\n",
            "[OLS] Metrics - MSE: 0.000000, MAE: 0.000000, R2: 1.000000\n",
            "[OLS] Metrics - MSE: 0.000000, MAE: 0.000000, R2: 1.000000\n",
            "[OLS] Metrics - MSE: 0.000000, MAE: 0.000000, R2: 1.000000\n",
            "[OLS] Metrics - MSE: 0.000000, MAE: 0.000000, R2: 1.000000\n",
            "[OLS] Metrics - MSE: 0.000000, MAE: 0.000000, R2: 1.000000\n",
            "[OLS] Metrics - MSE: 0.000000, MAE: 0.000000, R2: 1.000000\n",
            "[OLS] Metrics - MSE: 0.000000, MAE: 0.000000, R2: 1.000000\n",
            "[OLS] Metrics - MSE: 0.000000, MAE: 0.000000, R2: 1.000000\n",
            "[OLS] Metrics - MSE: 0.000000, MAE: 0.000000, R2: 1.000000\n",
            "[OLS] Metrics - MSE: 0.000000, MAE: 0.000000, R2: 1.000000\n",
            "[OLS] Metrics - MSE: 0.000000, MAE: 0.000000, R2: 1.000000\n",
            "[OLS] Metrics - MSE: 0.000000, MAE: 0.000000, R2: 1.000000\n",
            "[OLS] Metrics - MSE: 0.000000, MAE: 0.000000, R2: 1.000000\n",
            "[OLS] Metrics - MSE: 0.000000, MAE: 0.000000, R2: 1.000000\n",
            "[OLS] Metrics - MSE: 0.000000, MAE: 0.000000, R2: 1.000000\n",
            "[OLS] Metrics - MSE: 0.000000, MAE: 0.000000, R2: 1.000000\n",
            "[OLS] Metrics - MSE: 0.000000, MAE: 0.000000, R2: 1.000000\n",
            "[OLS] Metrics - MSE: 0.000000, MAE: 0.000000, R2: 1.000000\n",
            "[OLS] Metrics - MSE: 0.000000, MAE: 0.000000, R2: 1.000000\n",
            "[OLS] Metrics - MSE: 0.000000, MAE: 0.000000, R2: 1.000000\n",
            "[OLS] Metrics - MSE: 0.000000, MAE: 0.000000, R2: 1.000000\n",
            "[OLS] Metrics - MSE: 0.000000, MAE: 0.000000, R2: 1.000000\n",
            "[OLS] Metrics - MSE: 0.000000, MAE: 0.000000, R2: 1.000000\n",
            "[OLS] Metrics - MSE: 0.000000, MAE: 0.000000, R2: 1.000000\n",
            "[OLS] Metrics - MSE: 0.000000, MAE: 0.000000, R2: 1.000000\n",
            "[OLS] Metrics - MSE: 0.000000, MAE: 0.000000, R2: 1.000000\n",
            "[OLS] Metrics - MSE: 0.000000, MAE: 0.000000, R2: 1.000000\n",
            "[OLS] Metrics - MSE: 0.000000, MAE: 0.000000, R2: 1.000000\n",
            "[OLS] Metrics - MSE: 0.000000, MAE: 0.000000, R2: 1.000000\n",
            "[OLS] Metrics - MSE: 0.000000, MAE: 0.000000, R2: 1.000000\n",
            "[OLS] Metrics - MSE: 0.000000, MAE: 0.000000, R2: 1.000000\n",
            "[OLS] Metrics - MSE: 0.000000, MAE: 0.000000, R2: 1.000000\n",
            "[OLS] Metrics - MSE: 0.000000, MAE: 0.000000, R2: 1.000000\n",
            "[OLS] Metrics - MSE: 0.000000, MAE: 0.000000, R2: 1.000000\n",
            "[OLS] Metrics - MSE: 0.000000, MAE: 0.000000, R2: 1.000000\n",
            "[OLS] Metrics - MSE: 0.000000, MAE: 0.000000, R2: 1.000000\n",
            "[OLS] Metrics - MSE: 0.000000, MAE: 0.000000, R2: 1.000000\n",
            "[OLS] Metrics - MSE: 0.000000, MAE: 0.000000, R2: 1.000000\n",
            "[OLS] Metrics - MSE: 0.000000, MAE: 0.000000, R2: 1.000000\n",
            "[OLS] Metrics - MSE: 0.000000, MAE: 0.000000, R2: 1.000000\n",
            "[OLS] Metrics - MSE: 0.000000, MAE: 0.000000, R2: 1.000000\n",
            "[OLS] Metrics - MSE: 0.000000, MAE: 0.000000, R2: 1.000000\n",
            "[OLS] Metrics - MSE: 0.000000, MAE: 0.000000, R2: 1.000000\n",
            "[OLS] Metrics - MSE: 0.000000, MAE: 0.000000, R2: 1.000000\n",
            "[OLS] Metrics - MSE: 0.000000, MAE: 0.000000, R2: 1.000000\n",
            "[OLS] Metrics - MSE: 0.000000, MAE: 0.000000, R2: 1.000000\n",
            "[OLS] Metrics - MSE: 0.000000, MAE: 0.000000, R2: 1.000000\n",
            "[OLS] Metrics - MSE: 0.000000, MAE: 0.000000, R2: 1.000000\n",
            "[OLS] Metrics - MSE: 0.000000, MAE: 0.000000, R2: 1.000000\n",
            "[OLS] Metrics - MSE: 0.000000, MAE: 0.000000, R2: 1.000000\n",
            "[OLS] Metrics - MSE: 0.000000, MAE: 0.000000, R2: 1.000000\n",
            "[OLS] Metrics - MSE: 0.000000, MAE: 0.000000, R2: 1.000000\n",
            "[OLS] Walk-forward step: Train=0-50 | Test=50-100\n",
            "[OLS] Walk-forward step: Train=25-75 | Test=75-125\n",
            "[OLS] Walk-forward step: Train=50-100 | Test=100-150\n",
            "[OLS] Walk-forward step: Train=75-125 | Test=125-175\n",
            "[OLS] Walk-forward step: Train=100-150 | Test=150-200\n",
            "[OLS] Walk-forward step: Train=125-175 | Test=175-225\n",
            "[OLS] Walk-forward step: Train=150-200 | Test=200-250\n",
            "[OLS] Walk-forward step: Train=175-225 | Test=225-275\n",
            "[OLS] Walk-forward step: Train=200-250 | Test=250-300\n",
            "[OLS] Walk-forward step: Train=225-275 | Test=275-325\n",
            "[OLS] Walk-forward step: Train=250-300 | Test=300-350\n",
            "[OLS] Walk-forward step: Train=275-325 | Test=325-375\n",
            "[OLS] Walk-forward step: Train=300-350 | Test=350-400\n",
            "[OLS] Walk-forward step: Train=325-375 | Test=375-425\n",
            "[OLS] Walk-forward step: Train=350-400 | Test=400-450\n",
            "[OLS] Walk-forward step: Train=375-425 | Test=425-475\n",
            "[OLS] Walk-forward step: Train=400-450 | Test=450-500\n",
            "[OLS] Walk-forward step: Train=425-475 | Test=475-525\n",
            "[OLS] Walk-forward step: Train=450-500 | Test=500-550\n",
            "[OLS] Walk-forward step: Train=475-525 | Test=525-575\n",
            "[OLS] Walk-forward step: Train=500-550 | Test=550-600\n",
            "[OLS] Walk-forward step: Train=525-575 | Test=575-625\n",
            "[OLS] Walk-forward step: Train=550-600 | Test=600-650\n",
            "[OLS] Walk-forward step: Train=575-625 | Test=625-675\n",
            "[OLS] Walk-forward step: Train=600-650 | Test=650-700\n",
            "[OLS] Walk-forward step: Train=625-675 | Test=675-725\n",
            "[OLS] Walk-forward step: Train=650-700 | Test=700-750\n",
            "[OLS] Walk-forward step: Train=675-725 | Test=725-775\n",
            "[OLS] Walk-forward step: Train=700-750 | Test=750-800\n",
            "[OLS] Walk-forward step: Train=725-775 | Test=775-825\n",
            "[OLS] Walk-forward step: Train=750-800 | Test=800-850\n",
            "[OLS] Walk-forward step: Train=775-825 | Test=825-875\n",
            "[OLS] Walk-forward step: Train=800-850 | Test=850-900\n",
            "[OLS] Walk-forward step: Train=825-875 | Test=875-925\n",
            "[OLS] Walk-forward step: Train=850-900 | Test=900-950\n",
            "[OLS] Walk-forward step: Train=875-925 | Test=925-975\n",
            "[OLS] Walk-forward step: Train=900-950 | Test=950-1000\n",
            "[OLS] Walk-forward step: Train=925-975 | Test=975-1025\n",
            "[OLS] Walk-forward step: Train=950-1000 | Test=1000-1050\n",
            "[OLS] Walk-forward step: Train=975-1025 | Test=1025-1075\n",
            "[OLS] Walk-forward step: Train=1000-1050 | Test=1050-1100\n",
            "[OLS] Walk-forward step: Train=1025-1075 | Test=1075-1125\n",
            "[OLS] Walk-forward step: Train=1050-1100 | Test=1100-1150\n",
            "[OLS] Walk-forward step: Train=1075-1125 | Test=1125-1175\n",
            "[OLS] Walk-forward step: Train=1100-1150 | Test=1150-1200\n",
            "[OLS] Walk-forward step: Train=1125-1175 | Test=1175-1225\n",
            "[OLS] Walk-forward step: Train=1150-1200 | Test=1200-1250\n",
            "[OLS] Walk-forward step: Train=1175-1225 | Test=1225-1275\n",
            "[OLS] Walk-forward step: Train=1200-1250 | Test=1250-1300\n",
            "[OLS] Walk-forward step: Train=1225-1275 | Test=1275-1325\n",
            "[OLS] Walk-forward step: Train=1250-1300 | Test=1300-1350\n",
            "[OLS] Walk-forward step: Train=1275-1325 | Test=1325-1375\n",
            "[OLS] Walk-forward step: Train=1300-1350 | Test=1350-1400\n",
            "[OLS] Walk-forward step: Train=1325-1375 | Test=1375-1425\n",
            "[OLS] Walk-forward step: Train=1350-1400 | Test=1400-1450\n",
            "[OLS] Walk-forward step: Train=1375-1425 | Test=1425-1475\n",
            "[OLS] Walk-forward step: Train=1400-1450 | Test=1450-1500\n",
            "[OLS] Walk-forward step: Train=1425-1475 | Test=1475-1525\n",
            "[OLS] Walk-forward step: Train=1450-1500 | Test=1500-1550\n",
            "[OLS] Walk-forward step: Train=1475-1525 | Test=1525-1575\n",
            "[OLS] Walk-forward step: Train=1500-1550 | Test=1550-1600\n",
            "[OLS] Walk-forward step: Train=1525-1575 | Test=1575-1625\n",
            "[OLS] Walk-forward step: Train=1550-1600 | Test=1600-1650\n",
            "[OLS] Walk-forward step: Train=1575-1625 | Test=1625-1675\n",
            "[OLS] Walk-forward step: Train=1600-1650 | Test=1650-1700\n",
            "[OLS] Walk-forward step: Train=1625-1675 | Test=1675-1725\n",
            "[OLS] Walk-forward step: Train=1650-1700 | Test=1700-1750\n",
            "[OLS] Walk-forward step: Train=1675-1725 | Test=1725-1775\n",
            "[OLS] Walk-forward step: Train=1700-1750 | Test=1750-1800\n",
            "[OLS] Walk-forward step: Train=1725-1775 | Test=1775-1825\n",
            "[OLS] Walk-forward step: Train=1750-1800 | Test=1800-1850\n",
            "[OLS] Walk-forward step: Train=1775-1825 | Test=1825-1875\n",
            "[OLS] Walk-forward step: Train=1800-1850 | Test=1850-1900\n",
            "[OLS] Walk-forward step: Train=1825-1875 | Test=1875-1925\n",
            "[OLS] Walk-forward step: Train=1850-1900 | Test=1900-1950\n",
            "[OLS] Walk-forward step: Train=1875-1925 | Test=1925-1975\n",
            "[OLS] Walk-forward step: Train=1900-1950 | Test=1950-2000\n",
            "[OLS] Walk-forward step: Train=1925-1975 | Test=1975-2025\n",
            "[OLS] Walk-forward step: Train=1950-2000 | Test=2000-2050\n",
            "[OLS] Walk-forward step: Train=1975-2025 | Test=2025-2075\n",
            "[OLS] Walk-forward step: Train=2000-2050 | Test=2050-2100\n",
            "[OLS] Walk-forward step: Train=2025-2075 | Test=2075-2125\n",
            "[OLS] Walk-forward step: Train=2050-2100 | Test=2100-2150\n",
            "[OLS] Walk-forward step: Train=2075-2125 | Test=2125-2175\n",
            "[OLS] Walk-forward step: Train=2100-2150 | Test=2150-2200\n",
            "[OLS] Walk-forward step: Train=2125-2175 | Test=2175-2225\n",
            "[OLS] Walk-forward step: Train=2150-2200 | Test=2200-2250\n",
            "[OLS] Walk-forward step: Train=2175-2225 | Test=2225-2275\n",
            "[OLS] Walk-forward step: Train=2200-2250 | Test=2250-2300\n",
            "[OLS] Walk-forward step: Train=2225-2275 | Test=2275-2325\n",
            "[OLS] Walk-forward step: Train=2250-2300 | Test=2300-2350\n",
            "[OLS] Walk-forward step: Train=2275-2325 | Test=2325-2361\n",
            "[OLS] Walk-forward step: Train=2300-2350 | Test=2350-2361\n",
            "Debug: Final oos_predictions shape = (2361,)\n",
            "[LSTM] Metrics after walk-forward - MSE: 0.000414, MAE: 0.015302, R2: -14.939297\n",
            "[CNN-LSTM] Metrics after walk-forward - MSE: 0.000280, MAE: 0.012400, R2: -9.785701\n",
            "[RandomForest] Metrics after walk-forward - MSE: 0.000003, MAE: 0.000648, R2: 0.884104\n",
            "[XGBoost] Metrics after walk-forward - MSE: 0.000003, MAE: 0.000671, R2: 0.885406\n",
            "[OLS] Metrics after walk-forward - MSE: 0.000001, MAE: 0.000129, R2: 0.949800\n"
          ]
        }
      ],
      "source": [
        "walk_forward_config = {\n",
        "    'short_window': CONFIG['short_window'],\n",
        "    'model_epochs': CONFIG['model_epochs'],\n",
        "    'model_batch_size': CONFIG['model_batch_size'],\n",
        "    'test_window_size': CONFIG['test_window_size'],\n",
        "    'encoding_dim': CONFIG['encoding_dim']\n",
        "}\n",
        "\n",
        "models = [('LSTM', 'sequence'), ('CNN-LSTM', 'sequence'), ('RandomForest', 'flat'), ('XGBoost', 'flat'), ('OLS', 'flat')]\n",
        "predictions = {}\n",
        "for model_name, model_type in models:\n",
        "    predictions[model_name] = walk_forward_retrain_and_predict(\n",
        "        model_name, model_type, X_seq, X_flat, y_seq, CONFIG['test_window_size'], walk_forward_config\n",
        "    )\n",
        "\n",
        "# Metrics after walk-forward validation\n",
        "for model_name, preds in predictions.items():\n",
        "    valid_preds = preds[~np.isnan(preds)]\n",
        "    if len(valid_preds) > 0:\n",
        "        mse = mean_squared_error(y_seq[~np.isnan(preds)], valid_preds)\n",
        "        mae = mean_absolute_error(y_seq[~np.isnan(preds)], valid_preds)\n",
        "        r2 = r2_score(y_seq[~np.isnan(preds)], valid_preds) if len(np.unique(y_seq[~np.isnan(preds)])) > 1 else 0\n",
        "        print(f\"[{model_name}] Metrics after walk-forward - MSE: {mse:.6f}, MAE: {mae:.6f}, R2: {r2:.6f}\")\n",
        "\n",
        "# Comment: Executed walk-forward validation for all models to generate predictions, with overall metrics."
      ]
    },
    {
      "cell_type": "markdown",
      "metadata": {
        "id": "RHejsLjDuLbq"
      },
      "source": [
        "## 12. Signal Generation"
      ]
    },
    {
      "cell_type": "code",
      "execution_count": null,
      "metadata": {
        "colab": {
          "background_save": true
        },
        "id": "3FuaVNmCuLbq",
        "outputId": "c9a22ed8-0dd7-4d21-843a-81bd125c4d01"
      },
      "outputs": [
        {
          "name": "stdout",
          "output_type": "stream",
          "text": [
            "Debug: signal_df shape = (2361, 18)\n",
            "Debug: Number of NaN in Predicted_ZScore = 0\n",
            "Debug: volatility shape = (2381,)\n",
            "Debug: Position value counts = {-1: 1133, 1: 635, 0: 593}\n",
            "Debug: Total time steps with non-zero positions = 1768\n",
            "Debug: Total trades triggered (entry/exit cycles) = 74\n",
            "Debug: signal_df shape = (2361, 18)\n",
            "Debug: Number of NaN in Predicted_ZScore = 0\n",
            "Debug: volatility shape = (2381,)\n",
            "Debug: Position value counts = {-1: 856, 0: 799, 1: 706}\n",
            "Debug: Total time steps with non-zero positions = 1562\n",
            "Debug: Total trades triggered (entry/exit cycles) = 90\n",
            "Debug: signal_df shape = (2361, 18)\n",
            "Debug: Number of NaN in Predicted_ZScore = 0\n",
            "Debug: volatility shape = (2381,)\n",
            "Debug: Position value counts = {0: 1785, -1: 315, 1: 261}\n",
            "Debug: Total time steps with non-zero positions = 576\n",
            "Debug: Total trades triggered (entry/exit cycles) = 389\n",
            "Debug: signal_df shape = (2361, 18)\n",
            "Debug: Number of NaN in Predicted_ZScore = 0\n",
            "Debug: volatility shape = (2381,)\n",
            "Debug: Position value counts = {0: 1815, 1: 300, -1: 246}\n",
            "Debug: Total time steps with non-zero positions = 546\n",
            "Debug: Total trades triggered (entry/exit cycles) = 371\n",
            "Debug: signal_df shape = (2361, 18)\n",
            "Debug: Number of NaN in Predicted_ZScore = 0\n",
            "Debug: volatility shape = (2381,)\n",
            "Debug: Position value counts = {0: 1793, -1: 285, 1: 283}\n",
            "Debug: Total time steps with non-zero positions = 568\n",
            "Debug: Total trades triggered (entry/exit cycles) = 392\n"
          ]
        }
      ],
      "source": [
        "def generate_signals(df: pd.DataFrame, predictions: np.ndarray, volatility: pd.Series,\n",
        "                     entry_threshold: float, exit_threshold: float, hold_period: int) -> pd.DataFrame:\n",
        "    df = df.copy().iloc[CONFIG['lookback']:].reset_index(drop=True)\n",
        "    print(f\"Debug: signal_df shape = {df.shape}\", flush=True)\n",
        "    print(f\"Debug: Number of NaN in Predicted_ZScore = {np.isnan(predictions).sum()}\", flush=True)\n",
        "    print(f\"Debug: volatility shape = {volatility.shape}\", flush=True)\n",
        "\n",
        "    df['Predicted_ZScore'] = predictions\n",
        "    df['Entry_Threshold'] = entry_threshold * volatility\n",
        "    df['Exit_Threshold'] = exit_threshold * volatility\n",
        "    df['Position'] = 0\n",
        "    df['Hold_Period'] = 0  # Track hold period for each trade\n",
        "\n",
        "    position = 0\n",
        "    current_hold = 0  # Track hold period for the current position\n",
        "    for i in range(len(df)):\n",
        "        z_score = df['Predicted_ZScore'].iloc[i]\n",
        "        if np.isnan(z_score):\n",
        "            df.iloc[i, df.columns.get_loc('Position')] = position\n",
        "            df.iloc[i, df.columns.get_loc('Hold_Period')] = current_hold\n",
        "            continue\n",
        "        entry = df['Entry_Threshold'].iloc[i]\n",
        "        exit_th = df['Exit_Threshold'].iloc[i]\n",
        "\n",
        "        # Update hold period\n",
        "        if position != 0:\n",
        "            current_hold += 1\n",
        "        else:\n",
        "            current_hold = 0\n",
        "\n",
        "        if position == 0:\n",
        "            if z_score > entry:\n",
        "                position = -1  # Short (inverse logic, swap to 1 if intended)\n",
        "            elif z_score < -entry:\n",
        "                position = 1   # Long\n",
        "        elif position == 1 and z_score > -exit_th:\n",
        "            position = 0\n",
        "        elif position == -1 and z_score < exit_th:\n",
        "            position = 0\n",
        "\n",
        "        df.iloc[i, df.columns.get_loc('Position')] = position\n",
        "        df.iloc[i, df.columns.get_loc('Hold_Period')] = current_hold\n",
        "\n",
        "    # Debug outputs\n",
        "    position_counts = df['Position'].value_counts().to_dict()\n",
        "    print(f\"Debug: Position value counts = {position_counts}\", flush=True)\n",
        "    print(f\"Debug: Total time steps with non-zero positions = {(df['Position'] != 0).sum()}\", flush=True)\n",
        "\n",
        "    # Calculate actual trades (entry/exit cycles)\n",
        "    df['Position_Change'] = (df['Position'] != df['Position'].shift()).astype(int)\n",
        "    df['Trade_Group'] = df['Position_Change'].cumsum()\n",
        "    trade_starts = ((df['Position'].shift() == 0) & (df['Position'] != 0)).sum()\n",
        "    print(f\"Debug: Total trades triggered (entry/exit cycles) = {trade_starts}\", flush=True)\n",
        "\n",
        "    return df\n",
        "\n",
        "# Generate signals (placeholder, to be used in Cell 13 with tuned parameters)\n",
        "signal_dfs = {}\n",
        "for model_name, preds in predictions.items():\n",
        "    signal_dfs[model_name] = generate_signals(data, preds, data['Volatility'], 1.0, 0.5, 5)  # Default values"
      ]
    },
    {
      "cell_type": "markdown",
      "metadata": {
        "id": "1VaJoRJwuLbr"
      },
      "source": [
        "## 13. Anomaly-Aware Trade Management"
      ]
    },
    {
      "cell_type": "code",
      "execution_count": null,
      "metadata": {
        "colab": {
          "background_save": true
        },
        "id": "M0Z_NMcbuLbr",
        "outputId": "f51581ce-6af9-403b-c750-aa0d3c788c07"
      },
      "outputs": [
        {
          "name": "stderr",
          "output_type": "stream",
          "text": [
            "[I 2025-05-21 19:57:07,348] A new study created in memory with name: no-name-6b65ae76-8270-48ce-99a9-f7bd4a5c062a\n"
          ]
        },
        {
          "name": "stdout",
          "output_type": "stream",
          "text": [
            "\n",
            "Tuning thresholds for LSTM...\n",
            "Debug: signal_df shape = (2361, 18)\n",
            "Debug: Number of NaN in Predicted_ZScore = 0\n",
            "Debug: volatility shape = (2381,)\n",
            "Debug: Position value counts = {0: 983, -1: 847, 1: 531}\n",
            "Debug: Total time steps with non-zero positions = 1378\n",
            "Debug: Total trades triggered (entry/exit cycles) = 56\n"
          ]
        },
        {
          "name": "stderr",
          "output_type": "stream",
          "text": [
            "[I 2025-05-21 19:57:08,969] Trial 0 finished with value: -0.005391482497462796 and parameters: {'entry_threshold': 2.2, 'exit_threshold': 0.6, 'hold_period': 5}. Best is trial 0 with value: -0.005391482497462796.\n"
          ]
        },
        {
          "name": "stdout",
          "output_type": "stream",
          "text": [
            "Debug: Anomaly threshold (95th percentile) = 0.0044876596236831925\n",
            "Debug: Total trades triggered (entry/exit cycles) = 56\n",
            "Debug: Position value counts = {0: 983, -1: 847, 1: 531}\n",
            "Debug: Total time steps with non-zero positions = 1378\n",
            "Debug: Total trades executed after risk management (entry/exit cycles) = 57\n",
            "Debug: Position_RM value counts = {0: 2053, -1: 165, 1: 143}\n",
            "Debug: Total time steps with non-zero positions after RM = 308\n",
            "Debug: Strategy_Returns_RM mean = -5.047488217990342e-07, std = 0.0018914178862812789\n",
            "Debug: Cumulative_Returns_RM final = 0.9946085175025372\n",
            "Debug: signal_df shape = (2361, 18)\n",
            "Debug: Number of NaN in Predicted_ZScore = 0\n",
            "Debug: volatility shape = (2381,)\n",
            "Debug: Position value counts = {0: 974, -1: 866, 1: 521}\n",
            "Debug: Total time steps with non-zero positions = 1387\n",
            "Debug: Total trades triggered (entry/exit cycles) = 49\n"
          ]
        },
        {
          "name": "stderr",
          "output_type": "stream",
          "text": [
            "[I 2025-05-21 19:57:09,983] Trial 1 finished with value: -0.01159080803070578 and parameters: {'entry_threshold': 2.4000000000000004, 'exit_threshold': 0.30000000000000004, 'hold_period': 7}. Best is trial 0 with value: -0.005391482497462796.\n"
          ]
        },
        {
          "name": "stdout",
          "output_type": "stream",
          "text": [
            "Debug: Anomaly threshold (95th percentile) = 0.0044876596236831925\n",
            "Debug: Total trades triggered (entry/exit cycles) = 49\n",
            "Debug: Position value counts = {0: 974, -1: 866, 1: 521}\n",
            "Debug: Total time steps with non-zero positions = 1387\n",
            "Debug: Total trades executed after risk management (entry/exit cycles) = 49\n",
            "Debug: Position_RM value counts = {0: 2016, -1: 179, 1: 166}\n",
            "Debug: Total time steps with non-zero positions after RM = 345\n",
            "Debug: Strategy_Returns_RM mean = -3.090940230432267e-06, std = 0.0019221394751695185\n",
            "Debug: Cumulative_Returns_RM final = 0.9884091919692942\n",
            "Debug: signal_df shape = (2361, 18)\n",
            "Debug: Number of NaN in Predicted_ZScore = 0\n",
            "Debug: volatility shape = (2381,)\n",
            "Debug: Position value counts = {-1: 1097, 0: 649, 1: 615}\n",
            "Debug: Total time steps with non-zero positions = 1712\n",
            "Debug: Total trades triggered (entry/exit cycles) = 60\n"
          ]
        },
        {
          "name": "stderr",
          "output_type": "stream",
          "text": [
            "[I 2025-05-21 19:57:10,992] Trial 2 finished with value: 0.05958468083690627 and parameters: {'entry_threshold': 1.4, 'exit_threshold': 0.1, 'hold_period': 15}. Best is trial 2 with value: 0.05958468083690627.\n"
          ]
        },
        {
          "name": "stdout",
          "output_type": "stream",
          "text": [
            "Debug: Anomaly threshold (95th percentile) = 0.0044876596236831925\n",
            "Debug: Total trades triggered (entry/exit cycles) = 60\n",
            "Debug: Position value counts = {-1: 1097, 0: 649, 1: 615}\n",
            "Debug: Total time steps with non-zero positions = 1712\n",
            "Debug: Total trades executed after risk management (entry/exit cycles) = 63\n",
            "Debug: Position_RM value counts = {0: 1599, -1: 420, 1: 342}\n",
            "Debug: Total time steps with non-zero positions after RM = 762\n",
            "Debug: Strategy_Returns_RM mean = 2.8497237923687857e-05, std = 0.0028250765911906474\n",
            "Debug: Cumulative_Returns_RM final = 1.0595846808369063\n",
            "Debug: signal_df shape = (2361, 18)\n",
            "Debug: Number of NaN in Predicted_ZScore = 0\n",
            "Debug: volatility shape = (2381,)\n",
            "Debug: Position value counts = {0: 937, -1: 893, 1: 531}\n",
            "Debug: Total time steps with non-zero positions = 1424\n",
            "Debug: Total trades triggered (entry/exit cycles) = 50\n"
          ]
        },
        {
          "name": "stderr",
          "output_type": "stream",
          "text": [
            "[I 2025-05-21 19:57:12,046] Trial 3 finished with value: -0.014282948673300488 and parameters: {'entry_threshold': 2.3, 'exit_threshold': 0.2, 'hold_period': 6}. Best is trial 2 with value: 0.05958468083690627.\n"
          ]
        },
        {
          "name": "stdout",
          "output_type": "stream",
          "text": [
            "Debug: Anomaly threshold (95th percentile) = 0.0044876596236831925\n",
            "Debug: Total trades triggered (entry/exit cycles) = 50\n",
            "Debug: Position value counts = {0: 937, -1: 893, 1: 531}\n",
            "Debug: Total time steps with non-zero positions = 1424\n",
            "Debug: Total trades executed after risk management (entry/exit cycles) = 51\n",
            "Debug: Position_RM value counts = {0: 2046, -1: 165, 1: 150}\n",
            "Debug: Total time steps with non-zero positions after RM = 315\n",
            "Debug: Strategy_Returns_RM mean = -4.453093701374207e-06, std = 0.0018113965831985674\n",
            "Debug: Cumulative_Returns_RM final = 0.9857170513266995\n",
            "Debug: signal_df shape = (2361, 18)\n",
            "Debug: Number of NaN in Predicted_ZScore = 0\n",
            "Debug: volatility shape = (2381,)\n",
            "Debug: Position value counts = {-1: 1179, 1: 675, 0: 507}\n",
            "Debug: Total time steps with non-zero positions = 1854\n",
            "Debug: Total trades triggered (entry/exit cycles) = 79\n"
          ]
        },
        {
          "name": "stderr",
          "output_type": "stream",
          "text": [
            "[I 2025-05-21 19:57:13,086] Trial 4 finished with value: -0.0003399433407610397 and parameters: {'entry_threshold': 0.6, 'exit_threshold': 0.5, 'hold_period': 8}. Best is trial 2 with value: 0.05958468083690627.\n"
          ]
        },
        {
          "name": "stdout",
          "output_type": "stream",
          "text": [
            "Debug: Anomaly threshold (95th percentile) = 0.0044876596236831925\n",
            "Debug: Total trades triggered (entry/exit cycles) = 79\n",
            "Debug: Position value counts = {-1: 1179, 1: 675, 0: 507}\n",
            "Debug: Total time steps with non-zero positions = 1854\n",
            "Debug: Total trades executed after risk management (entry/exit cycles) = 80\n",
            "Debug: Position_RM value counts = {0: 1759, -1: 325, 1: 277}\n",
            "Debug: Total time steps with non-zero positions after RM = 602\n",
            "Debug: Strategy_Returns_RM mean = 3.1919168251967054e-06, std = 0.0025848309081893295\n",
            "Debug: Cumulative_Returns_RM final = 0.999660056659239\n",
            "Debug: signal_df shape = (2361, 18)\n",
            "Debug: Number of NaN in Predicted_ZScore = 0\n",
            "Debug: volatility shape = (2381,)\n",
            "Debug: Position value counts = {0: 973, -1: 867, 1: 521}\n",
            "Debug: Total time steps with non-zero positions = 1388\n",
            "Debug: Total trades triggered (entry/exit cycles) = 48\n"
          ]
        },
        {
          "name": "stderr",
          "output_type": "stream",
          "text": [
            "[I 2025-05-21 19:57:14,097] Trial 5 finished with value: 0.0229846125582569 and parameters: {'entry_threshold': 2.5, 'exit_threshold': 0.2, 'hold_period': 3}. Best is trial 2 with value: 0.05958468083690627.\n"
          ]
        },
        {
          "name": "stdout",
          "output_type": "stream",
          "text": [
            "Debug: Anomaly threshold (95th percentile) = 0.0044876596236831925\n",
            "Debug: Total trades triggered (entry/exit cycles) = 48\n",
            "Debug: Position value counts = {0: 973, -1: 867, 1: 521}\n",
            "Debug: Total time steps with non-zero positions = 1388\n",
            "Debug: Total trades executed after risk management (entry/exit cycles) = 47\n",
            "Debug: Position_RM value counts = {0: 2184, -1: 90, 1: 87}\n",
            "Debug: Total time steps with non-zero positions after RM = 177\n",
            "Debug: Strategy_Returns_RM mean = 1.0755247883746434e-05, std = 0.0015042060161689756\n",
            "Debug: Cumulative_Returns_RM final = 1.022984612558257\n",
            "Debug: signal_df shape = (2361, 18)\n",
            "Debug: Number of NaN in Predicted_ZScore = 0\n",
            "Debug: volatility shape = (2381,)\n",
            "Debug: Position value counts = {-1: 1013, 0: 781, 1: 567}\n",
            "Debug: Total time steps with non-zero positions = 1580\n",
            "Debug: Total trades triggered (entry/exit cycles) = 56\n"
          ]
        },
        {
          "name": "stderr",
          "output_type": "stream",
          "text": [
            "[I 2025-05-21 19:57:15,123] Trial 6 finished with value: 0.0754990169097256 and parameters: {'entry_threshold': 1.9000000000000001, 'exit_threshold': 0.2, 'hold_period': 4}. Best is trial 6 with value: 0.0754990169097256.\n"
          ]
        },
        {
          "name": "stdout",
          "output_type": "stream",
          "text": [
            "Debug: Anomaly threshold (95th percentile) = 0.0044876596236831925\n",
            "Debug: Total trades triggered (entry/exit cycles) = 56\n",
            "Debug: Position value counts = {-1: 1013, 0: 781, 1: 567}\n",
            "Debug: Total time steps with non-zero positions = 1580\n",
            "Debug: Total trades executed after risk management (entry/exit cycles) = 55\n",
            "Debug: Position_RM value counts = {0: 2100, -1: 144, 1: 117}\n",
            "Debug: Total time steps with non-zero positions after RM = 261\n",
            "Debug: Strategy_Returns_RM mean = 3.248034322548559e-05, std = 0.0018207565355170504\n",
            "Debug: Cumulative_Returns_RM final = 1.0754990169097256\n",
            "Debug: signal_df shape = (2361, 18)\n",
            "Debug: Number of NaN in Predicted_ZScore = 0\n",
            "Debug: volatility shape = (2381,)\n",
            "Debug: Position value counts = {-1: 930, 0: 882, 1: 549}\n",
            "Debug: Total time steps with non-zero positions = 1479\n",
            "Debug: Total trades triggered (entry/exit cycles) = 65\n"
          ]
        },
        {
          "name": "stderr",
          "output_type": "stream",
          "text": [
            "[I 2025-05-21 19:57:16,187] Trial 7 finished with value: 0.06794855950787904 and parameters: {'entry_threshold': 1.8, 'exit_threshold': 0.7000000000000001, 'hold_period': 11}. Best is trial 6 with value: 0.0754990169097256.\n"
          ]
        },
        {
          "name": "stdout",
          "output_type": "stream",
          "text": [
            "Debug: Anomaly threshold (95th percentile) = 0.0044876596236831925\n",
            "Debug: Total trades triggered (entry/exit cycles) = 65\n",
            "Debug: Position value counts = {-1: 930, 0: 882, 1: 549}\n",
            "Debug: Total time steps with non-zero positions = 1479\n",
            "Debug: Total trades executed after risk management (entry/exit cycles) = 67\n",
            "Debug: Position_RM value counts = {0: 1728, -1: 359, 1: 274}\n",
            "Debug: Total time steps with non-zero positions after RM = 633\n",
            "Debug: Strategy_Returns_RM mean = 3.0999378650742725e-05, std = 0.002514924000476111\n",
            "Debug: Cumulative_Returns_RM final = 1.067948559507879\n",
            "Debug: signal_df shape = (2361, 18)\n",
            "Debug: Number of NaN in Predicted_ZScore = 0\n",
            "Debug: volatility shape = (2381,)\n",
            "Debug: Position value counts = {-1: 1160, 1: 671, 0: 530}\n",
            "Debug: Total time steps with non-zero positions = 1831\n",
            "Debug: Total trades triggered (entry/exit cycles) = 85\n"
          ]
        },
        {
          "name": "stderr",
          "output_type": "stream",
          "text": [
            "[I 2025-05-21 19:57:17,268] Trial 8 finished with value: 0.013603750894632727 and parameters: {'entry_threshold': 0.6, 'exit_threshold': 0.6, 'hold_period': 5}. Best is trial 6 with value: 0.0754990169097256.\n"
          ]
        },
        {
          "name": "stdout",
          "output_type": "stream",
          "text": [
            "Debug: Anomaly threshold (95th percentile) = 0.0044876596236831925\n",
            "Debug: Total trades triggered (entry/exit cycles) = 85\n",
            "Debug: Position value counts = {-1: 1160, 1: 671, 0: 530}\n",
            "Debug: Total time steps with non-zero positions = 1831\n",
            "Debug: Total trades executed after risk management (entry/exit cycles) = 85\n",
            "Debug: Position_RM value counts = {0: 1910, -1: 251, 1: 200}\n",
            "Debug: Total time steps with non-zero positions after RM = 451\n",
            "Debug: Strategy_Returns_RM mean = 8.55999366700056e-06, std = 0.002384002013346591\n",
            "Debug: Cumulative_Returns_RM final = 1.0136037508946327\n",
            "Debug: signal_df shape = (2361, 18)\n",
            "Debug: Number of NaN in Predicted_ZScore = 0\n",
            "Debug: volatility shape = (2381,)\n",
            "Debug: Position value counts = {-1: 1085, 0: 675, 1: 601}\n",
            "Debug: Total time steps with non-zero positions = 1686\n",
            "Debug: Total trades triggered (entry/exit cycles) = 67\n"
          ]
        },
        {
          "name": "stderr",
          "output_type": "stream",
          "text": [
            "[I 2025-05-21 19:57:18,306] Trial 9 finished with value: 0.02992481547883452 and parameters: {'entry_threshold': 1.2000000000000002, 'exit_threshold': 0.5, 'hold_period': 15}. Best is trial 6 with value: 0.0754990169097256.\n"
          ]
        },
        {
          "name": "stdout",
          "output_type": "stream",
          "text": [
            "Debug: Anomaly threshold (95th percentile) = 0.0044876596236831925\n",
            "Debug: Total trades triggered (entry/exit cycles) = 67\n",
            "Debug: Position value counts = {-1: 1085, 0: 675, 1: 601}\n",
            "Debug: Total time steps with non-zero positions = 1686\n",
            "Debug: Total trades executed after risk management (entry/exit cycles) = 70\n",
            "Debug: Position_RM value counts = {0: 1543, -1: 455, 1: 363}\n",
            "Debug: Total time steps with non-zero positions after RM = 818\n",
            "Debug: Strategy_Returns_RM mean = 1.6619479513050968e-05, std = 0.002875917649814611\n",
            "Debug: Cumulative_Returns_RM final = 1.0299248154788345\n",
            "Debug: signal_df shape = (2361, 18)\n",
            "Debug: Number of NaN in Predicted_ZScore = 0\n",
            "Debug: volatility shape = (2381,)\n",
            "Debug: Position value counts = {0: 1170, -1: 729, 1: 462}\n",
            "Debug: Total time steps with non-zero positions = 1191\n",
            "Debug: Total trades triggered (entry/exit cycles) = 48\n"
          ]
        },
        {
          "name": "stderr",
          "output_type": "stream",
          "text": [
            "[I 2025-05-21 19:57:19,600] Trial 10 finished with value: 0.07014952308071276 and parameters: {'entry_threshold': 3.0, 'exit_threshold': 1.0, 'hold_period': 10}. Best is trial 6 with value: 0.0754990169097256.\n"
          ]
        },
        {
          "name": "stdout",
          "output_type": "stream",
          "text": [
            "Debug: Anomaly threshold (95th percentile) = 0.0044876596236831925\n",
            "Debug: Total trades triggered (entry/exit cycles) = 48\n",
            "Debug: Position value counts = {0: 1170, -1: 729, 1: 462}\n",
            "Debug: Total time steps with non-zero positions = 1191\n",
            "Debug: Total trades executed after risk management (entry/exit cycles) = 51\n",
            "Debug: Position_RM value counts = {0: 1926, -1: 228, 1: 207}\n",
            "Debug: Total time steps with non-zero positions after RM = 435\n",
            "Debug: Strategy_Returns_RM mean = 3.073223225896157e-05, std = 0.0020088130927901917\n",
            "Debug: Cumulative_Returns_RM final = 1.0701495230807128\n",
            "Debug: signal_df shape = (2361, 18)\n",
            "Debug: Number of NaN in Predicted_ZScore = 0\n",
            "Debug: volatility shape = (2381,)\n",
            "Debug: Position value counts = {0: 1170, -1: 729, 1: 462}\n",
            "Debug: Total time steps with non-zero positions = 1191\n",
            "Debug: Total trades triggered (entry/exit cycles) = 48\n"
          ]
        },
        {
          "name": "stderr",
          "output_type": "stream",
          "text": [
            "[I 2025-05-21 19:57:21,265] Trial 11 finished with value: 0.10370344912280927 and parameters: {'entry_threshold': 3.0, 'exit_threshold': 1.0, 'hold_period': 11}. Best is trial 11 with value: 0.10370344912280927.\n"
          ]
        },
        {
          "name": "stdout",
          "output_type": "stream",
          "text": [
            "Debug: Anomaly threshold (95th percentile) = 0.0044876596236831925\n",
            "Debug: Total trades triggered (entry/exit cycles) = 48\n",
            "Debug: Position value counts = {0: 1170, -1: 729, 1: 462}\n",
            "Debug: Total time steps with non-zero positions = 1191\n",
            "Debug: Total trades executed after risk management (entry/exit cycles) = 51\n",
            "Debug: Position_RM value counts = {0: 1897, -1: 243, 1: 221}\n",
            "Debug: Total time steps with non-zero positions after RM = 464\n",
            "Debug: Strategy_Returns_RM mean = 4.3937895215063174e-05, std = 0.0020721410068669133\n",
            "Debug: Cumulative_Returns_RM final = 1.1037034491228093\n",
            "Debug: signal_df shape = (2361, 18)\n",
            "Debug: Number of NaN in Predicted_ZScore = 0\n",
            "Debug: volatility shape = (2381,)\n",
            "Debug: Position value counts = {0: 1170, -1: 729, 1: 462}\n",
            "Debug: Total time steps with non-zero positions = 1191\n",
            "Debug: Total trades triggered (entry/exit cycles) = 48\n"
          ]
        },
        {
          "name": "stderr",
          "output_type": "stream",
          "text": [
            "[I 2025-05-21 19:57:22,302] Trial 12 finished with value: 0.09537254641480364 and parameters: {'entry_threshold': 3.0, 'exit_threshold': 1.0, 'hold_period': 12}. Best is trial 11 with value: 0.10370344912280927.\n"
          ]
        },
        {
          "name": "stdout",
          "output_type": "stream",
          "text": [
            "Debug: Anomaly threshold (95th percentile) = 0.0044876596236831925\n",
            "Debug: Total trades triggered (entry/exit cycles) = 48\n",
            "Debug: Position value counts = {0: 1170, -1: 729, 1: 462}\n",
            "Debug: Total time steps with non-zero positions = 1191\n",
            "Debug: Total trades executed after risk management (entry/exit cycles) = 51\n",
            "Debug: Position_RM value counts = {0: 1871, -1: 256, 1: 234}\n",
            "Debug: Total time steps with non-zero positions after RM = 490\n",
            "Debug: Strategy_Returns_RM mean = 4.08356645505376e-05, std = 0.0021231209711319783\n",
            "Debug: Cumulative_Returns_RM final = 1.0953725464148036\n",
            "Debug: signal_df shape = (2361, 18)\n",
            "Debug: Number of NaN in Predicted_ZScore = 0\n",
            "Debug: volatility shape = (2381,)\n",
            "Debug: Position value counts = {0: 1170, -1: 729, 1: 462}\n",
            "Debug: Total time steps with non-zero positions = 1191\n",
            "Debug: Total trades triggered (entry/exit cycles) = 48\n"
          ]
        },
        {
          "name": "stderr",
          "output_type": "stream",
          "text": [
            "[I 2025-05-21 19:57:23,349] Trial 13 finished with value: 0.09537254641480364 and parameters: {'entry_threshold': 3.0, 'exit_threshold': 1.0, 'hold_period': 12}. Best is trial 11 with value: 0.10370344912280927.\n"
          ]
        },
        {
          "name": "stdout",
          "output_type": "stream",
          "text": [
            "Debug: Anomaly threshold (95th percentile) = 0.0044876596236831925\n",
            "Debug: Total trades triggered (entry/exit cycles) = 48\n",
            "Debug: Position value counts = {0: 1170, -1: 729, 1: 462}\n",
            "Debug: Total time steps with non-zero positions = 1191\n",
            "Debug: Total trades executed after risk management (entry/exit cycles) = 51\n",
            "Debug: Position_RM value counts = {0: 1871, -1: 256, 1: 234}\n",
            "Debug: Total time steps with non-zero positions after RM = 490\n",
            "Debug: Strategy_Returns_RM mean = 4.08356645505376e-05, std = 0.0021231209711319783\n",
            "Debug: Cumulative_Returns_RM final = 1.0953725464148036\n",
            "Debug: signal_df shape = (2361, 18)\n",
            "Debug: Number of NaN in Predicted_ZScore = 0\n",
            "Debug: volatility shape = (2381,)\n",
            "Debug: Position value counts = {0: 1120, -1: 762, 1: 479}\n",
            "Debug: Total time steps with non-zero positions = 1241\n",
            "Debug: Total trades triggered (entry/exit cycles) = 51\n"
          ]
        },
        {
          "name": "stderr",
          "output_type": "stream",
          "text": [
            "[I 2025-05-21 19:57:24,383] Trial 14 finished with value: 0.06405536423332614 and parameters: {'entry_threshold': 2.7, 'exit_threshold': 0.8, 'hold_period': 13}. Best is trial 11 with value: 0.10370344912280927.\n"
          ]
        },
        {
          "name": "stdout",
          "output_type": "stream",
          "text": [
            "Debug: Anomaly threshold (95th percentile) = 0.0044876596236831925\n",
            "Debug: Total trades triggered (entry/exit cycles) = 51\n",
            "Debug: Position value counts = {0: 1120, -1: 762, 1: 479}\n",
            "Debug: Total time steps with non-zero positions = 1241\n",
            "Debug: Total trades executed after risk management (entry/exit cycles) = 54\n",
            "Debug: Position_RM value counts = {0: 1820, -1: 289, 1: 252}\n",
            "Debug: Total time steps with non-zero positions after RM = 541\n",
            "Debug: Strategy_Returns_RM mean = 2.878366849800772e-05, std = 0.0022305909115358916\n",
            "Debug: Cumulative_Returns_RM final = 1.0640553642333261\n",
            "Debug: signal_df shape = (2361, 18)\n",
            "Debug: Number of NaN in Predicted_ZScore = 0\n",
            "Debug: volatility shape = (2381,)\n",
            "Debug: Position value counts = {0: 1150, -1: 740, 1: 471}\n",
            "Debug: Total time steps with non-zero positions = 1211\n",
            "Debug: Total trades triggered (entry/exit cycles) = 49\n"
          ]
        },
        {
          "name": "stderr",
          "output_type": "stream",
          "text": [
            "[I 2025-05-21 19:57:25,419] Trial 15 finished with value: 0.030980485495066157 and parameters: {'entry_threshold': 2.8000000000000003, 'exit_threshold': 0.9, 'hold_period': 9}. Best is trial 11 with value: 0.10370344912280927.\n"
          ]
        },
        {
          "name": "stdout",
          "output_type": "stream",
          "text": [
            "Debug: Anomaly threshold (95th percentile) = 0.0044876596236831925\n",
            "Debug: Total trades triggered (entry/exit cycles) = 49\n",
            "Debug: Position value counts = {0: 1150, -1: 740, 1: 471}\n",
            "Debug: Total time steps with non-zero positions = 1211\n",
            "Debug: Total trades executed after risk management (entry/exit cycles) = 51\n",
            "Debug: Position_RM value counts = {0: 1953, -1: 216, 1: 192}\n",
            "Debug: Total time steps with non-zero positions after RM = 408\n",
            "Debug: Strategy_Returns_RM mean = 1.4889742758619839e-05, std = 0.001984139540690457\n",
            "Debug: Cumulative_Returns_RM final = 1.0309804854950662\n",
            "Debug: signal_df shape = (2361, 18)\n",
            "Debug: Number of NaN in Predicted_ZScore = 0\n",
            "Debug: volatility shape = (2381,)\n",
            "Debug: Position value counts = {0: 1120, -1: 762, 1: 479}\n",
            "Debug: Total time steps with non-zero positions = 1241\n",
            "Debug: Total trades triggered (entry/exit cycles) = 51\n"
          ]
        },
        {
          "name": "stderr",
          "output_type": "stream",
          "text": [
            "[I 2025-05-21 19:57:26,484] Trial 16 finished with value: 0.06405536423332614 and parameters: {'entry_threshold': 2.7, 'exit_threshold': 0.8, 'hold_period': 13}. Best is trial 11 with value: 0.10370344912280927.\n"
          ]
        },
        {
          "name": "stdout",
          "output_type": "stream",
          "text": [
            "Debug: Anomaly threshold (95th percentile) = 0.0044876596236831925\n",
            "Debug: Total trades triggered (entry/exit cycles) = 51\n",
            "Debug: Position value counts = {0: 1120, -1: 762, 1: 479}\n",
            "Debug: Total time steps with non-zero positions = 1241\n",
            "Debug: Total trades executed after risk management (entry/exit cycles) = 54\n",
            "Debug: Position_RM value counts = {0: 1820, -1: 289, 1: 252}\n",
            "Debug: Total time steps with non-zero positions after RM = 541\n",
            "Debug: Strategy_Returns_RM mean = 2.878366849800772e-05, std = 0.0022305909115358916\n",
            "Debug: Cumulative_Returns_RM final = 1.0640553642333261\n",
            "Debug: signal_df shape = (2361, 18)\n",
            "Debug: Number of NaN in Predicted_ZScore = 0\n",
            "Debug: volatility shape = (2381,)\n",
            "Debug: Position value counts = {-1: 981, 0: 804, 1: 576}\n",
            "Debug: Total time steps with non-zero positions = 1557\n",
            "Debug: Total trades triggered (entry/exit cycles) = 72\n"
          ]
        },
        {
          "name": "stderr",
          "output_type": "stream",
          "text": [
            "[I 2025-05-21 19:57:27,528] Trial 17 finished with value: 0.02841926654241078 and parameters: {'entry_threshold': 1.4, 'exit_threshold': 0.9, 'hold_period': 10}. Best is trial 11 with value: 0.10370344912280927.\n"
          ]
        },
        {
          "name": "stdout",
          "output_type": "stream",
          "text": [
            "Debug: Anomaly threshold (95th percentile) = 0.0044876596236831925\n",
            "Debug: Total trades triggered (entry/exit cycles) = 72\n",
            "Debug: Position value counts = {-1: 981, 0: 804, 1: 576}\n",
            "Debug: Total time steps with non-zero positions = 1557\n",
            "Debug: Total trades executed after risk management (entry/exit cycles) = 74\n",
            "Debug: Position_RM value counts = {0: 1721, -1: 371, 1: 269}\n",
            "Debug: Total time steps with non-zero positions after RM = 640\n",
            "Debug: Strategy_Returns_RM mean = 1.5251845675608578e-05, std = 0.0026037754219728195\n",
            "Debug: Cumulative_Returns_RM final = 1.0284192665424108\n",
            "Debug: signal_df shape = (2361, 18)\n",
            "Debug: Number of NaN in Predicted_ZScore = 0\n",
            "Debug: volatility shape = (2381,)\n",
            "Debug: Position value counts = {0: 1013, -1: 827, 1: 521}\n",
            "Debug: Total time steps with non-zero positions = 1348\n",
            "Debug: Total trades triggered (entry/exit cycles) = 61\n"
          ]
        },
        {
          "name": "stderr",
          "output_type": "stream",
          "text": [
            "[I 2025-05-21 19:57:28,577] Trial 18 finished with value: 0.060136357093727666 and parameters: {'entry_threshold': 2.1, 'exit_threshold': 1.0, 'hold_period': 13}. Best is trial 11 with value: 0.10370344912280927.\n"
          ]
        },
        {
          "name": "stdout",
          "output_type": "stream",
          "text": [
            "Debug: Anomaly threshold (95th percentile) = 0.0044876596236831925\n",
            "Debug: Total trades triggered (entry/exit cycles) = 61\n",
            "Debug: Position value counts = {0: 1013, -1: 827, 1: 521}\n",
            "Debug: Total time steps with non-zero positions = 1348\n",
            "Debug: Total trades executed after risk management (entry/exit cycles) = 64\n",
            "Debug: Position_RM value counts = {0: 1735, -1: 335, 1: 291}\n",
            "Debug: Total time steps with non-zero positions after RM = 626\n",
            "Debug: Strategy_Returns_RM mean = 2.7681110636339738e-05, std = 0.0024293830303284037\n",
            "Debug: Cumulative_Returns_RM final = 1.0601363570937277\n",
            "Debug: signal_df shape = (2361, 18)\n",
            "Debug: Number of NaN in Predicted_ZScore = 0\n",
            "Debug: volatility shape = (2381,)\n",
            "Debug: Position value counts = {0: 1103, -1: 777, 1: 481}\n",
            "Debug: Total time steps with non-zero positions = 1258\n",
            "Debug: Total trades triggered (entry/exit cycles) = 52\n"
          ]
        },
        {
          "name": "stderr",
          "output_type": "stream",
          "text": [
            "[I 2025-05-21 19:57:29,630] Trial 19 finished with value: 0.07902705547772482 and parameters: {'entry_threshold': 2.6, 'exit_threshold': 0.8, 'hold_period': 11}. Best is trial 11 with value: 0.10370344912280927.\n",
            "[I 2025-05-21 19:57:29,632] A new study created in memory with name: no-name-cabc66fe-d446-4976-a01c-ff6cd405157d\n"
          ]
        },
        {
          "name": "stdout",
          "output_type": "stream",
          "text": [
            "Debug: Anomaly threshold (95th percentile) = 0.0044876596236831925\n",
            "Debug: Total trades triggered (entry/exit cycles) = 52\n",
            "Debug: Position value counts = {0: 1103, -1: 777, 1: 481}\n",
            "Debug: Total time steps with non-zero positions = 1258\n",
            "Debug: Total trades executed after risk management (entry/exit cycles) = 55\n",
            "Debug: Position_RM value counts = {0: 1861, -1: 272, 1: 228}\n",
            "Debug: Total time steps with non-zero positions after RM = 500\n",
            "Debug: Strategy_Returns_RM mean = 3.451994348533287e-05, std = 0.0021475118316171076\n",
            "Debug: Cumulative_Returns_RM final = 1.0790270554777248\n",
            "Best parameters for LSTM: entry_threshold = 3.0, exit_threshold = 1.0, hold_period = 11\n",
            "Best cumulative return for LSTM: 0.10370344912280927\n",
            "\n",
            "Tuning thresholds for CNN-LSTM...\n",
            "Debug: signal_df shape = (2361, 18)\n",
            "Debug: Number of NaN in Predicted_ZScore = 0\n",
            "Debug: volatility shape = (2381,)\n",
            "Debug: Position value counts = {-1: 960, 1: 814, 0: 587}\n",
            "Debug: Total time steps with non-zero positions = 1774\n",
            "Debug: Total trades triggered (entry/exit cycles) = 127\n"
          ]
        },
        {
          "name": "stderr",
          "output_type": "stream",
          "text": [
            "[I 2025-05-21 19:57:30,658] Trial 0 finished with value: -0.25899637603834647 and parameters: {'entry_threshold': 0.5, 'exit_threshold': 0.4, 'hold_period': 7}. Best is trial 0 with value: -0.25899637603834647.\n"
          ]
        },
        {
          "name": "stdout",
          "output_type": "stream",
          "text": [
            "Debug: Anomaly threshold (95th percentile) = 0.0044876596236831925\n",
            "Debug: Total trades triggered (entry/exit cycles) = 127\n",
            "Debug: Position value counts = {-1: 960, 1: 814, 0: 587}\n",
            "Debug: Total time steps with non-zero positions = 1774\n",
            "Debug: Total trades executed after risk management (entry/exit cycles) = 129\n",
            "Debug: Position_RM value counts = {0: 1705, -1: 328, 1: 328}\n",
            "Debug: Total time steps with non-zero positions after RM = 656\n",
            "Debug: Strategy_Returns_RM mean = -0.00012372605248144847, std = 0.0025381020488173685\n",
            "Debug: Cumulative_Returns_RM final = 0.7410036239616535\n",
            "Debug: signal_df shape = (2361, 18)\n",
            "Debug: Number of NaN in Predicted_ZScore = 0\n",
            "Debug: volatility shape = (2381,)\n",
            "Debug: Position value counts = {-1: 822, 0: 792, 1: 747}\n",
            "Debug: Total time steps with non-zero positions = 1569\n",
            "Debug: Total trades triggered (entry/exit cycles) = 71\n"
          ]
        },
        {
          "name": "stderr",
          "output_type": "stream",
          "text": [
            "[I 2025-05-21 19:57:31,970] Trial 1 finished with value: -0.05451924471847358 and parameters: {'entry_threshold': 1.3, 'exit_threshold': 0.1, 'hold_period': 3}. Best is trial 1 with value: -0.05451924471847358.\n"
          ]
        },
        {
          "name": "stdout",
          "output_type": "stream",
          "text": [
            "Debug: Anomaly threshold (95th percentile) = 0.0044876596236831925\n",
            "Debug: Total trades triggered (entry/exit cycles) = 71\n",
            "Debug: Position value counts = {-1: 822, 0: 792, 1: 747}\n",
            "Debug: Total time steps with non-zero positions = 1569\n",
            "Debug: Total trades executed after risk management (entry/exit cycles) = 72\n",
            "Debug: Position_RM value counts = {0: 2095, -1: 137, 1: 129}\n",
            "Debug: Total time steps with non-zero positions after RM = 266\n",
            "Debug: Strategy_Returns_RM mean = -2.2440226459619156e-05, std = 0.0016140633733259127\n",
            "Debug: Cumulative_Returns_RM final = 0.9454807552815264\n",
            "Debug: signal_df shape = (2361, 18)\n",
            "Debug: Number of NaN in Predicted_ZScore = 0\n",
            "Debug: volatility shape = (2381,)\n",
            "Debug: Position value counts = {-1: 954, 1: 821, 0: 586}\n",
            "Debug: Total time steps with non-zero positions = 1775\n",
            "Debug: Total trades triggered (entry/exit cycles) = 100\n"
          ]
        },
        {
          "name": "stderr",
          "output_type": "stream",
          "text": [
            "[I 2025-05-21 19:57:33,578] Trial 2 finished with value: -0.17856849040774692 and parameters: {'entry_threshold': 0.6, 'exit_threshold': 0.30000000000000004, 'hold_period': 3}. Best is trial 1 with value: -0.05451924471847358.\n"
          ]
        },
        {
          "name": "stdout",
          "output_type": "stream",
          "text": [
            "Debug: Anomaly threshold (95th percentile) = 0.0044876596236831925\n",
            "Debug: Total trades triggered (entry/exit cycles) = 100\n",
            "Debug: Position value counts = {-1: 954, 1: 821, 0: 586}\n",
            "Debug: Total time steps with non-zero positions = 1775\n",
            "Debug: Total trades executed after risk management (entry/exit cycles) = 100\n",
            "Debug: Position_RM value counts = {0: 2019, -1: 171, 1: 171}\n",
            "Debug: Total time steps with non-zero positions after RM = 342\n",
            "Debug: Strategy_Returns_RM mean = -8.165399181654216e-05, std = 0.0018190752692105456\n",
            "Debug: Cumulative_Returns_RM final = 0.8214315095922531\n",
            "Debug: signal_df shape = (2361, 18)\n",
            "Debug: Number of NaN in Predicted_ZScore = 0\n",
            "Debug: volatility shape = (2381,)\n",
            "Debug: Position value counts = {0: 1015, -1: 712, 1: 634}\n",
            "Debug: Total time steps with non-zero positions = 1346\n",
            "Debug: Total trades triggered (entry/exit cycles) = 67\n"
          ]
        },
        {
          "name": "stderr",
          "output_type": "stream",
          "text": [
            "[I 2025-05-21 19:57:34,628] Trial 3 finished with value: -0.15144452911128603 and parameters: {'entry_threshold': 1.7000000000000002, 'exit_threshold': 0.4, 'hold_period': 8}. Best is trial 1 with value: -0.05451924471847358.\n"
          ]
        },
        {
          "name": "stdout",
          "output_type": "stream",
          "text": [
            "Debug: Anomaly threshold (95th percentile) = 0.0044876596236831925\n",
            "Debug: Total trades triggered (entry/exit cycles) = 67\n",
            "Debug: Position value counts = {0: 1015, -1: 712, 1: 634}\n",
            "Debug: Total time steps with non-zero positions = 1346\n",
            "Debug: Total trades executed after risk management (entry/exit cycles) = 69\n",
            "Debug: Position_RM value counts = {0: 1850, -1: 274, 1: 237}\n",
            "Debug: Total time steps with non-zero positions after RM = 511\n",
            "Debug: Strategy_Returns_RM mean = -6.699700485153535e-05, std = 0.002259797840770435\n",
            "Debug: Cumulative_Returns_RM final = 0.848555470888714\n",
            "Debug: signal_df shape = (2361, 18)\n",
            "Debug: Number of NaN in Predicted_ZScore = 0\n",
            "Debug: volatility shape = (2381,)\n",
            "Debug: Position value counts = {0: 1003, -1: 730, 1: 628}\n",
            "Debug: Total time steps with non-zero positions = 1358\n",
            "Debug: Total trades triggered (entry/exit cycles) = 80\n"
          ]
        },
        {
          "name": "stderr",
          "output_type": "stream",
          "text": [
            "[I 2025-05-21 19:57:35,665] Trial 4 finished with value: -0.14280433718197583 and parameters: {'entry_threshold': 1.4, 'exit_threshold': 0.7000000000000001, 'hold_period': 13}. Best is trial 1 with value: -0.05451924471847358.\n"
          ]
        },
        {
          "name": "stdout",
          "output_type": "stream",
          "text": [
            "Debug: Anomaly threshold (95th percentile) = 0.0044876596236831925\n",
            "Debug: Total trades triggered (entry/exit cycles) = 80\n",
            "Debug: Position value counts = {0: 1003, -1: 730, 1: 628}\n",
            "Debug: Total time steps with non-zero positions = 1358\n",
            "Debug: Total trades executed after risk management (entry/exit cycles) = 82\n",
            "Debug: Position_RM value counts = {0: 1578, -1: 437, 1: 346}\n",
            "Debug: Total time steps with non-zero positions after RM = 783\n",
            "Debug: Strategy_Returns_RM mean = -6.150140345468373e-05, std = 0.0027413893048562985\n",
            "Debug: Cumulative_Returns_RM final = 0.8571956628180242\n",
            "Debug: signal_df shape = (2361, 18)\n",
            "Debug: Number of NaN in Predicted_ZScore = 0\n",
            "Debug: volatility shape = (2381,)\n",
            "Debug: Position value counts = {-1: 856, 0: 799, 1: 706}\n",
            "Debug: Total time steps with non-zero positions = 1562\n",
            "Debug: Total trades triggered (entry/exit cycles) = 90\n"
          ]
        },
        {
          "name": "stderr",
          "output_type": "stream",
          "text": [
            "[I 2025-05-21 19:57:36,691] Trial 5 finished with value: -0.20284519778479648 and parameters: {'entry_threshold': 1.0, 'exit_threshold': 0.5, 'hold_period': 12}. Best is trial 1 with value: -0.05451924471847358.\n"
          ]
        },
        {
          "name": "stdout",
          "output_type": "stream",
          "text": [
            "Debug: Anomaly threshold (95th percentile) = 0.0044876596236831925\n",
            "Debug: Total trades triggered (entry/exit cycles) = 90\n",
            "Debug: Position value counts = {-1: 856, 0: 799, 1: 706}\n",
            "Debug: Total time steps with non-zero positions = 1562\n",
            "Debug: Total trades executed after risk management (entry/exit cycles) = 92\n",
            "Debug: Position_RM value counts = {0: 1541, -1: 437, 1: 383}\n",
            "Debug: Total time steps with non-zero positions after RM = 820\n",
            "Debug: Strategy_Returns_RM mean = -9.216694592432116e-05, std = 0.0027734600411404814\n",
            "Debug: Cumulative_Returns_RM final = 0.7971548022152035\n",
            "Debug: signal_df shape = (2361, 18)\n",
            "Debug: Number of NaN in Predicted_ZScore = 0\n",
            "Debug: volatility shape = (2381,)\n",
            "Debug: Position value counts = {0: 1236, 1: 567, -1: 558}\n",
            "Debug: Total time steps with non-zero positions = 1125\n",
            "Debug: Total trades triggered (entry/exit cycles) = 49\n"
          ]
        },
        {
          "name": "stderr",
          "output_type": "stream",
          "text": [
            "[I 2025-05-21 19:57:37,707] Trial 6 finished with value: -0.13090018943372583 and parameters: {'entry_threshold': 2.5, 'exit_threshold': 0.2, 'hold_period': 14}. Best is trial 1 with value: -0.05451924471847358.\n"
          ]
        },
        {
          "name": "stdout",
          "output_type": "stream",
          "text": [
            "Debug: Anomaly threshold (95th percentile) = 0.0044876596236831925\n",
            "Debug: Total trades triggered (entry/exit cycles) = 49\n",
            "Debug: Position value counts = {0: 1236, 1: 567, -1: 558}\n",
            "Debug: Total time steps with non-zero positions = 1125\n",
            "Debug: Total trades executed after risk management (entry/exit cycles) = 50\n",
            "Debug: Position_RM value counts = {0: 1768, -1: 334, 1: 259}\n",
            "Debug: Total time steps with non-zero positions after RM = 593\n",
            "Debug: Strategy_Returns_RM mean = -5.653456282003736e-05, std = 0.0024015255284288747\n",
            "Debug: Cumulative_Returns_RM final = 0.8690998105662742\n",
            "Debug: signal_df shape = (2361, 18)\n",
            "Debug: Number of NaN in Predicted_ZScore = 0\n",
            "Debug: volatility shape = (2381,)\n",
            "Debug: Position value counts = {0: 1300, -1: 536, 1: 525}\n",
            "Debug: Total time steps with non-zero positions = 1061\n",
            "Debug: Total trades triggered (entry/exit cycles) = 47\n"
          ]
        },
        {
          "name": "stderr",
          "output_type": "stream",
          "text": [
            "[I 2025-05-21 19:57:38,751] Trial 7 finished with value: -0.09509958687577758 and parameters: {'entry_threshold': 2.9000000000000004, 'exit_threshold': 0.1, 'hold_period': 8}. Best is trial 1 with value: -0.05451924471847358.\n"
          ]
        },
        {
          "name": "stdout",
          "output_type": "stream",
          "text": [
            "Debug: Anomaly threshold (95th percentile) = 0.0044876596236831925\n",
            "Debug: Total trades triggered (entry/exit cycles) = 47\n",
            "Debug: Position value counts = {0: 1300, -1: 536, 1: 525}\n",
            "Debug: Total time steps with non-zero positions = 1061\n",
            "Debug: Total trades executed after risk management (entry/exit cycles) = 48\n",
            "Debug: Position_RM value counts = {0: 1997, -1: 200, 1: 164}\n",
            "Debug: Total time steps with non-zero positions after RM = 364\n",
            "Debug: Strategy_Returns_RM mean = -4.053390257855633e-05, std = 0.0018922342406317552\n",
            "Debug: Cumulative_Returns_RM final = 0.9049004131242224\n",
            "Debug: signal_df shape = (2361, 18)\n",
            "Debug: Number of NaN in Predicted_ZScore = 0\n",
            "Debug: volatility shape = (2381,)\n",
            "Debug: Position value counts = {0: 1365, -1: 504, 1: 492}\n",
            "Debug: Total time steps with non-zero positions = 996\n",
            "Debug: Total trades triggered (entry/exit cycles) = 50\n"
          ]
        },
        {
          "name": "stderr",
          "output_type": "stream",
          "text": [
            "[I 2025-05-21 19:57:39,785] Trial 8 finished with value: -0.13294066285734285 and parameters: {'entry_threshold': 2.8000000000000003, 'exit_threshold': 0.4, 'hold_period': 10}. Best is trial 1 with value: -0.05451924471847358.\n"
          ]
        },
        {
          "name": "stdout",
          "output_type": "stream",
          "text": [
            "Debug: Anomaly threshold (95th percentile) = 0.0044876596236831925\n",
            "Debug: Total trades triggered (entry/exit cycles) = 50\n",
            "Debug: Position value counts = {0: 1365, -1: 504, 1: 492}\n",
            "Debug: Total time steps with non-zero positions = 996\n",
            "Debug: Total trades executed after risk management (entry/exit cycles) = 51\n",
            "Debug: Position_RM value counts = {0: 1907, -1: 241, 1: 213}\n",
            "Debug: Total time steps with non-zero positions after RM = 454\n",
            "Debug: Strategy_Returns_RM mean = -5.8009654981195264e-05, std = 0.0021926315466303534\n",
            "Debug: Cumulative_Returns_RM final = 0.8670593371426571\n",
            "Debug: signal_df shape = (2361, 18)\n",
            "Debug: Number of NaN in Predicted_ZScore = 0\n",
            "Debug: volatility shape = (2381,)\n",
            "Debug: Position value counts = {-1: 906, 1: 749, 0: 706}\n",
            "Debug: Total time steps with non-zero positions = 1655\n",
            "Debug: Total trades triggered (entry/exit cycles) = 102\n"
          ]
        },
        {
          "name": "stderr",
          "output_type": "stream",
          "text": [
            "[I 2025-05-21 19:57:40,816] Trial 9 finished with value: -0.21945707729838304 and parameters: {'entry_threshold': 0.8, 'exit_threshold': 0.5, 'hold_period': 15}. Best is trial 1 with value: -0.05451924471847358.\n"
          ]
        },
        {
          "name": "stdout",
          "output_type": "stream",
          "text": [
            "Debug: Anomaly threshold (95th percentile) = 0.0044876596236831925\n",
            "Debug: Total trades triggered (entry/exit cycles) = 102\n",
            "Debug: Position value counts = {-1: 906, 1: 749, 0: 706}\n",
            "Debug: Total time steps with non-zero positions = 1655\n",
            "Debug: Total trades executed after risk management (entry/exit cycles) = 105\n",
            "Debug: Position_RM value counts = {0: 1363, -1: 535, 1: 463}\n",
            "Debug: Total time steps with non-zero positions after RM = 998\n",
            "Debug: Strategy_Returns_RM mean = -0.00010025760901632305, std = 0.0030573327310811915\n",
            "Debug: Cumulative_Returns_RM final = 0.780542922701617\n",
            "Debug: signal_df shape = (2361, 18)\n",
            "Debug: Number of NaN in Predicted_ZScore = 0\n",
            "Debug: volatility shape = (2381,)\n",
            "Debug: Position value counts = {0: 1255, -1: 575, 1: 531}\n",
            "Debug: Total time steps with non-zero positions = 1106\n",
            "Debug: Total trades triggered (entry/exit cycles) = 61\n"
          ]
        },
        {
          "name": "stderr",
          "output_type": "stream",
          "text": [
            "[I 2025-05-21 19:57:41,900] Trial 10 finished with value: -0.04462933527481294 and parameters: {'entry_threshold': 2.1, 'exit_threshold': 1.0, 'hold_period': 3}. Best is trial 10 with value: -0.04462933527481294.\n"
          ]
        },
        {
          "name": "stdout",
          "output_type": "stream",
          "text": [
            "Debug: Anomaly threshold (95th percentile) = 0.0044876596236831925\n",
            "Debug: Total trades triggered (entry/exit cycles) = 61\n",
            "Debug: Position value counts = {0: 1255, -1: 575, 1: 531}\n",
            "Debug: Total time steps with non-zero positions = 1106\n",
            "Debug: Total trades executed after risk management (entry/exit cycles) = 60\n",
            "Debug: Position_RM value counts = {0: 2129, -1: 119, 1: 113}\n",
            "Debug: Total time steps with non-zero positions after RM = 232\n",
            "Debug: Strategy_Returns_RM mean = -1.8140925639100964e-05, std = 0.0015458940424418204\n",
            "Debug: Cumulative_Returns_RM final = 0.9553706647251871\n",
            "Debug: signal_df shape = (2361, 18)\n",
            "Debug: Number of NaN in Predicted_ZScore = 0\n",
            "Debug: volatility shape = (2381,)\n",
            "Debug: Position value counts = {0: 1255, -1: 575, 1: 531}\n",
            "Debug: Total time steps with non-zero positions = 1106\n",
            "Debug: Total trades triggered (entry/exit cycles) = 61\n"
          ]
        },
        {
          "name": "stderr",
          "output_type": "stream",
          "text": [
            "[I 2025-05-21 19:57:42,947] Trial 11 finished with value: -0.04462933527481294 and parameters: {'entry_threshold': 2.1, 'exit_threshold': 1.0, 'hold_period': 3}. Best is trial 10 with value: -0.04462933527481294.\n"
          ]
        },
        {
          "name": "stdout",
          "output_type": "stream",
          "text": [
            "Debug: Anomaly threshold (95th percentile) = 0.0044876596236831925\n",
            "Debug: Total trades triggered (entry/exit cycles) = 61\n",
            "Debug: Position value counts = {0: 1255, -1: 575, 1: 531}\n",
            "Debug: Total time steps with non-zero positions = 1106\n",
            "Debug: Total trades executed after risk management (entry/exit cycles) = 60\n",
            "Debug: Position_RM value counts = {0: 2129, -1: 119, 1: 113}\n",
            "Debug: Total time steps with non-zero positions after RM = 232\n",
            "Debug: Strategy_Returns_RM mean = -1.8140925639100964e-05, std = 0.0015458940424418204\n",
            "Debug: Cumulative_Returns_RM final = 0.9553706647251871\n",
            "Debug: signal_df shape = (2361, 18)\n",
            "Debug: Number of NaN in Predicted_ZScore = 0\n",
            "Debug: volatility shape = (2381,)\n",
            "Debug: Position value counts = {0: 1286, -1: 561, 1: 514}\n",
            "Debug: Total time steps with non-zero positions = 1075\n",
            "Debug: Total trades triggered (entry/exit cycles) = 59\n"
          ]
        },
        {
          "name": "stderr",
          "output_type": "stream",
          "text": [
            "[I 2025-05-21 19:57:44,231] Trial 12 finished with value: -0.10764034388947086 and parameters: {'entry_threshold': 2.2, 'exit_threshold': 1.0, 'hold_period': 5}. Best is trial 10 with value: -0.04462933527481294.\n"
          ]
        },
        {
          "name": "stdout",
          "output_type": "stream",
          "text": [
            "Debug: Anomaly threshold (95th percentile) = 0.0044876596236831925\n",
            "Debug: Total trades triggered (entry/exit cycles) = 59\n",
            "Debug: Position value counts = {0: 1286, -1: 561, 1: 514}\n",
            "Debug: Total time steps with non-zero positions = 1075\n",
            "Debug: Total trades executed after risk management (entry/exit cycles) = 60\n",
            "Debug: Position_RM value counts = {0: 2041, -1: 172, 1: 148}\n",
            "Debug: Total time steps with non-zero positions after RM = 320\n",
            "Debug: Strategy_Returns_RM mean = -4.642556091202369e-05, std = 0.001901499347844472\n",
            "Debug: Cumulative_Returns_RM final = 0.8923596561105291\n",
            "Debug: signal_df shape = (2361, 18)\n",
            "Debug: Number of NaN in Predicted_ZScore = 0\n",
            "Debug: volatility shape = (2381,)\n",
            "Debug: Position value counts = {0: 1232, -1: 593, 1: 536}\n",
            "Debug: Total time steps with non-zero positions = 1129\n",
            "Debug: Total trades triggered (entry/exit cycles) = 61\n"
          ]
        },
        {
          "name": "stderr",
          "output_type": "stream",
          "text": [
            "[I 2025-05-21 19:57:45,888] Trial 13 finished with value: -0.122276119693836 and parameters: {'entry_threshold': 2.0, 'exit_threshold': 1.0, 'hold_period': 5}. Best is trial 10 with value: -0.04462933527481294.\n"
          ]
        },
        {
          "name": "stdout",
          "output_type": "stream",
          "text": [
            "Debug: Anomaly threshold (95th percentile) = 0.0044876596236831925\n",
            "Debug: Total trades triggered (entry/exit cycles) = 61\n",
            "Debug: Position value counts = {0: 1232, -1: 593, 1: 536}\n",
            "Debug: Total time steps with non-zero positions = 1129\n",
            "Debug: Total trades executed after risk management (entry/exit cycles) = 62\n",
            "Debug: Position_RM value counts = {0: 2022, -1: 178, 1: 161}\n",
            "Debug: Total time steps with non-zero positions after RM = 339\n",
            "Debug: Strategy_Returns_RM mean = -5.3401244994056976e-05, std = 0.0019162432596729704\n",
            "Debug: Cumulative_Returns_RM final = 0.877723880306164\n",
            "Debug: signal_df shape = (2361, 18)\n",
            "Debug: Number of NaN in Predicted_ZScore = 0\n",
            "Debug: volatility shape = (2381,)\n",
            "Debug: Position value counts = {0: 1328, -1: 535, 1: 498}\n",
            "Debug: Total time steps with non-zero positions = 1033\n",
            "Debug: Total trades triggered (entry/exit cycles) = 56\n"
          ]
        },
        {
          "name": "stderr",
          "output_type": "stream",
          "text": [
            "[I 2025-05-21 19:57:47,011] Trial 14 finished with value: -0.11485467858177645 and parameters: {'entry_threshold': 2.3, 'exit_threshold': 0.8, 'hold_period': 5}. Best is trial 10 with value: -0.04462933527481294.\n"
          ]
        },
        {
          "name": "stdout",
          "output_type": "stream",
          "text": [
            "Debug: Anomaly threshold (95th percentile) = 0.0044876596236831925\n",
            "Debug: Total trades triggered (entry/exit cycles) = 56\n",
            "Debug: Position value counts = {0: 1328, -1: 535, 1: 498}\n",
            "Debug: Total time steps with non-zero positions = 1033\n",
            "Debug: Total trades executed after risk management (entry/exit cycles) = 57\n",
            "Debug: Position_RM value counts = {0: 2059, -1: 160, 1: 142}\n",
            "Debug: Total time steps with non-zero positions after RM = 302\n",
            "Debug: Strategy_Returns_RM mean = -5.0079231092790574e-05, std = 0.0017842572801482566\n",
            "Debug: Cumulative_Returns_RM final = 0.8851453214182236\n",
            "Debug: signal_df shape = (2361, 18)\n",
            "Debug: Number of NaN in Predicted_ZScore = 0\n",
            "Debug: volatility shape = (2381,)\n",
            "Debug: Position value counts = {0: 1156, -1: 637, 1: 568}\n",
            "Debug: Total time steps with non-zero positions = 1205\n",
            "Debug: Total trades triggered (entry/exit cycles) = 68\n"
          ]
        },
        {
          "name": "stderr",
          "output_type": "stream",
          "text": [
            "[I 2025-05-21 19:57:48,045] Trial 15 finished with value: -0.10441584982318386 and parameters: {'entry_threshold': 1.8, 'exit_threshold': 0.8, 'hold_period': 3}. Best is trial 10 with value: -0.04462933527481294.\n"
          ]
        },
        {
          "name": "stdout",
          "output_type": "stream",
          "text": [
            "Debug: Anomaly threshold (95th percentile) = 0.0044876596236831925\n",
            "Debug: Total trades triggered (entry/exit cycles) = 68\n",
            "Debug: Position value counts = {0: 1156, -1: 637, 1: 568}\n",
            "Debug: Total time steps with non-zero positions = 1205\n",
            "Debug: Total trades executed after risk management (entry/exit cycles) = 68\n",
            "Debug: Position_RM value counts = {0: 2114, -1: 127, 1: 120}\n",
            "Debug: Total time steps with non-zero positions after RM = 247\n",
            "Debug: Strategy_Returns_RM mean = -4.5384691779669564e-05, std = 0.001625253883422374\n",
            "Debug: Cumulative_Returns_RM final = 0.8955841501768161\n",
            "Debug: signal_df shape = (2361, 18)\n",
            "Debug: Number of NaN in Predicted_ZScore = 0\n",
            "Debug: volatility shape = (2381,)\n",
            "Debug: Position value counts = {0: 1396, -1: 492, 1: 473}\n",
            "Debug: Total time steps with non-zero positions = 965\n",
            "Debug: Total trades triggered (entry/exit cycles) = 52\n"
          ]
        },
        {
          "name": "stderr",
          "output_type": "stream",
          "text": [
            "[I 2025-05-21 19:57:49,077] Trial 16 finished with value: -0.11059982497907073 and parameters: {'entry_threshold': 2.5, 'exit_threshold': 0.9, 'hold_period': 6}. Best is trial 10 with value: -0.04462933527481294.\n"
          ]
        },
        {
          "name": "stdout",
          "output_type": "stream",
          "text": [
            "Debug: Anomaly threshold (95th percentile) = 0.0044876596236831925\n",
            "Debug: Total trades triggered (entry/exit cycles) = 52\n",
            "Debug: Position value counts = {0: 1396, -1: 492, 1: 473}\n",
            "Debug: Total time steps with non-zero positions = 965\n",
            "Debug: Total trades executed after risk management (entry/exit cycles) = 53\n",
            "Debug: Position_RM value counts = {0: 2043, -1: 164, 1: 154}\n",
            "Debug: Total time steps with non-zero positions after RM = 318\n",
            "Debug: Strategy_Returns_RM mean = -4.803717582443082e-05, std = 0.0017906180580303155\n",
            "Debug: Cumulative_Returns_RM final = 0.8894001750209293\n",
            "Debug: signal_df shape = (2361, 18)\n",
            "Debug: Number of NaN in Predicted_ZScore = 0\n",
            "Debug: volatility shape = (2381,)\n",
            "Debug: Position value counts = {0: 1082, -1: 686, 1: 593}\n",
            "Debug: Total time steps with non-zero positions = 1279\n",
            "Debug: Total trades triggered (entry/exit cycles) = 71\n"
          ]
        },
        {
          "name": "stderr",
          "output_type": "stream",
          "text": [
            "[I 2025-05-21 19:57:50,108] Trial 17 finished with value: -0.15071712090865796 and parameters: {'entry_threshold': 1.6, 'exit_threshold': 0.7000000000000001, 'hold_period': 10}. Best is trial 10 with value: -0.04462933527481294.\n"
          ]
        },
        {
          "name": "stdout",
          "output_type": "stream",
          "text": [
            "Debug: Anomaly threshold (95th percentile) = 0.0044876596236831925\n",
            "Debug: Total trades triggered (entry/exit cycles) = 71\n",
            "Debug: Position value counts = {0: 1082, -1: 686, 1: 593}\n",
            "Debug: Total time steps with non-zero positions = 1279\n",
            "Debug: Total trades executed after risk management (entry/exit cycles) = 73\n",
            "Debug: Position_RM value counts = {0: 1744, -1: 341, 1: 276}\n",
            "Debug: Total time steps with non-zero positions after RM = 617\n",
            "Debug: Strategy_Returns_RM mean = -6.623480842702255e-05, std = 0.002430282967074382\n",
            "Debug: Cumulative_Returns_RM final = 0.849282879091342\n",
            "Debug: signal_df shape = (2361, 18)\n",
            "Debug: Number of NaN in Predicted_ZScore = 0\n",
            "Debug: volatility shape = (2381,)\n",
            "Debug: Position value counts = {0: 1243, -1: 585, 1: 533}\n",
            "Debug: Total time steps with non-zero positions = 1118\n",
            "Debug: Total trades triggered (entry/exit cycles) = 60\n"
          ]
        },
        {
          "name": "stderr",
          "output_type": "stream",
          "text": [
            "[I 2025-05-21 19:57:51,137] Trial 18 finished with value: -0.030650777789163586 and parameters: {'entry_threshold': 2.1, 'exit_threshold': 0.9, 'hold_period': 4}. Best is trial 18 with value: -0.030650777789163586.\n"
          ]
        },
        {
          "name": "stdout",
          "output_type": "stream",
          "text": [
            "Debug: Anomaly threshold (95th percentile) = 0.0044876596236831925\n",
            "Debug: Total trades triggered (entry/exit cycles) = 60\n",
            "Debug: Position value counts = {0: 1243, -1: 585, 1: 533}\n",
            "Debug: Total time steps with non-zero positions = 1118\n",
            "Debug: Total trades executed after risk management (entry/exit cycles) = 60\n",
            "Debug: Position_RM value counts = {0: 2078, -1: 144, 1: 139}\n",
            "Debug: Total time steps with non-zero positions after RM = 283\n",
            "Debug: Strategy_Returns_RM mean = -1.1687593674607928e-05, std = 0.001729931886225691\n",
            "Debug: Cumulative_Returns_RM final = 0.9693492222108364\n",
            "Debug: signal_df shape = (2361, 18)\n",
            "Debug: Number of NaN in Predicted_ZScore = 0\n",
            "Debug: volatility shape = (2381,)\n",
            "Debug: Position value counts = {0: 1402, -1: 492, 1: 467}\n",
            "Debug: Total time steps with non-zero positions = 959\n",
            "Debug: Total trades triggered (entry/exit cycles) = 51\n"
          ]
        },
        {
          "name": "stderr",
          "output_type": "stream",
          "text": [
            "[I 2025-05-21 19:57:52,185] Trial 19 finished with value: -0.06901073446512551 and parameters: {'entry_threshold': 2.6, 'exit_threshold': 0.7000000000000001, 'hold_period': 5}. Best is trial 18 with value: -0.030650777789163586.\n",
            "[I 2025-05-21 19:57:52,192] A new study created in memory with name: no-name-2b8464b9-2266-4be3-9bd4-273c1df360f5\n"
          ]
        },
        {
          "name": "stdout",
          "output_type": "stream",
          "text": [
            "Debug: Anomaly threshold (95th percentile) = 0.0044876596236831925\n",
            "Debug: Total trades triggered (entry/exit cycles) = 51\n",
            "Debug: Position value counts = {0: 1402, -1: 492, 1: 467}\n",
            "Debug: Total time steps with non-zero positions = 959\n",
            "Debug: Total trades executed after risk management (entry/exit cycles) = 52\n",
            "Debug: Position_RM value counts = {0: 2090, -1: 142, 1: 129}\n",
            "Debug: Total time steps with non-zero positions after RM = 271\n",
            "Debug: Strategy_Returns_RM mean = -2.8849743437900916e-05, std = 0.0016940212022640898\n",
            "Debug: Cumulative_Returns_RM final = 0.9309892655348745\n",
            "Best parameters for CNN-LSTM: entry_threshold = 2.1, exit_threshold = 0.9, hold_period = 4\n",
            "Best cumulative return for CNN-LSTM: -0.030650777789163586\n",
            "\n",
            "Tuning thresholds for RandomForest...\n",
            "Debug: signal_df shape = (2361, 18)\n",
            "Debug: Number of NaN in Predicted_ZScore = 0\n",
            "Debug: volatility shape = (2381,)\n",
            "Debug: Position value counts = {0: 2295, -1: 39, 1: 27}\n",
            "Debug: Total time steps with non-zero positions = 66\n",
            "Debug: Total trades triggered (entry/exit cycles) = 31\n"
          ]
        },
        {
          "name": "stderr",
          "output_type": "stream",
          "text": [
            "[I 2025-05-21 19:57:53,204] Trial 0 finished with value: -0.02350789711351109 and parameters: {'entry_threshold': 2.9000000000000004, 'exit_threshold': 0.1, 'hold_period': 8}. Best is trial 0 with value: -0.02350789711351109.\n"
          ]
        },
        {
          "name": "stdout",
          "output_type": "stream",
          "text": [
            "Debug: Anomaly threshold (95th percentile) = 0.0044876596236831925\n",
            "Debug: Total trades triggered (entry/exit cycles) = 31\n",
            "Debug: Position value counts = {0: 2295, -1: 39, 1: 27}\n",
            "Debug: Total time steps with non-zero positions = 66\n",
            "Debug: Total trades executed after risk management (entry/exit cycles) = 30\n",
            "Debug: Position_RM value counts = {0: 2302, -1: 37, 1: 22}\n",
            "Debug: Total time steps with non-zero positions after RM = 59\n",
            "Debug: Strategy_Returns_RM mean = -9.67113308039578e-06, std = 0.0008995418138476445\n",
            "Debug: Cumulative_Returns_RM final = 0.9764921028864889\n",
            "Debug: signal_df shape = (2361, 18)\n",
            "Debug: Number of NaN in Predicted_ZScore = 0\n",
            "Debug: volatility shape = (2381,)\n",
            "Debug: Position value counts = {0: 1706, -1: 344, 1: 311}\n",
            "Debug: Total time steps with non-zero positions = 655\n",
            "Debug: Total trades triggered (entry/exit cycles) = 450\n"
          ]
        },
        {
          "name": "stderr",
          "output_type": "stream",
          "text": [
            "[I 2025-05-21 19:57:54,232] Trial 1 finished with value: 0.01634106584530115 and parameters: {'entry_threshold': 0.9, 'exit_threshold': 0.5, 'hold_period': 13}. Best is trial 1 with value: 0.01634106584530115.\n"
          ]
        },
        {
          "name": "stdout",
          "output_type": "stream",
          "text": [
            "Debug: Anomaly threshold (95th percentile) = 0.0044876596236831925\n",
            "Debug: Total trades triggered (entry/exit cycles) = 450\n",
            "Debug: Position value counts = {0: 1706, -1: 344, 1: 311}\n",
            "Debug: Total time steps with non-zero positions = 655\n",
            "Debug: Total trades executed after risk management (entry/exit cycles) = 442\n",
            "Debug: Position_RM value counts = {0: 1722, -1: 336, 1: 303}\n",
            "Debug: Total time steps with non-zero positions after RM = 639\n",
            "Debug: Strategy_Returns_RM mean = 1.0182676244677753e-05, std = 0.002575425213222279\n",
            "Debug: Cumulative_Returns_RM final = 1.0163410658453012\n",
            "Debug: signal_df shape = (2361, 18)\n",
            "Debug: Number of NaN in Predicted_ZScore = 0\n",
            "Debug: volatility shape = (2381,)\n",
            "Debug: Position value counts = {0: 1698, -1: 344, 1: 319}\n",
            "Debug: Total time steps with non-zero positions = 663\n",
            "Debug: Total trades triggered (entry/exit cycles) = 527\n"
          ]
        },
        {
          "name": "stderr",
          "output_type": "stream",
          "text": [
            "[I 2025-05-21 19:57:55,262] Trial 2 finished with value: -0.07151815559268482 and parameters: {'entry_threshold': 0.8, 'exit_threshold': 0.9, 'hold_period': 9}. Best is trial 1 with value: 0.01634106584530115.\n"
          ]
        },
        {
          "name": "stdout",
          "output_type": "stream",
          "text": [
            "Debug: Anomaly threshold (95th percentile) = 0.0044876596236831925\n",
            "Debug: Total trades triggered (entry/exit cycles) = 527\n",
            "Debug: Position value counts = {0: 1698, -1: 344, 1: 319}\n",
            "Debug: Total time steps with non-zero positions = 663\n",
            "Debug: Total trades executed after risk management (entry/exit cycles) = 518\n",
            "Debug: Position_RM value counts = {0: 1712, -1: 337, 1: 312}\n",
            "Debug: Total time steps with non-zero positions after RM = 649\n",
            "Debug: Strategy_Returns_RM mean = -2.8043421369474952e-05, std = 0.0026016078224521495\n",
            "Debug: Cumulative_Returns_RM final = 0.9284818444073152\n",
            "Debug: signal_df shape = (2361, 18)\n",
            "Debug: Number of NaN in Predicted_ZScore = 0\n",
            "Debug: volatility shape = (2381,)\n",
            "Debug: Position value counts = {0: 1992, -1: 188, 1: 181}\n",
            "Debug: Total time steps with non-zero positions = 369\n",
            "Debug: Total trades triggered (entry/exit cycles) = 254\n"
          ]
        },
        {
          "name": "stderr",
          "output_type": "stream",
          "text": [
            "[I 2025-05-21 19:57:56,462] Trial 3 finished with value: -0.07305606407722187 and parameters: {'entry_threshold': 1.4, 'exit_threshold': 0.7000000000000001, 'hold_period': 15}. Best is trial 1 with value: 0.01634106584530115.\n"
          ]
        },
        {
          "name": "stdout",
          "output_type": "stream",
          "text": [
            "Debug: Anomaly threshold (95th percentile) = 0.0044876596236831925\n",
            "Debug: Total trades triggered (entry/exit cycles) = 254\n",
            "Debug: Position value counts = {0: 1992, -1: 188, 1: 181}\n",
            "Debug: Total time steps with non-zero positions = 369\n",
            "Debug: Total trades executed after risk management (entry/exit cycles) = 248\n",
            "Debug: Position_RM value counts = {0: 2002, -1: 182, 1: 177}\n",
            "Debug: Total time steps with non-zero positions after RM = 359\n",
            "Debug: Strategy_Returns_RM mean = -3.0023949681264466e-05, std = 0.002051361432516272\n",
            "Debug: Cumulative_Returns_RM final = 0.9269439359227781\n",
            "Debug: signal_df shape = (2361, 18)\n",
            "Debug: Number of NaN in Predicted_ZScore = 0\n",
            "Debug: volatility shape = (2381,)\n",
            "Debug: Position value counts = {0: 1848, -1: 269, 1: 244}\n",
            "Debug: Total time steps with non-zero positions = 513\n",
            "Debug: Total trades triggered (entry/exit cycles) = 306\n"
          ]
        },
        {
          "name": "stderr",
          "output_type": "stream",
          "text": [
            "[I 2025-05-21 19:57:58,034] Trial 4 finished with value: -0.04751302040816907 and parameters: {'entry_threshold': 1.2000000000000002, 'exit_threshold': 0.2, 'hold_period': 14}. Best is trial 1 with value: 0.01634106584530115.\n"
          ]
        },
        {
          "name": "stdout",
          "output_type": "stream",
          "text": [
            "Debug: Anomaly threshold (95th percentile) = 0.0044876596236831925\n",
            "Debug: Total trades triggered (entry/exit cycles) = 306\n",
            "Debug: Position value counts = {0: 1848, -1: 269, 1: 244}\n",
            "Debug: Total time steps with non-zero positions = 513\n",
            "Debug: Total trades executed after risk management (entry/exit cycles) = 300\n",
            "Debug: Position_RM value counts = {0: 1859, -1: 263, 1: 239}\n",
            "Debug: Total time steps with non-zero positions after RM = 502\n",
            "Debug: Strategy_Returns_RM mean = -1.8064547997178344e-05, std = 0.002258357127201509\n",
            "Debug: Cumulative_Returns_RM final = 0.9524869795918309\n",
            "Debug: signal_df shape = (2361, 18)\n",
            "Debug: Number of NaN in Predicted_ZScore = 0\n",
            "Debug: volatility shape = (2381,)\n",
            "Debug: Position value counts = {0: 2248, -1: 67, 1: 46}\n",
            "Debug: Total time steps with non-zero positions = 113\n",
            "Debug: Total trades triggered (entry/exit cycles) = 53\n"
          ]
        },
        {
          "name": "stderr",
          "output_type": "stream",
          "text": [
            "[I 2025-05-21 19:57:59,233] Trial 5 finished with value: -0.0732012201741935 and parameters: {'entry_threshold': 2.4000000000000004, 'exit_threshold': 0.1, 'hold_period': 6}. Best is trial 1 with value: 0.01634106584530115.\n"
          ]
        },
        {
          "name": "stdout",
          "output_type": "stream",
          "text": [
            "Debug: Anomaly threshold (95th percentile) = 0.0044876596236831925\n",
            "Debug: Total trades triggered (entry/exit cycles) = 53\n",
            "Debug: Position value counts = {0: 2248, -1: 67, 1: 46}\n",
            "Debug: Total time steps with non-zero positions = 113\n",
            "Debug: Total trades executed after risk management (entry/exit cycles) = 51\n",
            "Debug: Position_RM value counts = {0: 2258, -1: 64, 1: 39}\n",
            "Debug: Total time steps with non-zero positions after RM = 103\n",
            "Debug: Strategy_Returns_RM mean = -3.150367597478031e-05, std = 0.0011775809110135314\n",
            "Debug: Cumulative_Returns_RM final = 0.9267987798258065\n",
            "Debug: signal_df shape = (2361, 18)\n",
            "Debug: Number of NaN in Predicted_ZScore = 0\n",
            "Debug: volatility shape = (2381,)\n",
            "Debug: Position value counts = {0: 1947, 1: 208, -1: 206}\n",
            "Debug: Total time steps with non-zero positions = 414\n",
            "Debug: Total trades triggered (entry/exit cycles) = 246\n"
          ]
        },
        {
          "name": "stderr",
          "output_type": "stream",
          "text": [
            "[I 2025-05-21 19:58:00,263] Trial 6 finished with value: -0.0761921302977151 and parameters: {'entry_threshold': 1.4, 'exit_threshold': 0.30000000000000004, 'hold_period': 4}. Best is trial 1 with value: 0.01634106584530115.\n"
          ]
        },
        {
          "name": "stdout",
          "output_type": "stream",
          "text": [
            "Debug: Anomaly threshold (95th percentile) = 0.0044876596236831925\n",
            "Debug: Total trades triggered (entry/exit cycles) = 246\n",
            "Debug: Position value counts = {0: 1947, 1: 208, -1: 206}\n",
            "Debug: Total time steps with non-zero positions = 414\n",
            "Debug: Total trades executed after risk management (entry/exit cycles) = 240\n",
            "Debug: Position_RM value counts = {0: 1958, 1: 203, -1: 200}\n",
            "Debug: Total time steps with non-zero positions after RM = 403\n",
            "Debug: Strategy_Returns_RM mean = -3.125840196936559e-05, std = 0.002146829093239212\n",
            "Debug: Cumulative_Returns_RM final = 0.9238078697022849\n",
            "Debug: signal_df shape = (2361, 18)\n",
            "Debug: Number of NaN in Predicted_ZScore = 0\n",
            "Debug: volatility shape = (2381,)\n",
            "Debug: Position value counts = {0: 1785, -1: 315, 1: 261}\n",
            "Debug: Total time steps with non-zero positions = 576\n",
            "Debug: Total trades triggered (entry/exit cycles) = 389\n"
          ]
        },
        {
          "name": "stderr",
          "output_type": "stream",
          "text": [
            "[I 2025-05-21 19:58:01,306] Trial 7 finished with value: -0.1013541657485103 and parameters: {'entry_threshold': 1.0, 'exit_threshold': 0.5, 'hold_period': 4}. Best is trial 1 with value: 0.01634106584530115.\n"
          ]
        },
        {
          "name": "stdout",
          "output_type": "stream",
          "text": [
            "Debug: Anomaly threshold (95th percentile) = 0.0044876596236831925\n",
            "Debug: Total trades triggered (entry/exit cycles) = 389\n",
            "Debug: Position value counts = {0: 1785, -1: 315, 1: 261}\n",
            "Debug: Total time steps with non-zero positions = 576\n",
            "Debug: Total trades executed after risk management (entry/exit cycles) = 381\n",
            "Debug: Position_RM value counts = {0: 1801, -1: 307, 1: 253}\n",
            "Debug: Total time steps with non-zero positions after RM = 560\n",
            "Debug: Strategy_Returns_RM mean = -4.246410966940091e-05, std = 0.0023641647402118516\n",
            "Debug: Cumulative_Returns_RM final = 0.8986458342514897\n",
            "Debug: signal_df shape = (2361, 18)\n",
            "Debug: Number of NaN in Predicted_ZScore = 0\n",
            "Debug: volatility shape = (2381,)\n",
            "Debug: Position value counts = {0: 1941, -1: 212, 1: 208}\n",
            "Debug: Total time steps with non-zero positions = 420\n",
            "Debug: Total trades triggered (entry/exit cycles) = 277\n"
          ]
        },
        {
          "name": "stderr",
          "output_type": "stream",
          "text": [
            "[I 2025-05-21 19:58:02,338] Trial 8 finished with value: -0.05697629280909189 and parameters: {'entry_threshold': 1.3, 'exit_threshold': 0.5, 'hold_period': 10}. Best is trial 1 with value: 0.01634106584530115.\n"
          ]
        },
        {
          "name": "stdout",
          "output_type": "stream",
          "text": [
            "Debug: Anomaly threshold (95th percentile) = 0.0044876596236831925\n",
            "Debug: Total trades triggered (entry/exit cycles) = 277\n",
            "Debug: Position value counts = {0: 1941, -1: 212, 1: 208}\n",
            "Debug: Total time steps with non-zero positions = 420\n",
            "Debug: Total trades executed after risk management (entry/exit cycles) = 271\n",
            "Debug: Position_RM value counts = {0: 1951, -1: 206, 1: 204}\n",
            "Debug: Total time steps with non-zero positions after RM = 410\n",
            "Debug: Strategy_Returns_RM mean = -2.259136201337677e-05, std = 0.0021224760263987776\n",
            "Debug: Cumulative_Returns_RM final = 0.9430237071909081\n",
            "Debug: signal_df shape = (2361, 18)\n",
            "Debug: Number of NaN in Predicted_ZScore = 0\n",
            "Debug: volatility shape = (2381,)\n",
            "Debug: Position value counts = {0: 2189, -1: 98, 1: 74}\n",
            "Debug: Total time steps with non-zero positions = 172\n",
            "Debug: Total trades triggered (entry/exit cycles) = 87\n"
          ]
        },
        {
          "name": "stderr",
          "output_type": "stream",
          "text": [
            "[I 2025-05-21 19:58:03,343] Trial 9 finished with value: -0.10461337124922643 and parameters: {'entry_threshold': 2.1, 'exit_threshold': 0.2, 'hold_period': 6}. Best is trial 1 with value: 0.01634106584530115.\n"
          ]
        },
        {
          "name": "stdout",
          "output_type": "stream",
          "text": [
            "Debug: Anomaly threshold (95th percentile) = 0.0044876596236831925\n",
            "Debug: Total trades triggered (entry/exit cycles) = 87\n",
            "Debug: Position value counts = {0: 2189, -1: 98, 1: 74}\n",
            "Debug: Total time steps with non-zero positions = 172\n",
            "Debug: Total trades executed after risk management (entry/exit cycles) = 83\n",
            "Debug: Position_RM value counts = {0: 2199, -1: 92, 1: 70}\n",
            "Debug: Total time steps with non-zero positions after RM = 162\n",
            "Debug: Strategy_Returns_RM mean = -4.58415860723538e-05, std = 0.0013848315482142973\n",
            "Debug: Cumulative_Returns_RM final = 0.8953866287507736\n",
            "Debug: signal_df shape = (2361, 18)\n",
            "Debug: Number of NaN in Predicted_ZScore = 0\n",
            "Debug: volatility shape = (2381,)\n",
            "Debug: Position value counts = {0: 1505, -1: 442, 1: 414}\n",
            "Debug: Total time steps with non-zero positions = 856\n",
            "Debug: Total trades triggered (entry/exit cycles) = 708\n"
          ]
        },
        {
          "name": "stderr",
          "output_type": "stream",
          "text": [
            "[I 2025-05-21 19:58:04,365] Trial 10 finished with value: -0.15746048396125367 and parameters: {'entry_threshold': 0.5, 'exit_threshold': 1.0, 'hold_period': 12}. Best is trial 1 with value: 0.01634106584530115.\n"
          ]
        },
        {
          "name": "stdout",
          "output_type": "stream",
          "text": [
            "Debug: Anomaly threshold (95th percentile) = 0.0044876596236831925\n",
            "Debug: Total trades triggered (entry/exit cycles) = 708\n",
            "Debug: Position value counts = {0: 1505, -1: 442, 1: 414}\n",
            "Debug: Total time steps with non-zero positions = 856\n",
            "Debug: Total trades executed after risk management (entry/exit cycles) = 696\n",
            "Debug: Position_RM value counts = {0: 1522, -1: 432, 1: 407}\n",
            "Debug: Total time steps with non-zero positions after RM = 839\n",
            "Debug: Strategy_Returns_RM mean = -6.846125633325897e-05, std = 0.002864784283141011\n",
            "Debug: Cumulative_Returns_RM final = 0.8425395160387463\n",
            "Debug: signal_df shape = (2361, 18)\n",
            "Debug: Number of NaN in Predicted_ZScore = 0\n",
            "Debug: volatility shape = (2381,)\n",
            "Debug: Position value counts = {0: 2310, 1: 27, -1: 24}\n",
            "Debug: Total time steps with non-zero positions = 51\n",
            "Debug: Total trades triggered (entry/exit cycles) = 33\n"
          ]
        },
        {
          "name": "stderr",
          "output_type": "stream",
          "text": [
            "[I 2025-05-21 19:58:05,413] Trial 11 finished with value: -0.03415274623128828 and parameters: {'entry_threshold': 3.0, 'exit_threshold': 0.7000000000000001, 'hold_period': 9}. Best is trial 1 with value: 0.01634106584530115.\n"
          ]
        },
        {
          "name": "stdout",
          "output_type": "stream",
          "text": [
            "Debug: Anomaly threshold (95th percentile) = 0.0044876596236831925\n",
            "Debug: Total trades triggered (entry/exit cycles) = 33\n",
            "Debug: Position value counts = {0: 2310, 1: 27, -1: 24}\n",
            "Debug: Total time steps with non-zero positions = 51\n",
            "Debug: Total trades executed after risk management (entry/exit cycles) = 31\n",
            "Debug: Position_RM value counts = {0: 2316, 1: 24, -1: 21}\n",
            "Debug: Total time steps with non-zero positions after RM = 45\n",
            "Debug: Strategy_Returns_RM mean = -1.4427104228076967e-05, std = 0.0007623985645939087\n",
            "Debug: Cumulative_Returns_RM final = 0.9658472537687117\n",
            "Debug: signal_df shape = (2361, 18)\n",
            "Debug: Number of NaN in Predicted_ZScore = 0\n",
            "Debug: volatility shape = (2381,)\n",
            "Debug: Position value counts = {0: 2305, -1: 31, 1: 25}\n",
            "Debug: Total time steps with non-zero positions = 56\n",
            "Debug: Total trades triggered (entry/exit cycles) = 31\n"
          ]
        },
        {
          "name": "stderr",
          "output_type": "stream",
          "text": [
            "[I 2025-05-21 19:58:06,446] Trial 12 finished with value: -0.013692374723111689 and parameters: {'entry_threshold': 3.0, 'exit_threshold': 0.4, 'hold_period': 12}. Best is trial 1 with value: 0.01634106584530115.\n"
          ]
        },
        {
          "name": "stdout",
          "output_type": "stream",
          "text": [
            "Debug: Anomaly threshold (95th percentile) = 0.0044876596236831925\n",
            "Debug: Total trades triggered (entry/exit cycles) = 31\n",
            "Debug: Position value counts = {0: 2305, -1: 31, 1: 25}\n",
            "Debug: Total time steps with non-zero positions = 56\n",
            "Debug: Total trades executed after risk management (entry/exit cycles) = 29\n",
            "Debug: Position_RM value counts = {0: 2311, -1: 28, 1: 22}\n",
            "Debug: Total time steps with non-zero positions after RM = 50\n",
            "Debug: Strategy_Returns_RM mean = -5.470074320800531e-06, std = 0.0008597447002368623\n",
            "Debug: Cumulative_Returns_RM final = 0.9863076252768883\n",
            "Debug: signal_df shape = (2361, 18)\n",
            "Debug: Number of NaN in Predicted_ZScore = 0\n",
            "Debug: volatility shape = (2381,)\n",
            "Debug: Position value counts = {0: 2163, -1: 102, 1: 96}\n",
            "Debug: Total time steps with non-zero positions = 198\n",
            "Debug: Total trades triggered (entry/exit cycles) = 118\n"
          ]
        },
        {
          "name": "stderr",
          "output_type": "stream",
          "text": [
            "[I 2025-05-21 19:58:07,502] Trial 13 finished with value: -0.015866695948618448 and parameters: {'entry_threshold': 1.9000000000000001, 'exit_threshold': 0.4, 'hold_period': 12}. Best is trial 1 with value: 0.01634106584530115.\n"
          ]
        },
        {
          "name": "stdout",
          "output_type": "stream",
          "text": [
            "Debug: Anomaly threshold (95th percentile) = 0.0044876596236831925\n",
            "Debug: Total trades triggered (entry/exit cycles) = 118\n",
            "Debug: Position value counts = {0: 2163, -1: 102, 1: 96}\n",
            "Debug: Total time steps with non-zero positions = 198\n",
            "Debug: Total trades executed after risk management (entry/exit cycles) = 114\n",
            "Debug: Position_RM value counts = {0: 2171, -1: 97, 1: 93}\n",
            "Debug: Total time steps with non-zero positions after RM = 190\n",
            "Debug: Strategy_Returns_RM mean = -5.619486055016398e-06, std = 0.0015197623356834227\n",
            "Debug: Cumulative_Returns_RM final = 0.9841333040513816\n",
            "Debug: signal_df shape = (2361, 18)\n",
            "Debug: Number of NaN in Predicted_ZScore = 0\n",
            "Debug: volatility shape = (2381,)\n",
            "Debug: Position value counts = {0: 2238, -1: 71, 1: 52}\n",
            "Debug: Total time steps with non-zero positions = 123\n",
            "Debug: Total trades triggered (entry/exit cycles) = 76\n"
          ]
        },
        {
          "name": "stderr",
          "output_type": "stream",
          "text": [
            "[I 2025-05-21 19:58:08,575] Trial 14 finished with value: -0.09345053541750392 and parameters: {'entry_threshold': 2.2, 'exit_threshold': 0.7000000000000001, 'hold_period': 13}. Best is trial 1 with value: 0.01634106584530115.\n"
          ]
        },
        {
          "name": "stdout",
          "output_type": "stream",
          "text": [
            "Debug: Anomaly threshold (95th percentile) = 0.0044876596236831925\n",
            "Debug: Total trades triggered (entry/exit cycles) = 76\n",
            "Debug: Position value counts = {0: 2238, -1: 71, 1: 52}\n",
            "Debug: Total time steps with non-zero positions = 123\n",
            "Debug: Total trades executed after risk management (entry/exit cycles) = 72\n",
            "Debug: Position_RM value counts = {0: 2246, -1: 66, 1: 49}\n",
            "Debug: Total time steps with non-zero positions after RM = 115\n",
            "Debug: Strategy_Returns_RM mean = -4.085858968712173e-05, std = 0.0011780834495517182\n",
            "Debug: Cumulative_Returns_RM final = 0.9065494645824961\n",
            "Debug: signal_df shape = (2361, 18)\n",
            "Debug: Number of NaN in Predicted_ZScore = 0\n",
            "Debug: volatility shape = (2381,)\n",
            "Debug: Position value counts = {0: 2288, -1: 41, 1: 32}\n",
            "Debug: Total time steps with non-zero positions = 73\n",
            "Debug: Total trades triggered (entry/exit cycles) = 37\n"
          ]
        },
        {
          "name": "stderr",
          "output_type": "stream",
          "text": [
            "[I 2025-05-21 19:58:10,176] Trial 15 finished with value: -0.04940458360721467 and parameters: {'entry_threshold': 2.7, 'exit_threshold': 0.4, 'hold_period': 11}. Best is trial 1 with value: 0.01634106584530115.\n"
          ]
        },
        {
          "name": "stdout",
          "output_type": "stream",
          "text": [
            "Debug: Anomaly threshold (95th percentile) = 0.0044876596236831925\n",
            "Debug: Total trades triggered (entry/exit cycles) = 37\n",
            "Debug: Position value counts = {0: 2288, -1: 41, 1: 32}\n",
            "Debug: Total time steps with non-zero positions = 73\n",
            "Debug: Total trades executed after risk management (entry/exit cycles) = 35\n",
            "Debug: Position_RM value counts = {0: 2294, -1: 38, 1: 29}\n",
            "Debug: Total time steps with non-zero positions after RM = 67\n",
            "Debug: Strategy_Returns_RM mean = -2.0937117367196656e-05, std = 0.0010224489137183929\n",
            "Debug: Cumulative_Returns_RM final = 0.9505954163927853\n",
            "Debug: signal_df shape = (2361, 18)\n",
            "Debug: Number of NaN in Predicted_ZScore = 0\n",
            "Debug: volatility shape = (2381,)\n",
            "Debug: Position value counts = {0: 2121, 1: 124, -1: 116}\n",
            "Debug: Total time steps with non-zero positions = 240\n",
            "Debug: Total trades triggered (entry/exit cycles) = 157\n"
          ]
        },
        {
          "name": "stderr",
          "output_type": "stream",
          "text": [
            "[I 2025-05-21 19:58:11,521] Trial 16 finished with value: -0.019675669349434433 and parameters: {'entry_threshold': 1.7000000000000002, 'exit_threshold': 0.6, 'hold_period': 15}. Best is trial 1 with value: 0.01634106584530115.\n"
          ]
        },
        {
          "name": "stdout",
          "output_type": "stream",
          "text": [
            "Debug: Anomaly threshold (95th percentile) = 0.0044876596236831925\n",
            "Debug: Total trades triggered (entry/exit cycles) = 157\n",
            "Debug: Position value counts = {0: 2121, 1: 124, -1: 116}\n",
            "Debug: Total time steps with non-zero positions = 240\n",
            "Debug: Total trades executed after risk management (entry/exit cycles) = 152\n",
            "Debug: Position_RM value counts = {0: 2130, 1: 120, -1: 111}\n",
            "Debug: Total time steps with non-zero positions after RM = 231\n",
            "Debug: Strategy_Returns_RM mean = -7.08793292417681e-06, std = 0.0016301790600449343\n",
            "Debug: Cumulative_Returns_RM final = 0.9803243306505656\n",
            "Debug: signal_df shape = (2361, 18)\n",
            "Debug: Number of NaN in Predicted_ZScore = 0\n",
            "Debug: volatility shape = (2381,)\n",
            "Debug: Position value counts = {0: 1472, -1: 454, 1: 435}\n",
            "Debug: Total time steps with non-zero positions = 889\n",
            "Debug: Total trades triggered (entry/exit cycles) = 611\n"
          ]
        },
        {
          "name": "stderr",
          "output_type": "stream",
          "text": [
            "[I 2025-05-21 19:58:12,577] Trial 17 finished with value: 0.05391772666857397 and parameters: {'entry_threshold': 0.6, 'exit_threshold': 0.4, 'hold_period': 13}. Best is trial 17 with value: 0.05391772666857397.\n"
          ]
        },
        {
          "name": "stdout",
          "output_type": "stream",
          "text": [
            "Debug: Anomaly threshold (95th percentile) = 0.0044876596236831925\n",
            "Debug: Total trades triggered (entry/exit cycles) = 611\n",
            "Debug: Position value counts = {0: 1472, -1: 454, 1: 435}\n",
            "Debug: Total time steps with non-zero positions = 889\n",
            "Debug: Total trades executed after risk management (entry/exit cycles) = 601\n",
            "Debug: Position_RM value counts = {0: 1490, -1: 445, 1: 426}\n",
            "Debug: Total time steps with non-zero positions after RM = 871\n",
            "Debug: Strategy_Returns_RM mean = 2.622942364160871e-05, std = 0.002823765356978107\n",
            "Debug: Cumulative_Returns_RM final = 1.053917726668574\n",
            "Debug: signal_df shape = (2361, 18)\n",
            "Debug: Number of NaN in Predicted_ZScore = 0\n",
            "Debug: volatility shape = (2381,)\n",
            "Debug: Position value counts = {0: 1582, -1: 401, 1: 378}\n",
            "Debug: Total time steps with non-zero positions = 779\n",
            "Debug: Total trades triggered (entry/exit cycles) = 560\n"
          ]
        },
        {
          "name": "stderr",
          "output_type": "stream",
          "text": [
            "[I 2025-05-21 19:58:13,633] Trial 18 finished with value: -0.01942776976749394 and parameters: {'entry_threshold': 0.7, 'exit_threshold': 0.6, 'hold_period': 14}. Best is trial 17 with value: 0.05391772666857397.\n"
          ]
        },
        {
          "name": "stdout",
          "output_type": "stream",
          "text": [
            "Debug: Anomaly threshold (95th percentile) = 0.0044876596236831925\n",
            "Debug: Total trades triggered (entry/exit cycles) = 560\n",
            "Debug: Position value counts = {0: 1582, -1: 401, 1: 378}\n",
            "Debug: Total time steps with non-zero positions = 779\n",
            "Debug: Total trades executed after risk management (entry/exit cycles) = 550\n",
            "Debug: Position_RM value counts = {0: 1600, -1: 392, 1: 369}\n",
            "Debug: Total time steps with non-zero positions after RM = 761\n",
            "Debug: Strategy_Returns_RM mean = -4.58074674858578e-06, std = 0.0027305995586320046\n",
            "Debug: Cumulative_Returns_RM final = 0.9805722302325061\n",
            "Debug: signal_df shape = (2361, 18)\n",
            "Debug: Number of NaN in Predicted_ZScore = 0\n",
            "Debug: volatility shape = (2381,)\n",
            "Debug: Position value counts = {0: 1552, -1: 417, 1: 392}\n",
            "Debug: Total time steps with non-zero positions = 809\n",
            "Debug: Total trades triggered (entry/exit cycles) = 644\n"
          ]
        },
        {
          "name": "stderr",
          "output_type": "stream",
          "text": [
            "[I 2025-05-21 19:58:14,673] Trial 19 finished with value: -0.016046187723819938 and parameters: {'entry_threshold': 0.6, 'exit_threshold': 0.8, 'hold_period': 11}. Best is trial 17 with value: 0.05391772666857397.\n",
            "[I 2025-05-21 19:58:14,674] A new study created in memory with name: no-name-d5baf32d-9cde-4983-8659-a422c84ddc55\n"
          ]
        },
        {
          "name": "stdout",
          "output_type": "stream",
          "text": [
            "Debug: Anomaly threshold (95th percentile) = 0.0044876596236831925\n",
            "Debug: Total trades triggered (entry/exit cycles) = 644\n",
            "Debug: Position value counts = {0: 1552, -1: 417, 1: 392}\n",
            "Debug: Total time steps with non-zero positions = 809\n",
            "Debug: Total trades executed after risk management (entry/exit cycles) = 634\n",
            "Debug: Position_RM value counts = {0: 1567, -1: 409, 1: 385}\n",
            "Debug: Total time steps with non-zero positions after RM = 794\n",
            "Debug: Strategy_Returns_RM mean = -3.034529127475727e-06, std = 0.0027628674233195743\n",
            "Debug: Cumulative_Returns_RM final = 0.9839538122761801\n",
            "Best parameters for RandomForest: entry_threshold = 0.6, exit_threshold = 0.4, hold_period = 13\n",
            "Best cumulative return for RandomForest: 0.05391772666857397\n",
            "\n",
            "Tuning thresholds for XGBoost...\n",
            "Debug: signal_df shape = (2361, 18)\n",
            "Debug: Number of NaN in Predicted_ZScore = 0\n",
            "Debug: volatility shape = (2381,)\n",
            "Debug: Position value counts = {0: 1669, 1: 399, -1: 293}\n",
            "Debug: Total time steps with non-zero positions = 692\n",
            "Debug: Total trades triggered (entry/exit cycles) = 392\n"
          ]
        },
        {
          "name": "stderr",
          "output_type": "stream",
          "text": [
            "[I 2025-05-21 19:58:15,693] Trial 0 finished with value: -0.05089328656677594 and parameters: {'entry_threshold': 0.9, 'exit_threshold': 0.1, 'hold_period': 5}. Best is trial 0 with value: -0.05089328656677594.\n"
          ]
        },
        {
          "name": "stdout",
          "output_type": "stream",
          "text": [
            "Debug: Anomaly threshold (95th percentile) = 0.0044876596236831925\n",
            "Debug: Total trades triggered (entry/exit cycles) = 392\n",
            "Debug: Position value counts = {0: 1669, 1: 399, -1: 293}\n",
            "Debug: Total time steps with non-zero positions = 692\n",
            "Debug: Total trades executed after risk management (entry/exit cycles) = 384\n",
            "Debug: Position_RM value counts = {0: 1691, 1: 387, -1: 283}\n",
            "Debug: Total time steps with non-zero positions after RM = 670\n",
            "Debug: Strategy_Returns_RM mean = -1.879022144774257e-05, std = 0.002581345443560398\n",
            "Debug: Cumulative_Returns_RM final = 0.9491067134332241\n",
            "Debug: signal_df shape = (2361, 18)\n",
            "Debug: Number of NaN in Predicted_ZScore = 0\n",
            "Debug: volatility shape = (2381,)\n",
            "Debug: Position value counts = {0: 1951, 1: 232, -1: 178}\n",
            "Debug: Total time steps with non-zero positions = 410\n",
            "Debug: Total trades triggered (entry/exit cycles) = 278\n"
          ]
        },
        {
          "name": "stderr",
          "output_type": "stream",
          "text": [
            "[I 2025-05-21 19:58:16,708] Trial 1 finished with value: -0.07304875805805544 and parameters: {'entry_threshold': 1.3, 'exit_threshold': 0.6, 'hold_period': 15}. Best is trial 0 with value: -0.05089328656677594.\n"
          ]
        },
        {
          "name": "stdout",
          "output_type": "stream",
          "text": [
            "Debug: Anomaly threshold (95th percentile) = 0.0044876596236831925\n",
            "Debug: Total trades triggered (entry/exit cycles) = 278\n",
            "Debug: Position value counts = {0: 1951, 1: 232, -1: 178}\n",
            "Debug: Total time steps with non-zero positions = 410\n",
            "Debug: Total trades executed after risk management (entry/exit cycles) = 272\n",
            "Debug: Position_RM value counts = {0: 1961, 1: 228, -1: 172}\n",
            "Debug: Total time steps with non-zero positions after RM = 400\n",
            "Debug: Strategy_Returns_RM mean = -2.9949077987977595e-05, std = 0.002086132153376865\n",
            "Debug: Cumulative_Returns_RM final = 0.9269512419419446\n",
            "Debug: signal_df shape = (2361, 18)\n",
            "Debug: Number of NaN in Predicted_ZScore = 0\n",
            "Debug: volatility shape = (2381,)\n",
            "Debug: Position value counts = {0: 1881, 1: 286, -1: 194}\n",
            "Debug: Total time steps with non-zero positions = 480\n",
            "Debug: Total trades triggered (entry/exit cycles) = 262\n"
          ]
        },
        {
          "name": "stderr",
          "output_type": "stream",
          "text": [
            "[I 2025-05-21 19:58:17,754] Trial 2 finished with value: -0.050875564679319196 and parameters: {'entry_threshold': 1.3, 'exit_threshold': 0.1, 'hold_period': 14}. Best is trial 2 with value: -0.050875564679319196.\n"
          ]
        },
        {
          "name": "stdout",
          "output_type": "stream",
          "text": [
            "Debug: Anomaly threshold (95th percentile) = 0.0044876596236831925\n",
            "Debug: Total trades triggered (entry/exit cycles) = 262\n",
            "Debug: Position value counts = {0: 1881, 1: 286, -1: 194}\n",
            "Debug: Total time steps with non-zero positions = 480\n",
            "Debug: Total trades executed after risk management (entry/exit cycles) = 256\n",
            "Debug: Position_RM value counts = {0: 1893, 1: 281, -1: 187}\n",
            "Debug: Total time steps with non-zero positions after RM = 468\n",
            "Debug: Strategy_Returns_RM mean = -1.961900287604041e-05, std = 0.0022331171463999765\n",
            "Debug: Cumulative_Returns_RM final = 0.9491244353206808\n",
            "Debug: signal_df shape = (2361, 18)\n",
            "Debug: Number of NaN in Predicted_ZScore = 0\n",
            "Debug: volatility shape = (2381,)\n",
            "Debug: Position value counts = {0: 1826, 1: 293, -1: 242}\n",
            "Debug: Total time steps with non-zero positions = 535\n",
            "Debug: Total trades triggered (entry/exit cycles) = 378\n"
          ]
        },
        {
          "name": "stderr",
          "output_type": "stream",
          "text": [
            "[I 2025-05-21 19:58:18,785] Trial 3 finished with value: -0.11761190710425495 and parameters: {'entry_threshold': 1.0, 'exit_threshold': 0.6, 'hold_period': 15}. Best is trial 2 with value: -0.050875564679319196.\n"
          ]
        },
        {
          "name": "stdout",
          "output_type": "stream",
          "text": [
            "Debug: Anomaly threshold (95th percentile) = 0.0044876596236831925\n",
            "Debug: Total trades triggered (entry/exit cycles) = 378\n",
            "Debug: Position value counts = {0: 1826, 1: 293, -1: 242}\n",
            "Debug: Total time steps with non-zero positions = 535\n",
            "Debug: Total trades executed after risk management (entry/exit cycles) = 370\n",
            "Debug: Position_RM value counts = {0: 1839, 1: 286, -1: 236}\n",
            "Debug: Total time steps with non-zero positions after RM = 522\n",
            "Debug: Strategy_Returns_RM mean = -5.030304340092748e-05, std = 0.002318795169548558\n",
            "Debug: Cumulative_Returns_RM final = 0.882388092895745\n",
            "Debug: signal_df shape = (2361, 18)\n",
            "Debug: Number of NaN in Predicted_ZScore = 0\n",
            "Debug: volatility shape = (2381,)\n",
            "Debug: Position value counts = {0: 1837, 1: 296, -1: 228}\n",
            "Debug: Total time steps with non-zero positions = 524\n",
            "Debug: Total trades triggered (entry/exit cycles) = 332\n"
          ]
        },
        {
          "name": "stderr",
          "output_type": "stream",
          "text": [
            "[I 2025-05-21 19:58:19,823] Trial 4 finished with value: -0.04114989626642063 and parameters: {'entry_threshold': 1.1, 'exit_threshold': 0.30000000000000004, 'hold_period': 6}. Best is trial 4 with value: -0.04114989626642063.\n"
          ]
        },
        {
          "name": "stdout",
          "output_type": "stream",
          "text": [
            "Debug: Anomaly threshold (95th percentile) = 0.0044876596236831925\n",
            "Debug: Total trades triggered (entry/exit cycles) = 332\n",
            "Debug: Position value counts = {0: 1837, 1: 296, -1: 228}\n",
            "Debug: Total time steps with non-zero positions = 524\n",
            "Debug: Total trades executed after risk management (entry/exit cycles) = 324\n",
            "Debug: Position_RM value counts = {0: 1852, 1: 287, -1: 222}\n",
            "Debug: Total time steps with non-zero positions after RM = 509\n",
            "Debug: Strategy_Returns_RM mean = -1.5194427146450769e-05, std = 0.002280369475006023\n",
            "Debug: Cumulative_Returns_RM final = 0.9588501037335794\n",
            "Debug: signal_df shape = (2361, 18)\n",
            "Debug: Number of NaN in Predicted_ZScore = 0\n",
            "Debug: volatility shape = (2381,)\n",
            "Debug: Position value counts = {0: 1643, 1: 395, -1: 323}\n",
            "Debug: Total time steps with non-zero positions = 718\n",
            "Debug: Total trades triggered (entry/exit cycles) = 546\n"
          ]
        },
        {
          "name": "stderr",
          "output_type": "stream",
          "text": [
            "[I 2025-05-21 19:58:20,861] Trial 5 finished with value: -0.007731402457596959 and parameters: {'entry_threshold': 0.7, 'exit_threshold': 0.7000000000000001, 'hold_period': 6}. Best is trial 5 with value: -0.007731402457596959.\n"
          ]
        },
        {
          "name": "stdout",
          "output_type": "stream",
          "text": [
            "Debug: Anomaly threshold (95th percentile) = 0.0044876596236831925\n",
            "Debug: Total trades triggered (entry/exit cycles) = 546\n",
            "Debug: Position value counts = {0: 1643, 1: 395, -1: 323}\n",
            "Debug: Total time steps with non-zero positions = 718\n",
            "Debug: Total trades executed after risk management (entry/exit cycles) = 537\n",
            "Debug: Position_RM value counts = {0: 1658, 1: 387, -1: 316}\n",
            "Debug: Total time steps with non-zero positions after RM = 703\n",
            "Debug: Strategy_Returns_RM mean = 2.694351306798326e-07, std = 0.0026672953589996725\n",
            "Debug: Cumulative_Returns_RM final = 0.992268597542403\n",
            "Debug: signal_df shape = (2361, 18)\n",
            "Debug: Number of NaN in Predicted_ZScore = 0\n",
            "Debug: volatility shape = (2381,)\n",
            "Debug: Position value counts = {0: 1867, 1: 285, -1: 209}\n",
            "Debug: Total time steps with non-zero positions = 494\n",
            "Debug: Total trades triggered (entry/exit cycles) = 294\n"
          ]
        },
        {
          "name": "stderr",
          "output_type": "stream",
          "text": [
            "[I 2025-05-21 19:58:22,415] Trial 6 finished with value: -0.0686511165152407 and parameters: {'entry_threshold': 1.2000000000000002, 'exit_threshold': 0.2, 'hold_period': 12}. Best is trial 5 with value: -0.007731402457596959.\n"
          ]
        },
        {
          "name": "stdout",
          "output_type": "stream",
          "text": [
            "Debug: Anomaly threshold (95th percentile) = 0.0044876596236831925\n",
            "Debug: Total trades triggered (entry/exit cycles) = 294\n",
            "Debug: Position value counts = {0: 1867, 1: 285, -1: 209}\n",
            "Debug: Total time steps with non-zero positions = 494\n",
            "Debug: Total trades executed after risk management (entry/exit cycles) = 287\n",
            "Debug: Position_RM value counts = {0: 1880, 1: 278, -1: 203}\n",
            "Debug: Total time steps with non-zero positions after RM = 481\n",
            "Debug: Strategy_Returns_RM mean = -2.7577283107832943e-05, std = 0.002254869046837326\n",
            "Debug: Cumulative_Returns_RM final = 0.9313488834847593\n",
            "Debug: signal_df shape = (2361, 18)\n",
            "Debug: Number of NaN in Predicted_ZScore = 0\n",
            "Debug: volatility shape = (2381,)\n",
            "Debug: Position value counts = {0: 2002, 1: 209, -1: 150}\n",
            "Debug: Total time steps with non-zero positions = 359\n",
            "Debug: Total trades triggered (entry/exit cycles) = 244\n"
          ]
        },
        {
          "name": "stderr",
          "output_type": "stream",
          "text": [
            "[I 2025-05-21 19:58:23,818] Trial 7 finished with value: -0.049952348424353143 and parameters: {'entry_threshold': 1.4, 'exit_threshold': 0.6, 'hold_period': 3}. Best is trial 5 with value: -0.007731402457596959.\n"
          ]
        },
        {
          "name": "stdout",
          "output_type": "stream",
          "text": [
            "Debug: Anomaly threshold (95th percentile) = 0.0044876596236831925\n",
            "Debug: Total trades triggered (entry/exit cycles) = 244\n",
            "Debug: Position value counts = {0: 2002, 1: 209, -1: 150}\n",
            "Debug: Total time steps with non-zero positions = 359\n",
            "Debug: Total trades executed after risk management (entry/exit cycles) = 238\n",
            "Debug: Position_RM value counts = {0: 2016, 1: 204, -1: 141}\n",
            "Debug: Total time steps with non-zero positions after RM = 345\n",
            "Debug: Strategy_Returns_RM mean = -1.9878442100543035e-05, std = 0.0019108235835551056\n",
            "Debug: Cumulative_Returns_RM final = 0.9500476515756469\n",
            "Debug: signal_df shape = (2361, 18)\n",
            "Debug: Number of NaN in Predicted_ZScore = 0\n",
            "Debug: volatility shape = (2381,)\n",
            "Debug: Position value counts = {0: 1979, 1: 223, -1: 159}\n",
            "Debug: Total time steps with non-zero positions = 382\n",
            "Debug: Total trades triggered (entry/exit cycles) = 235\n"
          ]
        },
        {
          "name": "stderr",
          "output_type": "stream",
          "text": [
            "[I 2025-05-21 19:58:24,838] Trial 8 finished with value: -0.005612209206983354 and parameters: {'entry_threshold': 1.4, 'exit_threshold': 0.30000000000000004, 'hold_period': 11}. Best is trial 8 with value: -0.005612209206983354.\n"
          ]
        },
        {
          "name": "stdout",
          "output_type": "stream",
          "text": [
            "Debug: Anomaly threshold (95th percentile) = 0.0044876596236831925\n",
            "Debug: Total trades triggered (entry/exit cycles) = 235\n",
            "Debug: Position value counts = {0: 1979, 1: 223, -1: 159}\n",
            "Debug: Total time steps with non-zero positions = 382\n",
            "Debug: Total trades executed after risk management (entry/exit cycles) = 229\n",
            "Debug: Position_RM value counts = {0: 1990, 1: 218, -1: 153}\n",
            "Debug: Total time steps with non-zero positions after RM = 371\n",
            "Debug: Strategy_Returns_RM mean = -3.4876500965847496e-07, std = 0.0020174031540246893\n",
            "Debug: Cumulative_Returns_RM final = 0.9943877907930166\n",
            "Debug: signal_df shape = (2361, 18)\n",
            "Debug: Number of NaN in Predicted_ZScore = 0\n",
            "Debug: volatility shape = (2381,)\n",
            "Debug: Position value counts = {0: 2235, 1: 80, -1: 46}\n",
            "Debug: Total time steps with non-zero positions = 126\n",
            "Debug: Total trades triggered (entry/exit cycles) = 76\n"
          ]
        },
        {
          "name": "stderr",
          "output_type": "stream",
          "text": [
            "[I 2025-05-21 19:58:25,869] Trial 9 finished with value: -0.05312981352344548 and parameters: {'entry_threshold': 2.3, 'exit_threshold': 0.4, 'hold_period': 8}. Best is trial 8 with value: -0.005612209206983354.\n"
          ]
        },
        {
          "name": "stdout",
          "output_type": "stream",
          "text": [
            "Debug: Anomaly threshold (95th percentile) = 0.0044876596236831925\n",
            "Debug: Total trades triggered (entry/exit cycles) = 76\n",
            "Debug: Position value counts = {0: 2235, 1: 80, -1: 46}\n",
            "Debug: Total time steps with non-zero positions = 126\n",
            "Debug: Total trades executed after risk management (entry/exit cycles) = 73\n",
            "Debug: Position_RM value counts = {0: 2243, 1: 75, -1: 43}\n",
            "Debug: Total time steps with non-zero positions after RM = 118\n",
            "Debug: Strategy_Returns_RM mean = -2.2403551591622826e-05, std = 0.001198723788351816\n",
            "Debug: Cumulative_Returns_RM final = 0.9468701864765545\n",
            "Debug: signal_df shape = (2361, 18)\n",
            "Debug: Number of NaN in Predicted_ZScore = 0\n",
            "Debug: volatility shape = (2381,)\n",
            "Debug: Position value counts = {0: 2308, 1: 38, -1: 15}\n",
            "Debug: Total time steps with non-zero positions = 53\n",
            "Debug: Total trades triggered (entry/exit cycles) = 35\n"
          ]
        },
        {
          "name": "stderr",
          "output_type": "stream",
          "text": [
            "[I 2025-05-21 19:58:26,917] Trial 10 finished with value: -0.02821365412538901 and parameters: {'entry_threshold': 3.0, 'exit_threshold': 1.0, 'hold_period': 11}. Best is trial 8 with value: -0.005612209206983354.\n"
          ]
        },
        {
          "name": "stdout",
          "output_type": "stream",
          "text": [
            "Debug: Anomaly threshold (95th percentile) = 0.0044876596236831925\n",
            "Debug: Total trades triggered (entry/exit cycles) = 35\n",
            "Debug: Position value counts = {0: 2308, 1: 38, -1: 15}\n",
            "Debug: Total time steps with non-zero positions = 53\n",
            "Debug: Total trades executed after risk management (entry/exit cycles) = 33\n",
            "Debug: Position_RM value counts = {0: 2314, 1: 34, -1: 13}\n",
            "Debug: Total time steps with non-zero positions after RM = 47\n",
            "Debug: Strategy_Returns_RM mean = -1.1839803782372354e-05, std = 0.0007505236168750778\n",
            "Debug: Cumulative_Returns_RM final = 0.971786345874611\n",
            "Debug: signal_df shape = (2361, 18)\n",
            "Debug: Number of NaN in Predicted_ZScore = 0\n",
            "Debug: volatility shape = (2381,)\n",
            "Debug: Position value counts = {0: 1528, 1: 433, -1: 400}\n",
            "Debug: Total time steps with non-zero positions = 833\n",
            "Debug: Total trades triggered (entry/exit cycles) = 679\n"
          ]
        },
        {
          "name": "stderr",
          "output_type": "stream",
          "text": [
            "[I 2025-05-21 19:58:27,981] Trial 11 finished with value: -0.15390139797028746 and parameters: {'entry_threshold': 0.5, 'exit_threshold': 0.9, 'hold_period': 9}. Best is trial 8 with value: -0.005612209206983354.\n"
          ]
        },
        {
          "name": "stdout",
          "output_type": "stream",
          "text": [
            "Debug: Anomaly threshold (95th percentile) = 0.0044876596236831925\n",
            "Debug: Total trades triggered (entry/exit cycles) = 679\n",
            "Debug: Position value counts = {0: 1528, 1: 433, -1: 400}\n",
            "Debug: Total time steps with non-zero positions = 833\n",
            "Debug: Total trades executed after risk management (entry/exit cycles) = 668\n",
            "Debug: Position_RM value counts = {0: 1544, 1: 425, -1: 392}\n",
            "Debug: Total time steps with non-zero positions after RM = 817\n",
            "Debug: Strategy_Returns_RM mean = -6.672996664732224e-05, std = 0.002846181351975188\n",
            "Debug: Cumulative_Returns_RM final = 0.8460986020297125\n",
            "Debug: signal_df shape = (2361, 18)\n",
            "Debug: Number of NaN in Predicted_ZScore = 0\n",
            "Debug: volatility shape = (2381,)\n",
            "Debug: Position value counts = {0: 2162, 1: 116, -1: 83}\n",
            "Debug: Total time steps with non-zero positions = 199\n",
            "Debug: Total trades triggered (entry/exit cycles) = 134\n"
          ]
        },
        {
          "name": "stderr",
          "output_type": "stream",
          "text": [
            "[I 2025-05-21 19:58:29,021] Trial 12 finished with value: -0.01377558717323435 and parameters: {'entry_threshold': 1.8, 'exit_threshold': 0.7000000000000001, 'hold_period': 9}. Best is trial 8 with value: -0.005612209206983354.\n"
          ]
        },
        {
          "name": "stdout",
          "output_type": "stream",
          "text": [
            "Debug: Anomaly threshold (95th percentile) = 0.0044876596236831925\n",
            "Debug: Total trades triggered (entry/exit cycles) = 134\n",
            "Debug: Position value counts = {0: 2162, 1: 116, -1: 83}\n",
            "Debug: Total time steps with non-zero positions = 199\n",
            "Debug: Total trades executed after risk management (entry/exit cycles) = 130\n",
            "Debug: Position_RM value counts = {0: 2170, 1: 113, -1: 78}\n",
            "Debug: Total time steps with non-zero positions after RM = 191\n",
            "Debug: Strategy_Returns_RM mean = -4.713555271036715e-06, std = 0.0015246359638691202\n",
            "Debug: Cumulative_Returns_RM final = 0.9862244128267657\n",
            "Debug: signal_df shape = (2361, 18)\n",
            "Debug: Number of NaN in Predicted_ZScore = 0\n",
            "Debug: volatility shape = (2381,)\n",
            "Debug: Position value counts = {0: 1525, 1: 451, -1: 385}\n",
            "Debug: Total time steps with non-zero positions = 836\n",
            "Debug: Total trades triggered (entry/exit cycles) = 582\n"
          ]
        },
        {
          "name": "stderr",
          "output_type": "stream",
          "text": [
            "[I 2025-05-21 19:58:30,059] Trial 13 finished with value: -0.012112402934589261 and parameters: {'entry_threshold': 0.6, 'exit_threshold': 0.4, 'hold_period': 7}. Best is trial 8 with value: -0.005612209206983354.\n"
          ]
        },
        {
          "name": "stdout",
          "output_type": "stream",
          "text": [
            "Debug: Anomaly threshold (95th percentile) = 0.0044876596236831925\n",
            "Debug: Total trades triggered (entry/exit cycles) = 582\n",
            "Debug: Position value counts = {0: 1525, 1: 451, -1: 385}\n",
            "Debug: Total time steps with non-zero positions = 836\n",
            "Debug: Total trades executed after risk management (entry/exit cycles) = 573\n",
            "Debug: Position_RM value counts = {0: 1541, 1: 442, -1: 378}\n",
            "Debug: Total time steps with non-zero positions after RM = 820\n",
            "Debug: Strategy_Returns_RM mean = -1.2145638437314811e-06, std = 0.002809611480377916\n",
            "Debug: Cumulative_Returns_RM final = 0.9878875970654107\n",
            "Debug: signal_df shape = (2361, 18)\n",
            "Debug: Number of NaN in Predicted_ZScore = 0\n",
            "Debug: volatility shape = (2381,)\n",
            "Debug: Position value counts = {0: 2197, 1: 99, -1: 65}\n",
            "Debug: Total time steps with non-zero positions = 164\n",
            "Debug: Total trades triggered (entry/exit cycles) = 113\n"
          ]
        },
        {
          "name": "stderr",
          "output_type": "stream",
          "text": [
            "[I 2025-05-21 19:58:31,102] Trial 14 finished with value: -0.02647685717596915 and parameters: {'entry_threshold': 1.9000000000000001, 'exit_threshold': 0.8, 'hold_period': 11}. Best is trial 8 with value: -0.005612209206983354.\n"
          ]
        },
        {
          "name": "stdout",
          "output_type": "stream",
          "text": [
            "Debug: Anomaly threshold (95th percentile) = 0.0044876596236831925\n",
            "Debug: Total trades triggered (entry/exit cycles) = 113\n",
            "Debug: Position value counts = {0: 2197, 1: 99, -1: 65}\n",
            "Debug: Total time steps with non-zero positions = 164\n",
            "Debug: Total trades executed after risk management (entry/exit cycles) = 109\n",
            "Debug: Position_RM value counts = {0: 2205, 1: 96, -1: 60}\n",
            "Debug: Total time steps with non-zero positions after RM = 156\n",
            "Debug: Strategy_Returns_RM mean = -1.038801369151193e-05, std = 0.001398360343642486\n",
            "Debug: Cumulative_Returns_RM final = 0.9735231428240309\n",
            "Debug: signal_df shape = (2361, 18)\n",
            "Debug: Number of NaN in Predicted_ZScore = 0\n",
            "Debug: volatility shape = (2381,)\n",
            "Debug: Position value counts = {0: 2229, 1: 82, -1: 50}\n",
            "Debug: Total time steps with non-zero positions = 132\n",
            "Debug: Total trades triggered (entry/exit cycles) = 80\n"
          ]
        },
        {
          "name": "stderr",
          "output_type": "stream",
          "text": [
            "[I 2025-05-21 19:58:32,157] Trial 15 finished with value: -0.059474730834343514 and parameters: {'entry_threshold': 2.2, 'exit_threshold': 0.4, 'hold_period': 3}. Best is trial 8 with value: -0.005612209206983354.\n"
          ]
        },
        {
          "name": "stdout",
          "output_type": "stream",
          "text": [
            "Debug: Anomaly threshold (95th percentile) = 0.0044876596236831925\n",
            "Debug: Total trades triggered (entry/exit cycles) = 80\n",
            "Debug: Position value counts = {0: 2229, 1: 82, -1: 50}\n",
            "Debug: Total time steps with non-zero positions = 132\n",
            "Debug: Total trades executed after risk management (entry/exit cycles) = 77\n",
            "Debug: Position_RM value counts = {0: 2238, 1: 76, -1: 47}\n",
            "Debug: Total time steps with non-zero positions after RM = 123\n",
            "Debug: Strategy_Returns_RM mean = -2.523177440451424e-05, std = 0.0012147951819857909\n",
            "Debug: Cumulative_Returns_RM final = 0.9405252691656565\n",
            "Debug: signal_df shape = (2361, 18)\n",
            "Debug: Number of NaN in Predicted_ZScore = 0\n",
            "Debug: volatility shape = (2381,)\n",
            "Debug: Position value counts = {0: 1672, 1: 374, -1: 315}\n",
            "Debug: Total time steps with non-zero positions = 689\n",
            "Debug: Total trades triggered (entry/exit cycles) = 482\n"
          ]
        },
        {
          "name": "stderr",
          "output_type": "stream",
          "text": [
            "[I 2025-05-21 19:58:33,187] Trial 16 finished with value: -0.08238742820460454 and parameters: {'entry_threshold': 0.8, 'exit_threshold': 0.5, 'hold_period': 5}. Best is trial 8 with value: -0.005612209206983354.\n"
          ]
        },
        {
          "name": "stdout",
          "output_type": "stream",
          "text": [
            "Debug: Anomaly threshold (95th percentile) = 0.0044876596236831925\n",
            "Debug: Total trades triggered (entry/exit cycles) = 482\n",
            "Debug: Position value counts = {0: 1672, 1: 374, -1: 315}\n",
            "Debug: Total time steps with non-zero positions = 689\n",
            "Debug: Total trades executed after risk management (entry/exit cycles) = 473\n",
            "Debug: Position_RM value counts = {0: 1688, 1: 365, -1: 308}\n",
            "Debug: Total time steps with non-zero positions after RM = 673\n",
            "Debug: Strategy_Returns_RM mean = -3.297701271096879e-05, std = 0.0026222994557133514\n",
            "Debug: Cumulative_Returns_RM final = 0.9176125717953955\n",
            "Debug: signal_df shape = (2361, 18)\n",
            "Debug: Number of NaN in Predicted_ZScore = 0\n",
            "Debug: volatility shape = (2381,)\n",
            "Debug: Position value counts = {0: 2066, 1: 167, -1: 128}\n",
            "Debug: Total time steps with non-zero positions = 295\n",
            "Debug: Total trades triggered (entry/exit cycles) = 215\n"
          ]
        },
        {
          "name": "stderr",
          "output_type": "stream",
          "text": [
            "[I 2025-05-21 19:58:34,723] Trial 17 finished with value: -0.03528450840750974 and parameters: {'entry_threshold': 1.5, 'exit_threshold': 0.8, 'hold_period': 12}. Best is trial 8 with value: -0.005612209206983354.\n"
          ]
        },
        {
          "name": "stdout",
          "output_type": "stream",
          "text": [
            "Debug: Anomaly threshold (95th percentile) = 0.0044876596236831925\n",
            "Debug: Total trades triggered (entry/exit cycles) = 215\n",
            "Debug: Position value counts = {0: 2066, 1: 167, -1: 128}\n",
            "Debug: Total time steps with non-zero positions = 295\n",
            "Debug: Total trades executed after risk management (entry/exit cycles) = 209\n",
            "Debug: Position_RM value counts = {0: 2076, 1: 163, -1: 122}\n",
            "Debug: Total time steps with non-zero positions after RM = 285\n",
            "Debug: Strategy_Returns_RM mean = -1.3668022460304638e-05, std = 0.0017591889525744946\n",
            "Debug: Cumulative_Returns_RM final = 0.9647154915924903\n",
            "Debug: signal_df shape = (2361, 18)\n",
            "Debug: Number of NaN in Predicted_ZScore = 0\n",
            "Debug: volatility shape = (2381,)\n",
            "Debug: Position value counts = {0: 2262, 1: 61, -1: 38}\n",
            "Debug: Total time steps with non-zero positions = 99\n",
            "Debug: Total trades triggered (entry/exit cycles) = 54\n"
          ]
        },
        {
          "name": "stderr",
          "output_type": "stream",
          "text": [
            "[I 2025-05-21 19:58:36,158] Trial 18 finished with value: -0.008336720956194865 and parameters: {'entry_threshold': 2.6, 'exit_threshold': 0.30000000000000004, 'hold_period': 10}. Best is trial 8 with value: -0.005612209206983354.\n"
          ]
        },
        {
          "name": "stdout",
          "output_type": "stream",
          "text": [
            "Debug: Anomaly threshold (95th percentile) = 0.0044876596236831925\n",
            "Debug: Total trades triggered (entry/exit cycles) = 54\n",
            "Debug: Position value counts = {0: 2262, 1: 61, -1: 38}\n",
            "Debug: Total time steps with non-zero positions = 99\n",
            "Debug: Total trades executed after risk management (entry/exit cycles) = 51\n",
            "Debug: Position_RM value counts = {0: 2271, 1: 55, -1: 35}\n",
            "Debug: Total time steps with non-zero positions after RM = 90\n",
            "Debug: Strategy_Returns_RM mean = -3.014000490900864e-06, std = 0.0010314156466129387\n",
            "Debug: Cumulative_Returns_RM final = 0.9916632790438051\n",
            "Debug: signal_df shape = (2361, 18)\n",
            "Debug: Number of NaN in Predicted_ZScore = 0\n",
            "Debug: volatility shape = (2381,)\n",
            "Debug: Position value counts = {0: 2111, 1: 142, -1: 108}\n",
            "Debug: Total time steps with non-zero positions = 250\n",
            "Debug: Total trades triggered (entry/exit cycles) = 174\n"
          ]
        },
        {
          "name": "stderr",
          "output_type": "stream",
          "text": [
            "[I 2025-05-21 19:58:37,186] Trial 19 finished with value: -0.04273123169017867 and parameters: {'entry_threshold': 1.6, 'exit_threshold': 0.7000000000000001, 'hold_period': 7}. Best is trial 8 with value: -0.005612209206983354.\n",
            "[I 2025-05-21 19:58:37,187] A new study created in memory with name: no-name-8b4b33dd-f2a8-4d7f-915c-da573afcf99d\n"
          ]
        },
        {
          "name": "stdout",
          "output_type": "stream",
          "text": [
            "Debug: Anomaly threshold (95th percentile) = 0.0044876596236831925\n",
            "Debug: Total trades triggered (entry/exit cycles) = 174\n",
            "Debug: Position value counts = {0: 2111, 1: 142, -1: 108}\n",
            "Debug: Total time steps with non-zero positions = 250\n",
            "Debug: Total trades executed after risk management (entry/exit cycles) = 168\n",
            "Debug: Position_RM value counts = {0: 2121, 1: 138, -1: 102}\n",
            "Debug: Total time steps with non-zero positions after RM = 240\n",
            "Debug: Strategy_Returns_RM mean = -1.718451639340779e-05, std = 0.001620161877020553\n",
            "Debug: Cumulative_Returns_RM final = 0.9572687683098213\n",
            "Best parameters for XGBoost: entry_threshold = 1.4, exit_threshold = 0.30000000000000004, hold_period = 11\n",
            "Best cumulative return for XGBoost: -0.005612209206983354\n",
            "\n",
            "Tuning thresholds for OLS...\n",
            "Debug: signal_df shape = (2361, 18)\n",
            "Debug: Number of NaN in Predicted_ZScore = 0\n",
            "Debug: volatility shape = (2381,)\n",
            "Debug: Position value counts = {0: 2232, -1: 70, 1: 59}\n",
            "Debug: Total time steps with non-zero positions = 129\n",
            "Debug: Total trades triggered (entry/exit cycles) = 74\n"
          ]
        },
        {
          "name": "stderr",
          "output_type": "stream",
          "text": [
            "[I 2025-05-21 19:58:38,219] Trial 0 finished with value: -0.011210493730908544 and parameters: {'entry_threshold': 2.6, 'exit_threshold': 0.4, 'hold_period': 7}. Best is trial 0 with value: -0.011210493730908544.\n"
          ]
        },
        {
          "name": "stdout",
          "output_type": "stream",
          "text": [
            "Debug: Anomaly threshold (95th percentile) = 0.0044876596236831925\n",
            "Debug: Total trades triggered (entry/exit cycles) = 74\n",
            "Debug: Position value counts = {0: 2232, -1: 70, 1: 59}\n",
            "Debug: Total time steps with non-zero positions = 129\n",
            "Debug: Total trades executed after risk management (entry/exit cycles) = 71\n",
            "Debug: Position_RM value counts = {0: 2240, -1: 67, 1: 54}\n",
            "Debug: Total time steps with non-zero positions after RM = 121\n",
            "Debug: Strategy_Returns_RM mean = -3.883450482043736e-06, std = 0.001333500994671664\n",
            "Debug: Cumulative_Returns_RM final = 0.9887895062690915\n",
            "Debug: signal_df shape = (2361, 18)\n",
            "Debug: Number of NaN in Predicted_ZScore = 0\n",
            "Debug: volatility shape = (2381,)\n",
            "Debug: Position value counts = {0: 1475, 1: 443, -1: 443}\n",
            "Debug: Total time steps with non-zero positions = 886\n",
            "Debug: Total trades triggered (entry/exit cycles) = 508\n"
          ]
        },
        {
          "name": "stderr",
          "output_type": "stream",
          "text": [
            "[I 2025-05-21 19:58:39,244] Trial 1 finished with value: 0.05510731911979616 and parameters: {'entry_threshold': 0.7, 'exit_threshold': 0.1, 'hold_period': 5}. Best is trial 1 with value: 0.05510731911979616.\n"
          ]
        },
        {
          "name": "stdout",
          "output_type": "stream",
          "text": [
            "Debug: Anomaly threshold (95th percentile) = 0.0044876596236831925\n",
            "Debug: Total trades triggered (entry/exit cycles) = 508\n",
            "Debug: Position value counts = {0: 1475, 1: 443, -1: 443}\n",
            "Debug: Total time steps with non-zero positions = 886\n",
            "Debug: Total trades executed after risk management (entry/exit cycles) = 500\n",
            "Debug: Position_RM value counts = {0: 1501, -1: 434, 1: 426}\n",
            "Debug: Total time steps with non-zero positions after RM = 860\n",
            "Debug: Strategy_Returns_RM mean = 2.6661135194451646e-05, std = 0.0028073322264122124\n",
            "Debug: Cumulative_Returns_RM final = 1.0551073191197962\n",
            "Debug: signal_df shape = (2361, 18)\n",
            "Debug: Number of NaN in Predicted_ZScore = 0\n",
            "Debug: volatility shape = (2381,)\n",
            "Debug: Position value counts = {0: 2005, -1: 186, 1: 170}\n",
            "Debug: Total time steps with non-zero positions = 356\n",
            "Debug: Total trades triggered (entry/exit cycles) = 235\n"
          ]
        },
        {
          "name": "stderr",
          "output_type": "stream",
          "text": [
            "[I 2025-05-21 19:58:40,276] Trial 2 finished with value: -0.07916706205011714 and parameters: {'entry_threshold': 1.5, 'exit_threshold': 0.5, 'hold_period': 3}. Best is trial 1 with value: 0.05510731911979616.\n"
          ]
        },
        {
          "name": "stdout",
          "output_type": "stream",
          "text": [
            "Debug: Anomaly threshold (95th percentile) = 0.0044876596236831925\n",
            "Debug: Total trades triggered (entry/exit cycles) = 235\n",
            "Debug: Position value counts = {0: 2005, -1: 186, 1: 170}\n",
            "Debug: Total time steps with non-zero positions = 356\n",
            "Debug: Total trades executed after risk management (entry/exit cycles) = 229\n",
            "Debug: Position_RM value counts = {0: 2019, -1: 177, 1: 165}\n",
            "Debug: Total time steps with non-zero positions after RM = 342\n",
            "Debug: Strategy_Returns_RM mean = -3.295637039184166e-05, std = 0.0019866733033765136\n",
            "Debug: Cumulative_Returns_RM final = 0.9208329379498829\n",
            "Debug: signal_df shape = (2361, 18)\n",
            "Debug: Number of NaN in Predicted_ZScore = 0\n",
            "Debug: volatility shape = (2381,)\n",
            "Debug: Position value counts = {0: 1748, 1: 311, -1: 302}\n",
            "Debug: Total time steps with non-zero positions = 613\n",
            "Debug: Total trades triggered (entry/exit cycles) = 381\n"
          ]
        },
        {
          "name": "stderr",
          "output_type": "stream",
          "text": [
            "[I 2025-05-21 19:58:41,328] Trial 3 finished with value: -0.0324254499345179 and parameters: {'entry_threshold': 1.0, 'exit_threshold': 0.2, 'hold_period': 10}. Best is trial 1 with value: 0.05510731911979616.\n"
          ]
        },
        {
          "name": "stdout",
          "output_type": "stream",
          "text": [
            "Debug: Anomaly threshold (95th percentile) = 0.0044876596236831925\n",
            "Debug: Total trades triggered (entry/exit cycles) = 381\n",
            "Debug: Position value counts = {0: 1748, 1: 311, -1: 302}\n",
            "Debug: Total time steps with non-zero positions = 613\n",
            "Debug: Total trades executed after risk management (entry/exit cycles) = 373\n",
            "Debug: Position_RM value counts = {0: 1765, 1: 301, -1: 295}\n",
            "Debug: Total time steps with non-zero positions after RM = 596\n",
            "Debug: Strategy_Returns_RM mean = -1.0949272989868319e-05, std = 0.0024538651905331014\n",
            "Debug: Cumulative_Returns_RM final = 0.9675745500654821\n",
            "Debug: signal_df shape = (2361, 18)\n",
            "Debug: Number of NaN in Predicted_ZScore = 0\n",
            "Debug: volatility shape = (2381,)\n",
            "Debug: Position value counts = {0: 1612, -1: 386, 1: 363}\n",
            "Debug: Total time steps with non-zero positions = 749\n",
            "Debug: Total trades triggered (entry/exit cycles) = 548\n"
          ]
        },
        {
          "name": "stderr",
          "output_type": "stream",
          "text": [
            "[I 2025-05-21 19:58:42,362] Trial 4 finished with value: 0.011917458305592765 and parameters: {'entry_threshold': 0.7, 'exit_threshold': 0.6, 'hold_period': 14}. Best is trial 1 with value: 0.05510731911979616.\n"
          ]
        },
        {
          "name": "stdout",
          "output_type": "stream",
          "text": [
            "Debug: Anomaly threshold (95th percentile) = 0.0044876596236831925\n",
            "Debug: Total trades triggered (entry/exit cycles) = 548\n",
            "Debug: Position value counts = {0: 1612, -1: 386, 1: 363}\n",
            "Debug: Total time steps with non-zero positions = 749\n",
            "Debug: Total trades executed after risk management (entry/exit cycles) = 539\n",
            "Debug: Position_RM value counts = {0: 1627, -1: 379, 1: 355}\n",
            "Debug: Total time steps with non-zero positions after RM = 734\n",
            "Debug: Strategy_Returns_RM mean = 8.722729657141755e-06, std = 0.0027217691277295454\n",
            "Debug: Cumulative_Returns_RM final = 1.0119174583055928\n",
            "Debug: signal_df shape = (2361, 18)\n",
            "Debug: Number of NaN in Predicted_ZScore = 0\n",
            "Debug: volatility shape = (2381,)\n",
            "Debug: Position value counts = {0: 2173, 1: 95, -1: 93}\n",
            "Debug: Total time steps with non-zero positions = 188\n",
            "Debug: Total trades triggered (entry/exit cycles) = 94\n"
          ]
        },
        {
          "name": "stderr",
          "output_type": "stream",
          "text": [
            "[I 2025-05-21 19:58:43,398] Trial 5 finished with value: -0.06855716135679757 and parameters: {'entry_threshold': 2.3, 'exit_threshold': 0.1, 'hold_period': 4}. Best is trial 1 with value: 0.05510731911979616.\n"
          ]
        },
        {
          "name": "stdout",
          "output_type": "stream",
          "text": [
            "Debug: Anomaly threshold (95th percentile) = 0.0044876596236831925\n",
            "Debug: Total trades triggered (entry/exit cycles) = 94\n",
            "Debug: Position value counts = {0: 2173, 1: 95, -1: 93}\n",
            "Debug: Total time steps with non-zero positions = 188\n",
            "Debug: Total trades executed after risk management (entry/exit cycles) = 92\n",
            "Debug: Position_RM value counts = {0: 2187, -1: 88, 1: 86}\n",
            "Debug: Total time steps with non-zero positions after RM = 174\n",
            "Debug: Strategy_Returns_RM mean = -2.898343696338674e-05, std = 0.0014791055216899047\n",
            "Debug: Cumulative_Returns_RM final = 0.9314428386432024\n",
            "Debug: signal_df shape = (2361, 18)\n",
            "Debug: Number of NaN in Predicted_ZScore = 0\n",
            "Debug: volatility shape = (2381,)\n",
            "Debug: Position value counts = {0: 1886, -1: 248, 1: 227}\n",
            "Debug: Total time steps with non-zero positions = 475\n",
            "Debug: Total trades triggered (entry/exit cycles) = 360\n"
          ]
        },
        {
          "name": "stderr",
          "output_type": "stream",
          "text": [
            "[I 2025-05-21 19:58:44,429] Trial 6 finished with value: -0.0814932673857357 and parameters: {'entry_threshold': 1.1, 'exit_threshold': 0.8, 'hold_period': 8}. Best is trial 1 with value: 0.05510731911979616.\n"
          ]
        },
        {
          "name": "stdout",
          "output_type": "stream",
          "text": [
            "Debug: Anomaly threshold (95th percentile) = 0.0044876596236831925\n",
            "Debug: Total trades triggered (entry/exit cycles) = 360\n",
            "Debug: Position value counts = {0: 1886, -1: 248, 1: 227}\n",
            "Debug: Total time steps with non-zero positions = 475\n",
            "Debug: Total trades executed after risk management (entry/exit cycles) = 352\n",
            "Debug: Position_RM value counts = {0: 1897, -1: 242, 1: 222}\n",
            "Debug: Total time steps with non-zero positions after RM = 464\n",
            "Debug: Strategy_Returns_RM mean = -3.3518626834232e-05, std = 0.0022282074703741297\n",
            "Debug: Cumulative_Returns_RM final = 0.9185067326142643\n",
            "Debug: signal_df shape = (2361, 18)\n",
            "Debug: Number of NaN in Predicted_ZScore = 0\n",
            "Debug: volatility shape = (2381,)\n",
            "Debug: Position value counts = {0: 2240, -1: 62, 1: 59}\n",
            "Debug: Total time steps with non-zero positions = 121\n",
            "Debug: Total trades triggered (entry/exit cycles) = 75\n"
          ]
        },
        {
          "name": "stderr",
          "output_type": "stream",
          "text": [
            "[I 2025-05-21 19:58:45,457] Trial 7 finished with value: -0.03286318904048313 and parameters: {'entry_threshold': 2.6, 'exit_threshold': 0.6, 'hold_period': 10}. Best is trial 1 with value: 0.05510731911979616.\n"
          ]
        },
        {
          "name": "stdout",
          "output_type": "stream",
          "text": [
            "Debug: Anomaly threshold (95th percentile) = 0.0044876596236831925\n",
            "Debug: Total trades triggered (entry/exit cycles) = 75\n",
            "Debug: Position value counts = {0: 2240, -1: 62, 1: 59}\n",
            "Debug: Total time steps with non-zero positions = 121\n",
            "Debug: Total trades executed after risk management (entry/exit cycles) = 72\n",
            "Debug: Position_RM value counts = {0: 2248, -1: 59, 1: 54}\n",
            "Debug: Total time steps with non-zero positions after RM = 113\n",
            "Debug: Strategy_Returns_RM mean = -1.3301124505565656e-05, std = 0.0013031847138947664\n",
            "Debug: Cumulative_Returns_RM final = 0.9671368109595169\n",
            "Debug: signal_df shape = (2361, 18)\n",
            "Debug: Number of NaN in Predicted_ZScore = 0\n",
            "Debug: volatility shape = (2381,)\n",
            "Debug: Position value counts = {0: 2015, -1: 175, 1: 171}\n",
            "Debug: Total time steps with non-zero positions = 346\n",
            "Debug: Total trades triggered (entry/exit cycles) = 273\n"
          ]
        },
        {
          "name": "stderr",
          "output_type": "stream",
          "text": [
            "[I 2025-05-21 19:58:46,926] Trial 8 finished with value: -0.10301926750610846 and parameters: {'entry_threshold': 1.4, 'exit_threshold': 1.0, 'hold_period': 8}. Best is trial 1 with value: 0.05510731911979616.\n"
          ]
        },
        {
          "name": "stdout",
          "output_type": "stream",
          "text": [
            "Debug: Anomaly threshold (95th percentile) = 0.0044876596236831925\n",
            "Debug: Total trades triggered (entry/exit cycles) = 273\n",
            "Debug: Position value counts = {0: 2015, -1: 175, 1: 171}\n",
            "Debug: Total time steps with non-zero positions = 346\n",
            "Debug: Total trades executed after risk management (entry/exit cycles) = 267\n",
            "Debug: Position_RM value counts = {0: 2024, -1: 169, 1: 168}\n",
            "Debug: Total time steps with non-zero positions after RM = 337\n",
            "Debug: Strategy_Returns_RM mean = -4.405133649207341e-05, std = 0.0019965245732872132\n",
            "Debug: Cumulative_Returns_RM final = 0.8969807324938915\n",
            "Debug: signal_df shape = (2361, 18)\n",
            "Debug: Number of NaN in Predicted_ZScore = 0\n",
            "Debug: volatility shape = (2381,)\n",
            "Debug: Position value counts = {0: 1659, -1: 365, 1: 337}\n",
            "Debug: Total time steps with non-zero positions = 702\n",
            "Debug: Total trades triggered (entry/exit cycles) = 498\n"
          ]
        },
        {
          "name": "stderr",
          "output_type": "stream",
          "text": [
            "[I 2025-05-21 19:58:48,475] Trial 9 finished with value: 0.02257980339414578 and parameters: {'entry_threshold': 0.8, 'exit_threshold': 0.5, 'hold_period': 6}. Best is trial 1 with value: 0.05510731911979616.\n"
          ]
        },
        {
          "name": "stdout",
          "output_type": "stream",
          "text": [
            "Debug: Anomaly threshold (95th percentile) = 0.0044876596236831925\n",
            "Debug: Total trades triggered (entry/exit cycles) = 498\n",
            "Debug: Position value counts = {0: 1659, -1: 365, 1: 337}\n",
            "Debug: Total time steps with non-zero positions = 702\n",
            "Debug: Total trades executed after risk management (entry/exit cycles) = 489\n",
            "Debug: Position_RM value counts = {0: 1675, -1: 358, 1: 328}\n",
            "Debug: Total time steps with non-zero positions after RM = 686\n",
            "Debug: Strategy_Returns_RM mean = 1.2905296989218312e-05, std = 0.002625805274034786\n",
            "Debug: Cumulative_Returns_RM final = 1.0225798033941458\n",
            "Debug: signal_df shape = (2361, 18)\n",
            "Debug: Number of NaN in Predicted_ZScore = 0\n",
            "Debug: volatility shape = (2381,)\n",
            "Debug: Position value counts = {0: 2145, -1: 117, 1: 99}\n",
            "Debug: Total time steps with non-zero positions = 216\n",
            "Debug: Total trades triggered (entry/exit cycles) = 129\n"
          ]
        },
        {
          "name": "stderr",
          "output_type": "stream",
          "text": [
            "[I 2025-05-21 19:58:49,514] Trial 10 finished with value: -0.04921370834870975 and parameters: {'entry_threshold': 2.0, 'exit_threshold': 0.30000000000000004, 'hold_period': 13}. Best is trial 1 with value: 0.05510731911979616.\n"
          ]
        },
        {
          "name": "stdout",
          "output_type": "stream",
          "text": [
            "Debug: Anomaly threshold (95th percentile) = 0.0044876596236831925\n",
            "Debug: Total trades triggered (entry/exit cycles) = 129\n",
            "Debug: Position value counts = {0: 2145, -1: 117, 1: 99}\n",
            "Debug: Total time steps with non-zero positions = 216\n",
            "Debug: Total trades executed after risk management (entry/exit cycles) = 124\n",
            "Debug: Position_RM value counts = {0: 2154, -1: 111, 1: 96}\n",
            "Debug: Total time steps with non-zero positions after RM = 207\n",
            "Debug: Strategy_Returns_RM mean = -2.010350841499885e-05, std = 0.0015927503992155248\n",
            "Debug: Cumulative_Returns_RM final = 0.9507862916512902\n",
            "Debug: signal_df shape = (2361, 18)\n",
            "Debug: Number of NaN in Predicted_ZScore = 0\n",
            "Debug: volatility shape = (2381,)\n",
            "Debug: Position value counts = {0: 1307, -1: 544, 1: 510}\n",
            "Debug: Total time steps with non-zero positions = 1054\n",
            "Debug: Total trades triggered (entry/exit cycles) = 593\n"
          ]
        },
        {
          "name": "stderr",
          "output_type": "stream",
          "text": [
            "[I 2025-05-21 19:58:50,578] Trial 11 finished with value: -0.04480674302232068 and parameters: {'entry_threshold': 0.5, 'exit_threshold': 0.1, 'hold_period': 5}. Best is trial 1 with value: 0.05510731911979616.\n"
          ]
        },
        {
          "name": "stdout",
          "output_type": "stream",
          "text": [
            "Debug: Anomaly threshold (95th percentile) = 0.0044876596236831925\n",
            "Debug: Total trades triggered (entry/exit cycles) = 593\n",
            "Debug: Position value counts = {0: 1307, -1: 544, 1: 510}\n",
            "Debug: Total time steps with non-zero positions = 1054\n",
            "Debug: Total trades executed after risk management (entry/exit cycles) = 583\n",
            "Debug: Position_RM value counts = {0: 1333, -1: 534, 1: 494}\n",
            "Debug: Total time steps with non-zero positions after RM = 1028\n",
            "Debug: Strategy_Returns_RM mean = -1.483288595921527e-05, std = 0.003027504868676338\n",
            "Debug: Cumulative_Returns_RM final = 0.9551932569776793\n",
            "Debug: signal_df shape = (2361, 18)\n",
            "Debug: Number of NaN in Predicted_ZScore = 0\n",
            "Debug: volatility shape = (2381,)\n",
            "Debug: Position value counts = {0: 1767, -1: 305, 1: 289}\n",
            "Debug: Total time steps with non-zero positions = 594\n",
            "Debug: Total trades triggered (entry/exit cycles) = 458\n"
          ]
        },
        {
          "name": "stderr",
          "output_type": "stream",
          "text": [
            "[I 2025-05-21 19:58:51,613] Trial 12 finished with value: -0.064797824096399 and parameters: {'entry_threshold': 0.9, 'exit_threshold': 0.8, 'hold_period': 6}. Best is trial 1 with value: 0.05510731911979616.\n"
          ]
        },
        {
          "name": "stdout",
          "output_type": "stream",
          "text": [
            "Debug: Anomaly threshold (95th percentile) = 0.0044876596236831925\n",
            "Debug: Total trades triggered (entry/exit cycles) = 458\n",
            "Debug: Position value counts = {0: 1767, -1: 305, 1: 289}\n",
            "Debug: Total time steps with non-zero positions = 594\n",
            "Debug: Total trades executed after risk management (entry/exit cycles) = 450\n",
            "Debug: Position_RM value counts = {0: 1781, -1: 297, 1: 283}\n",
            "Debug: Total time steps with non-zero positions after RM = 580\n",
            "Debug: Strategy_Returns_RM mean = -2.525614547119127e-05, std = 0.002496906176122924\n",
            "Debug: Cumulative_Returns_RM final = 0.935202175903601\n",
            "Debug: signal_df shape = (2361, 18)\n",
            "Debug: Number of NaN in Predicted_ZScore = 0\n",
            "Debug: volatility shape = (2381,)\n",
            "Debug: Position value counts = {0: 1912, -1: 229, 1: 220}\n",
            "Debug: Total time steps with non-zero positions = 449\n",
            "Debug: Total trades triggered (entry/exit cycles) = 280\n"
          ]
        },
        {
          "name": "stderr",
          "output_type": "stream",
          "text": [
            "[I 2025-05-21 19:58:52,665] Trial 13 finished with value: -0.121173152189605 and parameters: {'entry_threshold': 1.3, 'exit_threshold': 0.30000000000000004, 'hold_period': 5}. Best is trial 1 with value: 0.05510731911979616.\n"
          ]
        },
        {
          "name": "stdout",
          "output_type": "stream",
          "text": [
            "Debug: Anomaly threshold (95th percentile) = 0.0044876596236831925\n",
            "Debug: Total trades triggered (entry/exit cycles) = 280\n",
            "Debug: Position value counts = {0: 1912, -1: 229, 1: 220}\n",
            "Debug: Total time steps with non-zero positions = 449\n",
            "Debug: Total trades executed after risk management (entry/exit cycles) = 274\n",
            "Debug: Position_RM value counts = {0: 1922, -1: 223, 1: 216}\n",
            "Debug: Total time steps with non-zero positions after RM = 439\n",
            "Debug: Strategy_Returns_RM mean = -5.224770873796626e-05, std = 0.002216300240152643\n",
            "Debug: Cumulative_Returns_RM final = 0.878826847810395\n",
            "Debug: signal_df shape = (2361, 18)\n",
            "Debug: Number of NaN in Predicted_ZScore = 0\n",
            "Debug: volatility shape = (2381,)\n",
            "Debug: Position value counts = {0: 1499, -1: 447, 1: 415}\n",
            "Debug: Total time steps with non-zero positions = 862\n",
            "Debug: Total trades triggered (entry/exit cycles) = 679\n"
          ]
        },
        {
          "name": "stderr",
          "output_type": "stream",
          "text": [
            "[I 2025-05-21 19:58:53,715] Trial 14 finished with value: -0.10535444787271153 and parameters: {'entry_threshold': 0.5, 'exit_threshold': 0.8, 'hold_period': 3}. Best is trial 1 with value: 0.05510731911979616.\n"
          ]
        },
        {
          "name": "stdout",
          "output_type": "stream",
          "text": [
            "Debug: Anomaly threshold (95th percentile) = 0.0044876596236831925\n",
            "Debug: Total trades triggered (entry/exit cycles) = 679\n",
            "Debug: Position value counts = {0: 1499, -1: 447, 1: 415}\n",
            "Debug: Total time steps with non-zero positions = 862\n",
            "Debug: Total trades executed after risk management (entry/exit cycles) = 668\n",
            "Debug: Position_RM value counts = {0: 1517, -1: 437, 1: 407}\n",
            "Debug: Total time steps with non-zero positions after RM = 844\n",
            "Debug: Strategy_Returns_RM mean = -4.296308905215755e-05, std = 0.0028940373758581613\n",
            "Debug: Cumulative_Returns_RM final = 0.8946455521272885\n",
            "Debug: signal_df shape = (2361, 18)\n",
            "Debug: Number of NaN in Predicted_ZScore = 0\n",
            "Debug: volatility shape = (2381,)\n",
            "Debug: Position value counts = {0: 2276, -1: 47, 1: 38}\n",
            "Debug: Total time steps with non-zero positions = 85\n",
            "Debug: Total trades triggered (entry/exit cycles) = 48\n"
          ]
        },
        {
          "name": "stderr",
          "output_type": "stream",
          "text": [
            "[I 2025-05-21 19:58:54,771] Trial 15 finished with value: -0.019475383430361703 and parameters: {'entry_threshold': 3.0, 'exit_threshold': 0.4, 'hold_period': 6}. Best is trial 1 with value: 0.05510731911979616.\n"
          ]
        },
        {
          "name": "stdout",
          "output_type": "stream",
          "text": [
            "Debug: Anomaly threshold (95th percentile) = 0.0044876596236831925\n",
            "Debug: Total trades triggered (entry/exit cycles) = 48\n",
            "Debug: Position value counts = {0: 2276, -1: 47, 1: 38}\n",
            "Debug: Total time steps with non-zero positions = 85\n",
            "Debug: Total trades executed after risk management (entry/exit cycles) = 47\n",
            "Debug: Position_RM value counts = {0: 2281, -1: 45, 1: 35}\n",
            "Debug: Total time steps with non-zero positions after RM = 80\n",
            "Debug: Strategy_Returns_RM mean = -7.734742797769008e-06, std = 0.0010891084624064541\n",
            "Debug: Cumulative_Returns_RM final = 0.9805246165696383\n",
            "Debug: signal_df shape = (2361, 18)\n",
            "Debug: Number of NaN in Predicted_ZScore = 0\n",
            "Debug: volatility shape = (2381,)\n",
            "Debug: Position value counts = {0: 2132, -1: 119, 1: 110}\n",
            "Debug: Total time steps with non-zero positions = 229\n",
            "Debug: Total trades triggered (entry/exit cycles) = 169\n"
          ]
        },
        {
          "name": "stderr",
          "output_type": "stream",
          "text": [
            "[I 2025-05-21 19:58:55,813] Trial 16 finished with value: -0.1023472187370611 and parameters: {'entry_threshold': 1.8, 'exit_threshold': 1.0, 'hold_period': 11}. Best is trial 1 with value: 0.05510731911979616.\n"
          ]
        },
        {
          "name": "stdout",
          "output_type": "stream",
          "text": [
            "Debug: Anomaly threshold (95th percentile) = 0.0044876596236831925\n",
            "Debug: Total trades triggered (entry/exit cycles) = 169\n",
            "Debug: Position value counts = {0: 2132, -1: 119, 1: 110}\n",
            "Debug: Total time steps with non-zero positions = 229\n",
            "Debug: Total trades executed after risk management (entry/exit cycles) = 164\n",
            "Debug: Position_RM value counts = {0: 2140, -1: 113, 1: 108}\n",
            "Debug: Total time steps with non-zero positions after RM = 221\n",
            "Debug: Strategy_Returns_RM mean = -4.4268990984210873e-05, std = 0.0017075965127280577\n",
            "Debug: Cumulative_Returns_RM final = 0.8976527812629389\n",
            "Debug: signal_df shape = (2361, 18)\n",
            "Debug: Number of NaN in Predicted_ZScore = 0\n",
            "Debug: volatility shape = (2381,)\n",
            "Debug: Position value counts = {0: 1604, -1: 389, 1: 368}\n",
            "Debug: Total time steps with non-zero positions = 757\n",
            "Debug: Total trades triggered (entry/exit cycles) = 480\n"
          ]
        },
        {
          "name": "stderr",
          "output_type": "stream",
          "text": [
            "[I 2025-05-21 19:58:56,877] Trial 17 finished with value: 0.050132063479207734 and parameters: {'entry_threshold': 0.8, 'exit_threshold': 0.2, 'hold_period': 8}. Best is trial 1 with value: 0.05510731911979616.\n"
          ]
        },
        {
          "name": "stdout",
          "output_type": "stream",
          "text": [
            "Debug: Anomaly threshold (95th percentile) = 0.0044876596236831925\n",
            "Debug: Total trades triggered (entry/exit cycles) = 480\n",
            "Debug: Position value counts = {0: 1604, -1: 389, 1: 368}\n",
            "Debug: Total time steps with non-zero positions = 757\n",
            "Debug: Total trades executed after risk management (entry/exit cycles) = 471\n",
            "Debug: Position_RM value counts = {0: 1623, -1: 382, 1: 356}\n",
            "Debug: Total time steps with non-zero positions after RM = 738\n",
            "Debug: Strategy_Returns_RM mean = 2.4301056124499657e-05, std = 0.002676722860123884\n",
            "Debug: Cumulative_Returns_RM final = 1.0501320634792077\n",
            "Debug: signal_df shape = (2361, 18)\n",
            "Debug: Number of NaN in Predicted_ZScore = 0\n",
            "Debug: volatility shape = (2381,)\n",
            "Debug: Position value counts = {0: 1856, -1: 261, 1: 244}\n",
            "Debug: Total time steps with non-zero positions = 505\n",
            "Debug: Total trades triggered (entry/exit cycles) = 312\n"
          ]
        },
        {
          "name": "stderr",
          "output_type": "stream",
          "text": [
            "[I 2025-05-21 19:58:57,938] Trial 18 finished with value: -0.027014742837996986 and parameters: {'entry_threshold': 1.2000000000000002, 'exit_threshold': 0.2, 'hold_period': 12}. Best is trial 1 with value: 0.05510731911979616.\n"
          ]
        },
        {
          "name": "stdout",
          "output_type": "stream",
          "text": [
            "Debug: Anomaly threshold (95th percentile) = 0.0044876596236831925\n",
            "Debug: Total trades triggered (entry/exit cycles) = 312\n",
            "Debug: Position value counts = {0: 1856, -1: 261, 1: 244}\n",
            "Debug: Total time steps with non-zero positions = 505\n",
            "Debug: Total trades executed after risk management (entry/exit cycles) = 306\n",
            "Debug: Position_RM value counts = {0: 1868, -1: 255, 1: 238}\n",
            "Debug: Total time steps with non-zero positions after RM = 493\n",
            "Debug: Strategy_Returns_RM mean = -8.968704375573267e-06, std = 0.0022927358315798455\n",
            "Debug: Cumulative_Returns_RM final = 0.972985257162003\n",
            "Debug: signal_df shape = (2361, 18)\n",
            "Debug: Number of NaN in Predicted_ZScore = 0\n",
            "Debug: volatility shape = (2381,)\n",
            "Debug: Position value counts = {0: 2048, -1: 171, 1: 142}\n",
            "Debug: Total time steps with non-zero positions = 313\n",
            "Debug: Total trades triggered (entry/exit cycles) = 173\n"
          ]
        },
        {
          "name": "stderr",
          "output_type": "stream",
          "text": [
            "[I 2025-05-21 19:58:59,354] Trial 19 finished with value: -0.02510918647978777 and parameters: {'entry_threshold': 1.7000000000000002, 'exit_threshold': 0.1, 'hold_period': 8}. Best is trial 1 with value: 0.05510731911979616.\n",
            "[I 2025-05-21 19:58:59,357] A new study created in memory with name: no-name-8f651665-b339-443b-8a71-62c982e14e5a\n"
          ]
        },
        {
          "name": "stdout",
          "output_type": "stream",
          "text": [
            "Debug: Anomaly threshold (95th percentile) = 0.0044876596236831925\n",
            "Debug: Total trades triggered (entry/exit cycles) = 173\n",
            "Debug: Position value counts = {0: 2048, -1: 171, 1: 142}\n",
            "Debug: Total time steps with non-zero positions = 313\n",
            "Debug: Total trades executed after risk management (entry/exit cycles) = 169\n",
            "Debug: Position_RM value counts = {0: 2060, -1: 165, 1: 136}\n",
            "Debug: Total time steps with non-zero positions after RM = 301\n",
            "Debug: Strategy_Returns_RM mean = -8.835772581873997e-06, std = 0.0019654758936238498\n",
            "Debug: Cumulative_Returns_RM final = 0.9748908135202122\n",
            "Best parameters for OLS: entry_threshold = 0.7, exit_threshold = 0.1, hold_period = 5\n",
            "Best cumulative return for OLS: 0.05510731911979616\n",
            "\n",
            "Tuning thresholds for Ensemble...\n",
            "Debug: signal_df shape = (2361, 18)\n",
            "Debug: Number of NaN in Predicted_ZScore = 0\n",
            "Debug: volatility shape = (2381,)\n",
            "Debug: Position value counts = {0: 1246, -1: 669, 1: 446}\n",
            "Debug: Total time steps with non-zero positions = 1115\n",
            "Debug: Total trades triggered (entry/exit cycles) = 270\n"
          ]
        },
        {
          "name": "stderr",
          "output_type": "stream",
          "text": [
            "[I 2025-05-21 19:59:00,907] Trial 0 finished with value: -0.08744565982209385 and parameters: {'entry_threshold': 0.8, 'exit_threshold': 0.5, 'hold_period': 8}. Best is trial 0 with value: -0.08744565982209385.\n"
          ]
        },
        {
          "name": "stdout",
          "output_type": "stream",
          "text": [
            "Debug: Anomaly threshold (95th percentile) = 0.0044876596236831925\n",
            "Debug: Total trades triggered (entry/exit cycles) = 270\n",
            "Debug: Position value counts = {0: 1246, -1: 669, 1: 446}\n",
            "Debug: Total time steps with non-zero positions = 1115\n",
            "Debug: Total trades executed after risk management (entry/exit cycles) = 268\n",
            "Debug: Position_RM value counts = {0: 1562, -1: 472, 1: 327}\n",
            "Debug: Total time steps with non-zero positions after RM = 799\n",
            "Debug: Strategy_Returns_RM mean = -3.4716387758899816e-05, std = 0.0028428341482998414\n",
            "Debug: Cumulative_Returns_RM final = 0.9125543401779062\n",
            "Debug: signal_df shape = (2361, 18)\n",
            "Debug: Number of NaN in Predicted_ZScore = 0\n",
            "Debug: volatility shape = (2381,)\n",
            "Debug: Position value counts = {0: 1741, -1: 360, 1: 260}\n",
            "Debug: Total time steps with non-zero positions = 620\n",
            "Debug: Total trades triggered (entry/exit cycles) = 164\n"
          ]
        },
        {
          "name": "stderr",
          "output_type": "stream",
          "text": [
            "[I 2025-05-21 19:59:01,929] Trial 1 finished with value: -0.04254537137387182 and parameters: {'entry_threshold': 1.5, 'exit_threshold': 1.0, 'hold_period': 15}. Best is trial 1 with value: -0.04254537137387182.\n"
          ]
        },
        {
          "name": "stdout",
          "output_type": "stream",
          "text": [
            "Debug: Anomaly threshold (95th percentile) = 0.0044876596236831925\n",
            "Debug: Total trades triggered (entry/exit cycles) = 164\n",
            "Debug: Position value counts = {0: 1741, -1: 360, 1: 260}\n",
            "Debug: Total time steps with non-zero positions = 620\n",
            "Debug: Total trades executed after risk management (entry/exit cycles) = 161\n",
            "Debug: Position_RM value counts = {0: 1802, -1: 322, 1: 237}\n",
            "Debug: Total time steps with non-zero positions after RM = 559\n",
            "Debug: Strategy_Returns_RM mean = -1.5921221045219542e-05, std = 0.0022323769982091034\n",
            "Debug: Cumulative_Returns_RM final = 0.9574546286261282\n",
            "Debug: signal_df shape = (2361, 18)\n",
            "Debug: Number of NaN in Predicted_ZScore = 0\n",
            "Debug: volatility shape = (2381,)\n",
            "Debug: Position value counts = {0: 1695, -1: 359, 1: 307}\n",
            "Debug: Total time steps with non-zero positions = 666\n",
            "Debug: Total trades triggered (entry/exit cycles) = 52\n"
          ]
        },
        {
          "name": "stderr",
          "output_type": "stream",
          "text": [
            "[I 2025-05-21 19:59:02,942] Trial 2 finished with value: -0.024883866303497704 and parameters: {'entry_threshold': 2.2, 'exit_threshold': 0.1, 'hold_period': 11}. Best is trial 2 with value: -0.024883866303497704.\n"
          ]
        },
        {
          "name": "stdout",
          "output_type": "stream",
          "text": [
            "Debug: Anomaly threshold (95th percentile) = 0.0044876596236831925\n",
            "Debug: Total trades triggered (entry/exit cycles) = 52\n",
            "Debug: Position value counts = {0: 1695, -1: 359, 1: 307}\n",
            "Debug: Total time steps with non-zero positions = 666\n",
            "Debug: Total trades executed after risk management (entry/exit cycles) = 53\n",
            "Debug: Position_RM value counts = {0: 1971, -1: 211, 1: 179}\n",
            "Debug: Total time steps with non-zero positions after RM = 390\n",
            "Debug: Strategy_Returns_RM mean = -8.793729597923638e-06, std = 0.0019379726831323168\n",
            "Debug: Cumulative_Returns_RM final = 0.9751161336965023\n",
            "Debug: signal_df shape = (2361, 18)\n",
            "Debug: Number of NaN in Predicted_ZScore = 0\n",
            "Debug: volatility shape = (2381,)\n",
            "Debug: Position value counts = {0: 1880, 1: 243, -1: 238}\n",
            "Debug: Total time steps with non-zero positions = 481\n",
            "Debug: Total trades triggered (entry/exit cycles) = 33\n"
          ]
        },
        {
          "name": "stderr",
          "output_type": "stream",
          "text": [
            "[I 2025-05-21 19:59:03,974] Trial 3 finished with value: -0.14262278125307726 and parameters: {'entry_threshold': 2.6, 'exit_threshold': 0.1, 'hold_period': 9}. Best is trial 2 with value: -0.024883866303497704.\n"
          ]
        },
        {
          "name": "stdout",
          "output_type": "stream",
          "text": [
            "Debug: Anomaly threshold (95th percentile) = 0.0044876596236831925\n",
            "Debug: Total trades triggered (entry/exit cycles) = 33\n",
            "Debug: Position value counts = {0: 1880, 1: 243, -1: 238}\n",
            "Debug: Total time steps with non-zero positions = 481\n",
            "Debug: Total trades executed after risk management (entry/exit cycles) = 34\n",
            "Debug: Position_RM value counts = {0: 2127, 1: 126, -1: 108}\n",
            "Debug: Total time steps with non-zero positions after RM = 234\n",
            "Debug: Strategy_Returns_RM mean = -6.403428197406175e-05, std = 0.0015071144646263803\n",
            "Debug: Cumulative_Returns_RM final = 0.8573772187469227\n",
            "Debug: signal_df shape = (2361, 18)\n",
            "Debug: Number of NaN in Predicted_ZScore = 0\n",
            "Debug: volatility shape = (2381,)\n",
            "Debug: Position value counts = {0: 1304, -1: 631, 1: 426}\n",
            "Debug: Total time steps with non-zero positions = 1057\n",
            "Debug: Total trades triggered (entry/exit cycles) = 236\n"
          ]
        },
        {
          "name": "stderr",
          "output_type": "stream",
          "text": [
            "[I 2025-05-21 19:59:04,998] Trial 4 finished with value: -0.07383262479874453 and parameters: {'entry_threshold': 0.9, 'exit_threshold': 0.5, 'hold_period': 15}. Best is trial 2 with value: -0.024883866303497704.\n"
          ]
        },
        {
          "name": "stdout",
          "output_type": "stream",
          "text": [
            "Debug: Anomaly threshold (95th percentile) = 0.0044876596236831925\n",
            "Debug: Total trades triggered (entry/exit cycles) = 236\n",
            "Debug: Position value counts = {0: 1304, -1: 631, 1: 426}\n",
            "Debug: Total time steps with non-zero positions = 1057\n",
            "Debug: Total trades executed after risk management (entry/exit cycles) = 235\n",
            "Debug: Position_RM value counts = {0: 1471, -1: 540, 1: 350}\n",
            "Debug: Total time steps with non-zero positions after RM = 890\n",
            "Debug: Strategy_Returns_RM mean = -2.8186025838588665e-05, std = 0.002933062019331087\n",
            "Debug: Cumulative_Returns_RM final = 0.9261673752012555\n",
            "Debug: signal_df shape = (2361, 18)\n",
            "Debug: Number of NaN in Predicted_ZScore = 0\n",
            "Debug: volatility shape = (2381,)\n",
            "Debug: Position value counts = {0: 2024, -1: 182, 1: 155}\n",
            "Debug: Total time steps with non-zero positions = 337\n",
            "Debug: Total trades triggered (entry/exit cycles) = 33\n"
          ]
        },
        {
          "name": "stderr",
          "output_type": "stream",
          "text": [
            "[I 2025-05-21 19:59:06,024] Trial 5 finished with value: -0.10472110474594098 and parameters: {'entry_threshold': 2.7, 'exit_threshold': 0.5, 'hold_period': 8}. Best is trial 2 with value: -0.024883866303497704.\n"
          ]
        },
        {
          "name": "stdout",
          "output_type": "stream",
          "text": [
            "Debug: Anomaly threshold (95th percentile) = 0.0044876596236831925\n",
            "Debug: Total trades triggered (entry/exit cycles) = 33\n",
            "Debug: Position value counts = {0: 2024, -1: 182, 1: 155}\n",
            "Debug: Total time steps with non-zero positions = 337\n",
            "Debug: Total trades executed after risk management (entry/exit cycles) = 33\n",
            "Debug: Position_RM value counts = {0: 2168, -1: 97, 1: 96}\n",
            "Debug: Total time steps with non-zero positions after RM = 193\n",
            "Debug: Strategy_Returns_RM mean = -4.5894419584396325e-05, std = 0.0013827744359181727\n",
            "Debug: Cumulative_Returns_RM final = 0.895278895254059\n",
            "Debug: signal_df shape = (2361, 18)\n",
            "Debug: Number of NaN in Predicted_ZScore = 0\n",
            "Debug: volatility shape = (2381,)\n",
            "Debug: Position value counts = {0: 1130, -1: 751, 1: 480}\n",
            "Debug: Total time steps with non-zero positions = 1231\n",
            "Debug: Total trades triggered (entry/exit cycles) = 449\n"
          ]
        },
        {
          "name": "stderr",
          "output_type": "stream",
          "text": [
            "[I 2025-05-21 19:59:07,051] Trial 6 finished with value: -0.15351189279882393 and parameters: {'entry_threshold': 0.5, 'exit_threshold': 0.7000000000000001, 'hold_period': 6}. Best is trial 2 with value: -0.024883866303497704.\n"
          ]
        },
        {
          "name": "stdout",
          "output_type": "stream",
          "text": [
            "Debug: Anomaly threshold (95th percentile) = 0.0044876596236831925\n",
            "Debug: Total trades triggered (entry/exit cycles) = 449\n",
            "Debug: Position value counts = {0: 1130, -1: 751, 1: 480}\n",
            "Debug: Total time steps with non-zero positions = 1231\n",
            "Debug: Total trades executed after risk management (entry/exit cycles) = 443\n",
            "Debug: Position_RM value counts = {0: 1472, -1: 539, 1: 350}\n",
            "Debug: Total time steps with non-zero positions after RM = 889\n",
            "Debug: Strategy_Returns_RM mean = -6.609654071209723e-05, std = 0.0029963307998179104\n",
            "Debug: Cumulative_Returns_RM final = 0.8464881072011761\n",
            "Debug: signal_df shape = (2361, 18)\n",
            "Debug: Number of NaN in Predicted_ZScore = 0\n",
            "Debug: volatility shape = (2381,)\n",
            "Debug: Position value counts = {0: 1317, -1: 617, 1: 427}\n",
            "Debug: Total time steps with non-zero positions = 1044\n",
            "Debug: Total trades triggered (entry/exit cycles) = 131\n"
          ]
        },
        {
          "name": "stderr",
          "output_type": "stream",
          "text": [
            "[I 2025-05-21 19:59:08,081] Trial 7 finished with value: -0.15508595058954133 and parameters: {'entry_threshold': 1.2000000000000002, 'exit_threshold': 0.2, 'hold_period': 10}. Best is trial 2 with value: -0.024883866303497704.\n"
          ]
        },
        {
          "name": "stdout",
          "output_type": "stream",
          "text": [
            "Debug: Anomaly threshold (95th percentile) = 0.0044876596236831925\n",
            "Debug: Total trades triggered (entry/exit cycles) = 131\n",
            "Debug: Position value counts = {0: 1317, -1: 617, 1: 427}\n",
            "Debug: Total time steps with non-zero positions = 1044\n",
            "Debug: Total trades executed after risk management (entry/exit cycles) = 130\n",
            "Debug: Position_RM value counts = {0: 1679, -1: 411, 1: 271}\n",
            "Debug: Total time steps with non-zero positions after RM = 682\n",
            "Debug: Strategy_Returns_RM mean = -6.79355365212623e-05, std = 0.0026208271836203013\n",
            "Debug: Cumulative_Returns_RM final = 0.8449140494104587\n",
            "Debug: signal_df shape = (2361, 18)\n",
            "Debug: Number of NaN in Predicted_ZScore = 0\n",
            "Debug: volatility shape = (2381,)\n",
            "Debug: Position value counts = {0: 1888, -1: 264, 1: 209}\n",
            "Debug: Total time steps with non-zero positions = 473\n",
            "Debug: Total trades triggered (entry/exit cycles) = 71\n"
          ]
        },
        {
          "name": "stderr",
          "output_type": "stream",
          "text": [
            "[I 2025-05-21 19:59:09,104] Trial 8 finished with value: -0.01736206489415959 and parameters: {'entry_threshold': 2.2, 'exit_threshold': 0.8, 'hold_period': 7}. Best is trial 8 with value: -0.01736206489415959.\n"
          ]
        },
        {
          "name": "stdout",
          "output_type": "stream",
          "text": [
            "Debug: Anomaly threshold (95th percentile) = 0.0044876596236831925\n",
            "Debug: Total trades triggered (entry/exit cycles) = 71\n",
            "Debug: Position value counts = {0: 1888, -1: 264, 1: 209}\n",
            "Debug: Total time steps with non-zero positions = 473\n",
            "Debug: Total trades executed after risk management (entry/exit cycles) = 71\n",
            "Debug: Position_RM value counts = {0: 2069, -1: 163, 1: 129}\n",
            "Debug: Total time steps with non-zero positions after RM = 292\n",
            "Debug: Strategy_Returns_RM mean = -6.076314909474577e-06, std = 0.001637429646031164\n",
            "Debug: Cumulative_Returns_RM final = 0.9826379351058404\n",
            "Debug: signal_df shape = (2361, 18)\n",
            "Debug: Number of NaN in Predicted_ZScore = 0\n",
            "Debug: volatility shape = (2381,)\n",
            "Debug: Position value counts = {0: 1931, -1: 244, 1: 186}\n",
            "Debug: Total time steps with non-zero positions = 430\n",
            "Debug: Total trades triggered (entry/exit cycles) = 87\n"
          ]
        },
        {
          "name": "stderr",
          "output_type": "stream",
          "text": [
            "[I 2025-05-21 19:59:10,128] Trial 9 finished with value: -0.05433817262759011 and parameters: {'entry_threshold': 2.1, 'exit_threshold': 1.0, 'hold_period': 10}. Best is trial 8 with value: -0.01736206489415959.\n"
          ]
        },
        {
          "name": "stdout",
          "output_type": "stream",
          "text": [
            "Debug: Anomaly threshold (95th percentile) = 0.0044876596236831925\n",
            "Debug: Total trades triggered (entry/exit cycles) = 87\n",
            "Debug: Position value counts = {0: 1931, -1: 244, 1: 186}\n",
            "Debug: Total time steps with non-zero positions = 430\n",
            "Debug: Total trades executed after risk management (entry/exit cycles) = 86\n",
            "Debug: Position_RM value counts = {0: 2019, -1: 190, 1: 152}\n",
            "Debug: Total time steps with non-zero positions after RM = 342\n",
            "Debug: Strategy_Returns_RM mean = -2.216967481684015e-05, std = 0.0017276423747608364\n",
            "Debug: Cumulative_Returns_RM final = 0.9456618273724099\n",
            "Debug: signal_df shape = (2361, 18)\n",
            "Debug: Number of NaN in Predicted_ZScore = 0\n",
            "Debug: volatility shape = (2381,)\n",
            "Debug: Position value counts = {0: 2128, -1: 128, 1: 105}\n",
            "Debug: Total time steps with non-zero positions = 233\n",
            "Debug: Total trades triggered (entry/exit cycles) = 27\n"
          ]
        },
        {
          "name": "stderr",
          "output_type": "stream",
          "text": [
            "[I 2025-05-21 19:59:11,443] Trial 10 finished with value: 0.002968992662054637 and parameters: {'entry_threshold': 3.0, 'exit_threshold': 0.8, 'hold_period': 3}. Best is trial 10 with value: 0.002968992662054637.\n"
          ]
        },
        {
          "name": "stdout",
          "output_type": "stream",
          "text": [
            "Debug: Anomaly threshold (95th percentile) = 0.0044876596236831925\n",
            "Debug: Total trades triggered (entry/exit cycles) = 27\n",
            "Debug: Position value counts = {0: 2128, -1: 128, 1: 105}\n",
            "Debug: Total time steps with non-zero positions = 233\n",
            "Debug: Total trades executed after risk management (entry/exit cycles) = 25\n",
            "Debug: Position_RM value counts = {0: 2284, 1: 42, -1: 35}\n",
            "Debug: Total time steps with non-zero positions after RM = 77\n",
            "Debug: Strategy_Returns_RM mean = 1.6656698099064306e-06, std = 0.0009057646376839498\n",
            "Debug: Cumulative_Returns_RM final = 1.0029689926620546\n",
            "Debug: signal_df shape = (2361, 18)\n",
            "Debug: Number of NaN in Predicted_ZScore = 0\n",
            "Debug: volatility shape = (2381,)\n",
            "Debug: Position value counts = {0: 2128, -1: 128, 1: 105}\n",
            "Debug: Total time steps with non-zero positions = 233\n",
            "Debug: Total trades triggered (entry/exit cycles) = 27\n"
          ]
        },
        {
          "name": "stderr",
          "output_type": "stream",
          "text": [
            "[I 2025-05-21 19:59:13,108] Trial 11 finished with value: 0.002968992662054637 and parameters: {'entry_threshold': 3.0, 'exit_threshold': 0.8, 'hold_period': 3}. Best is trial 10 with value: 0.002968992662054637.\n"
          ]
        },
        {
          "name": "stdout",
          "output_type": "stream",
          "text": [
            "Debug: Anomaly threshold (95th percentile) = 0.0044876596236831925\n",
            "Debug: Total trades triggered (entry/exit cycles) = 27\n",
            "Debug: Position value counts = {0: 2128, -1: 128, 1: 105}\n",
            "Debug: Total time steps with non-zero positions = 233\n",
            "Debug: Total trades executed after risk management (entry/exit cycles) = 25\n",
            "Debug: Position_RM value counts = {0: 2284, 1: 42, -1: 35}\n",
            "Debug: Total time steps with non-zero positions after RM = 77\n",
            "Debug: Strategy_Returns_RM mean = 1.6656698099064306e-06, std = 0.0009057646376839498\n",
            "Debug: Cumulative_Returns_RM final = 1.0029689926620546\n",
            "Debug: signal_df shape = (2361, 18)\n",
            "Debug: Number of NaN in Predicted_ZScore = 0\n",
            "Debug: volatility shape = (2381,)\n",
            "Debug: Position value counts = {0: 2111, -1: 138, 1: 112}\n",
            "Debug: Total time steps with non-zero positions = 250\n",
            "Debug: Total trades triggered (entry/exit cycles) = 29\n"
          ]
        },
        {
          "name": "stderr",
          "output_type": "stream",
          "text": [
            "[I 2025-05-21 19:59:14,155] Trial 12 finished with value: 0.011053449730012987 and parameters: {'entry_threshold': 2.9000000000000004, 'exit_threshold': 0.8, 'hold_period': 3}. Best is trial 12 with value: 0.011053449730012987.\n"
          ]
        },
        {
          "name": "stdout",
          "output_type": "stream",
          "text": [
            "Debug: Anomaly threshold (95th percentile) = 0.0044876596236831925\n",
            "Debug: Total trades triggered (entry/exit cycles) = 29\n",
            "Debug: Position value counts = {0: 2111, -1: 138, 1: 112}\n",
            "Debug: Total time steps with non-zero positions = 250\n",
            "Debug: Total trades executed after risk management (entry/exit cycles) = 27\n",
            "Debug: Position_RM value counts = {0: 2277, 1: 48, -1: 36}\n",
            "Debug: Total time steps with non-zero positions after RM = 84\n",
            "Debug: Strategy_Returns_RM mean = 5.092763245976352e-06, std = 0.0009348141364367384\n",
            "Debug: Cumulative_Returns_RM final = 1.011053449730013\n",
            "Debug: signal_df shape = (2361, 18)\n",
            "Debug: Number of NaN in Predicted_ZScore = 0\n",
            "Debug: volatility shape = (2381,)\n",
            "Debug: Position value counts = {0: 2102, -1: 147, 1: 112}\n",
            "Debug: Total time steps with non-zero positions = 259\n",
            "Debug: Total trades triggered (entry/exit cycles) = 24\n"
          ]
        },
        {
          "name": "stderr",
          "output_type": "stream",
          "text": [
            "[I 2025-05-21 19:59:15,200] Trial 13 finished with value: -0.02917464714760476 and parameters: {'entry_threshold': 3.0, 'exit_threshold': 0.7000000000000001, 'hold_period': 3}. Best is trial 12 with value: 0.011053449730012987.\n"
          ]
        },
        {
          "name": "stdout",
          "output_type": "stream",
          "text": [
            "Debug: Anomaly threshold (95th percentile) = 0.0044876596236831925\n",
            "Debug: Total trades triggered (entry/exit cycles) = 24\n",
            "Debug: Position value counts = {0: 2102, -1: 147, 1: 112}\n",
            "Debug: Total time steps with non-zero positions = 259\n",
            "Debug: Total trades executed after risk management (entry/exit cycles) = 22\n",
            "Debug: Position_RM value counts = {0: 2292, 1: 38, -1: 31}\n",
            "Debug: Total time steps with non-zero positions after RM = 69\n",
            "Debug: Strategy_Returns_RM mean = -1.2168417495300554e-05, std = 0.0008621273029629426\n",
            "Debug: Cumulative_Returns_RM final = 0.9708253528523952\n",
            "Debug: signal_df shape = (2361, 18)\n",
            "Debug: Number of NaN in Predicted_ZScore = 0\n",
            "Debug: volatility shape = (2381,)\n",
            "Debug: Position value counts = {0: 2059, -1: 167, 1: 135}\n",
            "Debug: Total time steps with non-zero positions = 302\n",
            "Debug: Total trades triggered (entry/exit cycles) = 49\n"
          ]
        },
        {
          "name": "stderr",
          "output_type": "stream",
          "text": [
            "[I 2025-05-21 19:59:16,241] Trial 14 finished with value: -0.06995648283668077 and parameters: {'entry_threshold': 2.6, 'exit_threshold': 0.9, 'hold_period': 5}. Best is trial 12 with value: 0.011053449730012987.\n"
          ]
        },
        {
          "name": "stdout",
          "output_type": "stream",
          "text": [
            "Debug: Anomaly threshold (95th percentile) = 0.0044876596236831925\n",
            "Debug: Total trades triggered (entry/exit cycles) = 49\n",
            "Debug: Position value counts = {0: 2059, -1: 167, 1: 135}\n",
            "Debug: Total time steps with non-zero positions = 302\n",
            "Debug: Total trades executed after risk management (entry/exit cycles) = 47\n",
            "Debug: Position_RM value counts = {0: 2191, 1: 85, -1: 85}\n",
            "Debug: Total time steps with non-zero positions after RM = 170\n",
            "Debug: Strategy_Returns_RM mean = -2.9864920269084994e-05, std = 0.0013046705708083162\n",
            "Debug: Cumulative_Returns_RM final = 0.9300435171633192\n",
            "Debug: signal_df shape = (2361, 18)\n",
            "Debug: Number of NaN in Predicted_ZScore = 0\n",
            "Debug: volatility shape = (2381,)\n",
            "Debug: Position value counts = {0: 1822, -1: 302, 1: 237}\n",
            "Debug: Total time steps with non-zero positions = 539\n",
            "Debug: Total trades triggered (entry/exit cycles) = 75\n"
          ]
        },
        {
          "name": "stderr",
          "output_type": "stream",
          "text": [
            "[I 2025-05-21 19:59:17,316] Trial 15 finished with value: 0.009999212299964588 and parameters: {'entry_threshold': 2.0, 'exit_threshold': 0.7000000000000001, 'hold_period': 5}. Best is trial 12 with value: 0.011053449730012987.\n"
          ]
        },
        {
          "name": "stdout",
          "output_type": "stream",
          "text": [
            "Debug: Anomaly threshold (95th percentile) = 0.0044876596236831925\n",
            "Debug: Total trades triggered (entry/exit cycles) = 75\n",
            "Debug: Position value counts = {0: 1822, -1: 302, 1: 237}\n",
            "Debug: Total time steps with non-zero positions = 539\n",
            "Debug: Total trades executed after risk management (entry/exit cycles) = 74\n",
            "Debug: Position_RM value counts = {0: 2101, -1: 138, 1: 122}\n",
            "Debug: Total time steps with non-zero positions after RM = 260\n",
            "Debug: Strategy_Returns_RM mean = 5.518139427999217e-06, std = 0.0016140321720683262\n",
            "Debug: Cumulative_Returns_RM final = 1.0099992122999646\n",
            "Debug: signal_df shape = (2361, 18)\n",
            "Debug: Number of NaN in Predicted_ZScore = 0\n",
            "Debug: volatility shape = (2381,)\n",
            "Debug: Position value counts = {0: 1651, -1: 408, 1: 302}\n",
            "Debug: Total time steps with non-zero positions = 710\n",
            "Debug: Total trades triggered (entry/exit cycles) = 77\n"
          ]
        },
        {
          "name": "stderr",
          "output_type": "stream",
          "text": [
            "[I 2025-05-21 19:59:18,351] Trial 16 finished with value: -0.03191264368029023 and parameters: {'entry_threshold': 1.8, 'exit_threshold': 0.30000000000000004, 'hold_period': 5}. Best is trial 12 with value: 0.011053449730012987.\n"
          ]
        },
        {
          "name": "stdout",
          "output_type": "stream",
          "text": [
            "Debug: Anomaly threshold (95th percentile) = 0.0044876596236831925\n",
            "Debug: Total trades triggered (entry/exit cycles) = 77\n",
            "Debug: Position value counts = {0: 1651, -1: 408, 1: 302}\n",
            "Debug: Total time steps with non-zero positions = 710\n",
            "Debug: Total trades executed after risk management (entry/exit cycles) = 77\n",
            "Debug: Position_RM value counts = {0: 2048, -1: 171, 1: 142}\n",
            "Debug: Total time steps with non-zero positions after RM = 313\n",
            "Debug: Strategy_Returns_RM mean = -1.2100549584737504e-05, std = 0.0018082044727531033\n",
            "Debug: Cumulative_Returns_RM final = 0.9680873563197098\n",
            "Debug: signal_df shape = (2361, 18)\n",
            "Debug: Number of NaN in Predicted_ZScore = 0\n",
            "Debug: volatility shape = (2381,)\n",
            "Debug: Position value counts = {0: 1765, -1: 335, 1: 261}\n",
            "Debug: Total time steps with non-zero positions = 596\n",
            "Debug: Total trades triggered (entry/exit cycles) = 79\n"
          ]
        },
        {
          "name": "stderr",
          "output_type": "stream",
          "text": [
            "[I 2025-05-21 19:59:19,396] Trial 17 finished with value: 0.009306204748157132 and parameters: {'entry_threshold': 1.9000000000000001, 'exit_threshold': 0.6, 'hold_period': 5}. Best is trial 12 with value: 0.011053449730012987.\n"
          ]
        },
        {
          "name": "stdout",
          "output_type": "stream",
          "text": [
            "Debug: Anomaly threshold (95th percentile) = 0.0044876596236831925\n",
            "Debug: Total trades triggered (entry/exit cycles) = 79\n",
            "Debug: Position value counts = {0: 1765, -1: 335, 1: 261}\n",
            "Debug: Total time steps with non-zero positions = 596\n",
            "Debug: Total trades executed after risk management (entry/exit cycles) = 79\n",
            "Debug: Position_RM value counts = {0: 2070, -1: 152, 1: 139}\n",
            "Debug: Total time steps with non-zero positions after RM = 291\n",
            "Debug: Strategy_Returns_RM mean = 5.398278386109382e-06, std = 0.0017166488329087171\n",
            "Debug: Cumulative_Returns_RM final = 1.0093062047481571\n",
            "Debug: signal_df shape = (2361, 18)\n",
            "Debug: Number of NaN in Predicted_ZScore = 0\n",
            "Debug: volatility shape = (2381,)\n",
            "Debug: Position value counts = {0: 1631, -1: 426, 1: 304}\n",
            "Debug: Total time steps with non-zero positions = 730\n",
            "Debug: Total trades triggered (entry/exit cycles) = 122\n"
          ]
        },
        {
          "name": "stderr",
          "output_type": "stream",
          "text": [
            "[I 2025-05-21 19:59:20,437] Trial 18 finished with value: -0.032573569936643065 and parameters: {'entry_threshold': 1.5, 'exit_threshold': 0.6, 'hold_period': 4}. Best is trial 12 with value: 0.011053449730012987.\n"
          ]
        },
        {
          "name": "stdout",
          "output_type": "stream",
          "text": [
            "Debug: Anomaly threshold (95th percentile) = 0.0044876596236831925\n",
            "Debug: Total trades triggered (entry/exit cycles) = 122\n",
            "Debug: Position value counts = {0: 1631, -1: 426, 1: 304}\n",
            "Debug: Total time steps with non-zero positions = 730\n",
            "Debug: Total trades executed after risk management (entry/exit cycles) = 121\n",
            "Debug: Position_RM value counts = {0: 2023, -1: 192, 1: 146}\n",
            "Debug: Total time steps with non-zero positions after RM = 338\n",
            "Debug: Strategy_Returns_RM mean = -1.2307493870446103e-05, std = 0.0018530383350678062\n",
            "Debug: Cumulative_Returns_RM final = 0.9674264300633569\n",
            "Debug: signal_df shape = (2361, 18)\n",
            "Debug: Number of NaN in Predicted_ZScore = 0\n",
            "Debug: volatility shape = (2381,)\n",
            "Debug: Position value counts = {0: 1870, -1: 278, 1: 213}\n",
            "Debug: Total time steps with non-zero positions = 491\n",
            "Debug: Total trades triggered (entry/exit cycles) = 50\n"
          ]
        },
        {
          "name": "stderr",
          "output_type": "stream",
          "text": [
            "[I 2025-05-21 19:59:21,474] Trial 19 finished with value: -0.012869359468516861 and parameters: {'entry_threshold': 2.4000000000000004, 'exit_threshold': 0.4, 'hold_period': 13}. Best is trial 12 with value: 0.011053449730012987.\n"
          ]
        },
        {
          "name": "stdout",
          "output_type": "stream",
          "text": [
            "Debug: Anomaly threshold (95th percentile) = 0.0044876596236831925\n",
            "Debug: Total trades triggered (entry/exit cycles) = 50\n",
            "Debug: Position value counts = {0: 1870, -1: 278, 1: 213}\n",
            "Debug: Total time steps with non-zero positions = 491\n",
            "Debug: Total trades executed after risk management (entry/exit cycles) = 51\n",
            "Debug: Position_RM value counts = {0: 2005, -1: 198, 1: 158}\n",
            "Debug: Total time steps with non-zero positions after RM = 356\n",
            "Debug: Strategy_Returns_RM mean = -3.9368015083071e-06, std = 0.0017595153782957635\n",
            "Debug: Cumulative_Returns_RM final = 0.9871306405314831\n",
            "Best parameters for Ensemble: entry_threshold = 2.9000000000000004, exit_threshold = 0.8, hold_period = 3\n",
            "Best cumulative return for Ensemble: 0.011053449730012987\n",
            "Debug: signal_df shape = (2361, 18)\n",
            "Debug: Number of NaN in Predicted_ZScore = 0\n",
            "Debug: volatility shape = (2381,)\n",
            "Debug: Position value counts = {0: 1170, -1: 729, 1: 462}\n",
            "Debug: Total time steps with non-zero positions = 1191\n",
            "Debug: Total trades triggered (entry/exit cycles) = 48\n",
            "Debug: signal_df shape for LSTM = (2361, 25)\n",
            "Debug: Number of NaN in Predicted_ZScore for LSTM = 0\n",
            "Debug: Anomaly threshold (95th percentile) = 0.0044876596236831925\n",
            "Debug: Total trades triggered (entry/exit cycles) = 48\n",
            "Debug: Position value counts = {0: 1170, -1: 729, 1: 462}\n",
            "Debug: Total time steps with non-zero positions = 1191\n",
            "Debug: Total trades executed after risk management (entry/exit cycles) = 51\n",
            "Debug: Position_RM value counts = {0: 1897, -1: 243, 1: 221}\n",
            "Debug: Total time steps with non-zero positions after RM = 464\n",
            "Debug: Strategy_Returns_RM mean = 4.3937895215063174e-05, std = 0.0020721410068669133\n",
            "Debug: Cumulative_Returns_RM final = 1.1037034491228093\n",
            "Debug: signal_df shape = (2361, 18)\n",
            "Debug: Number of NaN in Predicted_ZScore = 0\n",
            "Debug: volatility shape = (2381,)\n",
            "Debug: Position value counts = {0: 1243, -1: 585, 1: 533}\n",
            "Debug: Total time steps with non-zero positions = 1118\n",
            "Debug: Total trades triggered (entry/exit cycles) = 60\n",
            "Debug: signal_df shape for CNN-LSTM = (2361, 25)\n",
            "Debug: Number of NaN in Predicted_ZScore for CNN-LSTM = 0\n",
            "Debug: Anomaly threshold (95th percentile) = 0.0044876596236831925\n",
            "Debug: Total trades triggered (entry/exit cycles) = 60\n",
            "Debug: Position value counts = {0: 1243, -1: 585, 1: 533}\n",
            "Debug: Total time steps with non-zero positions = 1118\n",
            "Debug: Total trades executed after risk management (entry/exit cycles) = 60\n",
            "Debug: Position_RM value counts = {0: 2078, -1: 144, 1: 139}\n",
            "Debug: Total time steps with non-zero positions after RM = 283\n",
            "Debug: Strategy_Returns_RM mean = -1.1687593674607928e-05, std = 0.001729931886225691\n",
            "Debug: Cumulative_Returns_RM final = 0.9693492222108364\n",
            "Debug: signal_df shape = (2361, 18)\n",
            "Debug: Number of NaN in Predicted_ZScore = 0\n",
            "Debug: volatility shape = (2381,)\n",
            "Debug: Position value counts = {0: 1472, -1: 454, 1: 435}\n",
            "Debug: Total time steps with non-zero positions = 889\n",
            "Debug: Total trades triggered (entry/exit cycles) = 611\n",
            "Debug: signal_df shape for RandomForest = (2361, 25)\n",
            "Debug: Number of NaN in Predicted_ZScore for RandomForest = 0\n",
            "Debug: Anomaly threshold (95th percentile) = 0.0044876596236831925\n",
            "Debug: Total trades triggered (entry/exit cycles) = 611\n",
            "Debug: Position value counts = {0: 1472, -1: 454, 1: 435}\n",
            "Debug: Total time steps with non-zero positions = 889\n",
            "Debug: Total trades executed after risk management (entry/exit cycles) = 601\n",
            "Debug: Position_RM value counts = {0: 1490, -1: 445, 1: 426}\n",
            "Debug: Total time steps with non-zero positions after RM = 871\n",
            "Debug: Strategy_Returns_RM mean = 2.622942364160871e-05, std = 0.002823765356978107\n",
            "Debug: Cumulative_Returns_RM final = 1.053917726668574\n",
            "Debug: signal_df shape = (2361, 18)\n",
            "Debug: Number of NaN in Predicted_ZScore = 0\n",
            "Debug: volatility shape = (2381,)\n",
            "Debug: Position value counts = {0: 1979, 1: 223, -1: 159}\n",
            "Debug: Total time steps with non-zero positions = 382\n",
            "Debug: Total trades triggered (entry/exit cycles) = 235\n",
            "Debug: signal_df shape for XGBoost = (2361, 25)\n",
            "Debug: Number of NaN in Predicted_ZScore for XGBoost = 0\n",
            "Debug: Anomaly threshold (95th percentile) = 0.0044876596236831925\n",
            "Debug: Total trades triggered (entry/exit cycles) = 235\n",
            "Debug: Position value counts = {0: 1979, 1: 223, -1: 159}\n",
            "Debug: Total time steps with non-zero positions = 382\n",
            "Debug: Total trades executed after risk management (entry/exit cycles) = 229\n",
            "Debug: Position_RM value counts = {0: 1990, 1: 218, -1: 153}\n",
            "Debug: Total time steps with non-zero positions after RM = 371\n",
            "Debug: Strategy_Returns_RM mean = -3.4876500965847496e-07, std = 0.0020174031540246893\n",
            "Debug: Cumulative_Returns_RM final = 0.9943877907930166\n",
            "Debug: signal_df shape = (2361, 18)\n",
            "Debug: Number of NaN in Predicted_ZScore = 0\n",
            "Debug: volatility shape = (2381,)\n",
            "Debug: Position value counts = {0: 1475, 1: 443, -1: 443}\n",
            "Debug: Total time steps with non-zero positions = 886\n",
            "Debug: Total trades triggered (entry/exit cycles) = 508\n",
            "Debug: signal_df shape for OLS = (2361, 25)\n",
            "Debug: Number of NaN in Predicted_ZScore for OLS = 0\n",
            "Debug: Anomaly threshold (95th percentile) = 0.0044876596236831925\n",
            "Debug: Total trades triggered (entry/exit cycles) = 508\n",
            "Debug: Position value counts = {0: 1475, 1: 443, -1: 443}\n",
            "Debug: Total time steps with non-zero positions = 886\n",
            "Debug: Total trades executed after risk management (entry/exit cycles) = 500\n",
            "Debug: Position_RM value counts = {0: 1501, -1: 434, 1: 426}\n",
            "Debug: Total time steps with non-zero positions after RM = 860\n",
            "Debug: Strategy_Returns_RM mean = 2.6661135194451646e-05, std = 0.0028073322264122124\n",
            "Debug: Cumulative_Returns_RM final = 1.0551073191197962\n",
            "Debug: signal_df shape = (2361, 18)\n",
            "Debug: Number of NaN in Predicted_ZScore = 0\n",
            "Debug: volatility shape = (2381,)\n",
            "Debug: Position value counts = {0: 2111, -1: 138, 1: 112}\n",
            "Debug: Total time steps with non-zero positions = 250\n",
            "Debug: Total trades triggered (entry/exit cycles) = 29\n",
            "Debug: Anomaly threshold (95th percentile) = 0.0044876596236831925\n",
            "Debug: Total trades triggered (entry/exit cycles) = 29\n",
            "Debug: Position value counts = {0: 2111, -1: 138, 1: 112}\n",
            "Debug: Total time steps with non-zero positions = 250\n",
            "Debug: Total trades executed after risk management (entry/exit cycles) = 27\n",
            "Debug: Position_RM value counts = {0: 2277, 1: 48, -1: 36}\n",
            "Debug: Total time steps with non-zero positions after RM = 84\n",
            "Debug: Strategy_Returns_RM mean = 5.092763245976352e-06, std = 0.0009348141364367384\n",
            "Debug: Cumulative_Returns_RM final = 1.011053449730013\n",
            "Updated CONFIG with Ensemble thresholds: entry_threshold = 2.9000000000000004, exit_threshold = 0.8, hold_period = 3\n"
          ]
        }
      ],
      "source": [
        "# Define apply_risk_management first\n",
        "def apply_risk_management(df: pd.DataFrame, max_position: float, hold_period: int, transaction_cost: float = 0.0001) -> pd.DataFrame:\n",
        "    df = df.copy()\n",
        "    # Rename Reconstruction_Error to Anomaly_Score for consistency\n",
        "    df['Anomaly_Score'] = df['Reconstruction_Error'].fillna(df['Reconstruction_Error'].mean())\n",
        "\n",
        "    anomaly_threshold = np.percentile(df['Anomaly_Score'], 95)\n",
        "    print(f\"Debug: Anomaly threshold (95th percentile) = {anomaly_threshold}\")\n",
        "\n",
        "    # Apply anomaly filter using LSTM Autoencoder scores\n",
        "    df['Position_RM'] = np.where(df['Anomaly_Score'] > anomaly_threshold, 0, df['Position'])\n",
        "\n",
        "    # Enforce hold period using the tuned value\n",
        "    df['Position_RM'] = np.where(df['Hold_Period'] > hold_period, 0, df['Position_RM'])\n",
        "\n",
        "    # Clip positions to max_position\n",
        "    df['Position_RM'] = df['Position_RM'].clip(-max_position, max_position)\n",
        "\n",
        "    # Calculate returns\n",
        "    df['Strategy_Returns_RM'] = df['Position_RM'].shift() * df['Close'].pct_change()\n",
        "    position_changes = df['Position_RM'].diff().abs()\n",
        "    df['Strategy_Returns_RM'] -= position_changes * transaction_cost\n",
        "    df['Strategy_Returns_RM'] = df['Strategy_Returns_RM'].fillna(0)\n",
        "    df['Cumulative_Returns_RM'] = (1 + df['Strategy_Returns_RM']).cumprod()\n",
        "\n",
        "    # Debug outputs\n",
        "    trade_starts = ((df['Position'].shift() == 0) & (df['Position'] != 0)).sum()\n",
        "    print(f\"Debug: Total trades triggered (entry/exit cycles) = {trade_starts}\")\n",
        "    print(f\"Debug: Position value counts = {df['Position'].value_counts().to_dict()}\")\n",
        "    print(f\"Debug: Total time steps with non-zero positions = {(df['Position'] != 0).sum()}\")\n",
        "\n",
        "    rm_trade_starts = ((df['Position_RM'].shift() == 0) & (df['Position_RM'] != 0)).sum()\n",
        "    print(f\"Debug: Total trades executed after risk management (entry/exit cycles) = {rm_trade_starts}\")\n",
        "    print(f\"Debug: Position_RM value counts = {df['Position_RM'].value_counts().to_dict()}\")\n",
        "    print(f\"Debug: Total time steps with non-zero positions after RM = {(df['Position_RM'] != 0).sum()}\")\n",
        "\n",
        "    print(f\"Debug: Strategy_Returns_RM mean = {df['Strategy_Returns_RM'].mean()}, std = {df['Strategy_Returns_RM'].std()}\")\n",
        "    print(f\"Debug: Cumulative_Returns_RM final = {df['Cumulative_Returns_RM'].iloc[-1]}\")\n",
        "\n",
        "    return df\n",
        "\n",
        "# Dictionary to store best thresholds for each model\n",
        "best_thresholds = {}\n",
        "\n",
        "# Objective function to tune entry_threshold, exit_threshold, and hold_period\n",
        "def objective(trial, predictions, model_name):\n",
        "    entry_threshold = trial.suggest_float('entry_threshold', 0.5, 3.0, step=0.1)\n",
        "    exit_threshold = trial.suggest_float('exit_threshold', 0.1, 1.0, step=0.1)\n",
        "    hold_period = trial.suggest_int('hold_period', 3, 15)\n",
        "\n",
        "    # Generate signals with tuned parameters\n",
        "    signal_df = generate_signals(data.copy(), predictions, data['Volatility'], entry_threshold, exit_threshold, hold_period)\n",
        "\n",
        "    # Apply risk management\n",
        "    rm_df = apply_risk_management(signal_df, CONFIG['max_position'], hold_period, transaction_cost=0.0001)\n",
        "\n",
        "    # Objective: Maximize cumulative return\n",
        "    cumulative_return = rm_df['Cumulative_Returns_RM'].iloc[-1] - 1\n",
        "    return cumulative_return\n",
        "\n",
        "# Tune thresholds for each individual model\n",
        "for model_name, prediction in predictions.items():\n",
        "    print(f\"\\nTuning thresholds for {model_name}...\")\n",
        "    study = optuna.create_study(direction='maximize')\n",
        "    study.optimize(lambda trial: objective(trial, prediction, model_name), n_trials=20)\n",
        "\n",
        "    best_params = study.best_params\n",
        "    best_thresholds[model_name] = {\n",
        "        'entry_threshold': best_params['entry_threshold'],\n",
        "        'exit_threshold': best_params['exit_threshold'],\n",
        "        'hold_period': best_params['hold_period']\n",
        "    }\n",
        "    print(f\"Best parameters for {model_name}: entry_threshold = {best_params['entry_threshold']}, \"\n",
        "          f\"exit_threshold = {best_params['exit_threshold']}, hold_period = {best_params['hold_period']}\")\n",
        "    print(f\"Best cumulative return for {model_name}: {study.best_value}\")\n",
        "\n",
        "# Tune thresholds for the ensemble model\n",
        "print(\"\\nTuning thresholds for Ensemble...\")\n",
        "ensemble_predictions = np.nanmean([preds for model_name, preds in predictions.items()], axis=0)\n",
        "study = optuna.create_study(direction='maximize')\n",
        "study.optimize(lambda trial: objective(trial, ensemble_predictions, 'Ensemble'), n_trials=20)\n",
        "\n",
        "best_params = study.best_params\n",
        "best_thresholds['Ensemble'] = {\n",
        "    'entry_threshold': best_params['entry_threshold'],\n",
        "    'exit_threshold': best_params['exit_threshold'],\n",
        "    'hold_period': best_params['hold_period']\n",
        "}\n",
        "print(f\"Best parameters for Ensemble: entry_threshold = {best_params['entry_threshold']}, \"\n",
        "      f\"exit_threshold = {best_params['exit_threshold']}, hold_period = {best_params['hold_period']}\")\n",
        "print(f\"Best cumulative return for Ensemble: {study.best_value}\")\n",
        "\n",
        "# Apply risk management to each model's signals using their tuned thresholds\n",
        "risk_managed_results = {}\n",
        "for model_name, prediction in predictions.items():\n",
        "    entry_threshold = best_thresholds[model_name]['entry_threshold']\n",
        "    exit_threshold = best_thresholds[model_name]['exit_threshold']\n",
        "    hold_period = best_thresholds[model_name]['hold_period']\n",
        "    signal_df = generate_signals(data, prediction, data['Volatility'], entry_threshold, exit_threshold, hold_period)\n",
        "    print(f\"Debug: signal_df shape for {model_name} = {signal_df.shape}\")\n",
        "    print(f\"Debug: Number of NaN in Predicted_ZScore for {model_name} = {signal_df['Predicted_ZScore'].isna().sum()}\")\n",
        "    rm_df = apply_risk_management(signal_df, CONFIG['max_position'], hold_period, transaction_cost=0.0001)\n",
        "    risk_managed_results[model_name] = rm_df\n",
        "\n",
        "# Apply to ensemble with its tuned thresholds\n",
        "entry_threshold = best_thresholds['Ensemble']['entry_threshold']\n",
        "exit_threshold = best_thresholds['Ensemble']['exit_threshold']\n",
        "hold_period = best_thresholds['Ensemble']['hold_period']\n",
        "ensemble_signal_df = generate_signals(data, ensemble_predictions, data['Volatility'], entry_threshold, exit_threshold, hold_period)\n",
        "ensemble_rm_df = apply_risk_management(ensemble_signal_df, CONFIG['max_position'], hold_period, transaction_cost=0.0001)\n",
        "\n",
        "# Update CONFIG with ensemble thresholds\n",
        "CONFIG['entry_threshold'] = best_thresholds['Ensemble']['entry_threshold']\n",
        "CONFIG['exit_threshold'] = best_thresholds['Ensemble']['exit_threshold']\n",
        "CONFIG['hold_period'] = best_thresholds['Ensemble']['hold_period']\n",
        "print(f\"Updated CONFIG with Ensemble thresholds: entry_threshold = {CONFIG['entry_threshold']}, \"\n",
        "      f\"exit_threshold = {CONFIG['exit_threshold']}, hold_period = {CONFIG['hold_period']}\")\n",
        "\n",
        "# Comment: Reverted to LSTM Autoencoder for anomaly detection, integrating tuned thresholds and hold period updates."
      ]
    },
    {
      "cell_type": "markdown",
      "metadata": {
        "id": "5grs5gIYuLbr"
      },
      "source": [
        "## 14. Performance Evaluation and Visualization"
      ]
    },
    {
      "cell_type": "code",
      "execution_count": null,
      "metadata": {
        "colab": {
          "background_save": true
        },
        "id": "hjgvLtnduLbs",
        "outputId": "21a1a271-534b-461a-ec4d-257670e066cc"
      },
      "outputs": [
        {
          "name": "stderr",
          "output_type": "stream",
          "text": [
            "WARNING:root:Strategy_Returns_RM not found. Computing returns from Cumulative_Returns_RM.\n"
          ]
        },
        {
          "name": "stdout",
          "output_type": "stream",
          "text": [
            "Debug: signal_df shape = (2361, 18)\n",
            "Debug: Number of NaN in Predicted_ZScore = 0\n",
            "Debug: volatility shape = (2381,)\n",
            "Debug: Position value counts = {0: 2111, -1: 138, 1: 112}\n",
            "Debug: Total time steps with non-zero positions = 250\n",
            "Debug: Total trades triggered (entry/exit cycles) = 29\n",
            "Debug: Anomaly threshold (95th percentile) = 0.0044876596236831925\n",
            "Debug: Total trades triggered (entry/exit cycles) = 29\n",
            "Debug: Position value counts = {0: 2111, -1: 138, 1: 112}\n",
            "Debug: Total time steps with non-zero positions = 250\n",
            "Debug: Total trades executed after risk management (entry/exit cycles) = 27\n",
            "Debug: Position_RM value counts = {0: 2277, 1: 48, -1: 36}\n",
            "Debug: Total time steps with non-zero positions after RM = 84\n",
            "Debug: Strategy_Returns_RM mean = 5.092763245976352e-06, std = 0.0009348141364367384\n",
            "Debug: Cumulative_Returns_RM final = 1.011053449730013\n",
            "              Cumulative_Return  Sharpe_Ratio  Sortino_Ratio  Calmar_Ratio  \\\n",
            "Model                                                                        \n",
            "Buy_and_Hold          -0.109553     -0.111265      -0.111197     -0.051925   \n",
            "LSTM                   0.103703      0.336605       0.168272      0.142354   \n",
            "CNN-LSTM              -0.030651     -0.107250      -0.042813     -0.047032   \n",
            "RandomForest           0.053918      0.147455       0.138767      0.027577   \n",
            "XGBoost               -0.005612     -0.002744      -0.001618     -0.004348   \n",
            "OLS                    0.055107      0.150760       0.133724      0.027294   \n",
            "Ensemble               0.011053      0.086483       0.020294      0.036645   \n",
            "\n",
            "              Max_Drawdown  \n",
            "Model                       \n",
            "Buy_and_Hold     -0.235059  \n",
            "LSTM             -0.074373  \n",
            "CNN-LSTM         -0.070530  \n",
            "RandomForest     -0.203824  \n",
            "XGBoost          -0.138114  \n",
            "OLS              -0.210374  \n",
            "Ensemble         -0.032037  \n"
          ]
        },
        {
          "data": {
            "image/png": "[encoded data removed]",
            "text/plain": [
              "<Figure size 1400x600 with 1 Axes>"
            ]
          },
          "metadata": {},
          "output_type": "display_data"
        },
        {
          "name": "stdout",
          "output_type": "stream",
          "text": [
            "\n",
            "=== Model Interpretation ===\n",
            "1. **Model Performance Comparison**:\n",
            "- The ensemble model combines predictions from LSTM, CNN-LSTM, RandomForest, XGBoost, and OLS.\n",
            "- If the ensemble's Sharpe, Sortino, and Calmar ratios are higher than individual models, it indicates improved risk-adjusted returns.\n",
            "- Ensemble Sharpe Ratio: 0.08648254990886307\n",
            "- Best Individual Model Sharpe Ratio: 0.33660472955874937\n",
            "\n",
            "2. **Comparison with Buy-and-Hold**:\n",
            "- The buy-and-hold strategy represents a passive benchmark.\n",
            "- Ensemble Cumulative Return: 0.011053449730012987\n",
            "- Buy-and-Hold Cumulative Return: -0.1095529308683677\n",
            "\n",
            "3. **Risk Management Impact**:\n",
            "- Anomaly-aware trade management adjusts positions based on reconstruction error.\n",
            "- Ensemble Max Drawdown: -0.03203707348289586\n",
            "\n",
            "4. **Tuned Thresholds for Each Model**:\n",
            "- LSTM: entry_threshold = 3.0, exit_threshold = 1.0, hold_period = 11\n",
            "- CNN-LSTM: entry_threshold = 2.1, exit_threshold = 0.9, hold_period = 4\n",
            "- RandomForest: entry_threshold = 0.6, exit_threshold = 0.4, hold_period = 13\n",
            "- XGBoost: entry_threshold = 1.4, exit_threshold = 0.30000000000000004, hold_period = 11\n",
            "- OLS: entry_threshold = 0.7, exit_threshold = 0.1, hold_period = 5\n",
            "- Ensemble: entry_threshold = 2.9000000000000004, exit_threshold = 0.8, hold_period = 3\n"
          ]
        }
      ],
      "source": [
        "def evaluate_performance(df: pd.DataFrame) -> Dict[str, float]:\n",
        "    if 'Strategy_Returns_RM' in df.columns:\n",
        "        returns = df['Strategy_Returns_RM'].fillna(0)\n",
        "        cumulative_returns = df['Cumulative_Returns_RM'].fillna(1)\n",
        "    else:\n",
        "        # For buy-and-hold or cases where Strategy_Returns_RM is missing, compute returns from cumulative returns\n",
        "        logging.warning(\"Strategy_Returns_RM not found. Computing returns from Cumulative_Returns_RM.\")\n",
        "        cumulative_returns = df['Cumulative_Returns_RM'].fillna(1)\n",
        "        returns = cumulative_returns.pct_change().fillna(0)\n",
        "\n",
        "    sharpe_ratio = (returns.mean() * 252) / (returns.std() * np.sqrt(252)) if returns.std() != 0 else 0\n",
        "    sortino = sortino_ratio(returns)\n",
        "    calmar = calmar_ratio(cumulative_returns)\n",
        "    max_drawdown = (cumulative_returns / cumulative_returns.cummax() - 1).min()\n",
        "\n",
        "    return {\n",
        "        'Cumulative_Return': cumulative_returns.iloc[-1] - 1,\n",
        "        'Sharpe_Ratio': sharpe_ratio,\n",
        "        'Sortino_Ratio': sortino,\n",
        "        'Calmar_Ratio': calmar,\n",
        "        'Max_Drawdown': max_drawdown\n",
        "    }\n",
        "\n",
        "def plot_performance(df: pd.DataFrame, label: str, buy_and_hold: pd.Series):\n",
        "    plt.figure(figsize=(14, 6))\n",
        "    plt.plot(df['Date'], df['Cumulative_Returns_RM'], label=f'{label} Strategy', linewidth=2)\n",
        "    # Align buy_and_hold with df['Date'] by trimming to the same length\n",
        "    buy_and_hold_aligned = buy_and_hold.iloc[-len(df):].values\n",
        "    plt.plot(df['Date'], buy_and_hold_aligned, label='Buy and Hold', linestyle='--', linewidth=2)\n",
        "    plt.title(f'{label} Performance vs Buy-and-Hold')\n",
        "    plt.xlabel('Date')\n",
        "    plt.ylabel('Cumulative Returns')\n",
        "    plt.legend()\n",
        "    plt.grid(True)\n",
        "    plt.show()\n",
        "\n",
        "# Calculate Buy-and-Hold benchmark\n",
        "buy_and_hold = (1 + data['Close'].pct_change().fillna(0)).cumprod()\n",
        "buy_and_hold_df = pd.DataFrame({'Date': data['Date'], 'Cumulative_Returns_RM': buy_and_hold})\n",
        "buy_and_hold_metrics = evaluate_performance(buy_and_hold_df)\n",
        "\n",
        "# Evaluate all models\n",
        "performance_metrics = {'Buy_and_Hold': buy_and_hold_metrics}\n",
        "for model_name, rm_df in risk_managed_results.items():\n",
        "    performance_metrics[model_name] = evaluate_performance(rm_df)\n",
        "\n",
        "# Note: This section is redundant since ensemble_rm_df is already computed in Cell 13\n",
        "# But keeping it for consistency with the original code\n",
        "# Ensemble predictions by averaging\n",
        "ensemble_predictions = np.nanmean([preds for model_name, preds in predictions.items()], axis=0)\n",
        "ensemble_signal_df = generate_signals(data, ensemble_predictions, data['Volatility'], CONFIG['entry_threshold'], CONFIG['exit_threshold'], CONFIG['hold_period'])\n",
        "ensemble_rm_df = apply_risk_management(ensemble_signal_df, CONFIG['max_position'], CONFIG['hold_period'], transaction_cost=0.0001)\n",
        "performance_metrics['Ensemble'] = evaluate_performance(ensemble_rm_df)\n",
        "\n",
        "# Display metrics\n",
        "metrics_df = pd.DataFrame.from_dict(performance_metrics, orient='index')\n",
        "metrics_df.index.name = 'Model'\n",
        "print(metrics_df)\n",
        "\n",
        "# Plot ensemble performance\n",
        "plot_performance(ensemble_rm_df, 'Ensemble', buy_and_hold)\n",
        "\n",
        "# Interpretation\n",
        "print(\"\\n=== Model Interpretation ===\")\n",
        "print(\"1. **Model Performance Comparison**:\")\n",
        "print(\"- The ensemble model combines predictions from LSTM, CNN-LSTM, RandomForest, XGBoost, and OLS.\")\n",
        "print(\"- If the ensemble's Sharpe, Sortino, and Calmar ratios are higher than individual models, it indicates improved risk-adjusted returns.\")\n",
        "print(f\"- Ensemble Sharpe Ratio: {performance_metrics['Ensemble']['Sharpe_Ratio']}\")\n",
        "print(f\"- Best Individual Model Sharpe Ratio: {max([metrics['Sharpe_Ratio'] for model, metrics in performance_metrics.items() if model != 'Ensemble' and model != 'Buy_and_Hold'])}\")\n",
        "\n",
        "print(\"\\n2. **Comparison with Buy-and-Hold**:\")\n",
        "print(\"- The buy-and-hold strategy represents a passive benchmark.\")\n",
        "print(f\"- Ensemble Cumulative Return: {performance_metrics['Ensemble']['Cumulative_Return']}\")\n",
        "print(f\"- Buy-and-Hold Cumulative Return: {performance_metrics['Buy_and_Hold']['Cumulative_Return']}\")\n",
        "\n",
        "print(\"\\n3. **Risk Management Impact**:\")\n",
        "print(\"- Anomaly-aware trade management adjusts positions based on reconstruction error.\")\n",
        "print(f\"- Ensemble Max Drawdown: {performance_metrics['Ensemble']['Max_Drawdown']}\")\n",
        "\n",
        "print(\"\\n4. **Tuned Thresholds for Each Model**:\")\n",
        "for model_name in best_thresholds.keys():\n",
        "    print(f\"- {model_name}: entry_threshold = {best_thresholds[model_name]['entry_threshold']}, \"\n",
        "          f\"exit_threshold = {best_thresholds[model_name]['exit_threshold']}, \"\n",
        "          f\"hold_period = {best_thresholds[model_name]['hold_period']}\")\n",
        "\n",
        "# Comment: Updated interpretation to include hold_period in the tuned thresholds display."
      ]
    },
    {
      "cell_type": "code",
      "execution_count": null,
      "metadata": {
        "colab": {
          "background_save": true
        },
        "id": "fbPAuq1idjfP"
      },
      "outputs": [],
      "source": [
        "\n"
      ]
    },
    {
      "cell_type": "code",
      "execution_count": null,
      "metadata": {
        "colab": {
          "background_save": true
        },
        "id": "uGgbWKLD7KeP"
      },
      "outputs": [],
      "source": []
    }
  ],
  "metadata": {
    "colab": {
      "provenance": []
    },
    "deepnote_notebook_id": "ce09c77bd62c46d2af2cf312548d2b8d",
    "kernelspec": {
      "display_name": "Python 3",
      "language": "python",
      "name": "python3"
    },
    "language_info": {
      "codemirror_mode": {
        "name": "ipython",
        "version": 3
      },
      "file_extension": ".py",
      "mimetype": "text/x-python",
      "name": "python",
      "nbconvert_exporter": "python",
      "pygments_lexer": "ipython3",
      "version": "3.11.0"
    }
  },
  "nbformat": 4,
  "nbformat_minor": 0
}